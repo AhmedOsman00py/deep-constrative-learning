{
 "cells": [
  {
   "cell_type": "markdown",
   "metadata": {
    "id": "9w4eAd3acr95"
   },
   "source": [
    "# La baseline "
   ]
  },
  {
   "cell_type": "code",
   "execution_count": 7,
   "metadata": {
    "id": "RevYrq4IJRks"
   },
   "outputs": [],
   "source": [
    "import scipy\n",
    "import numpy as np # manipulate N-dimensional arrays\n",
    "import pandas as pd # data frame\n",
    "import matplotlib.pyplot as plt # data plotting\n",
    "import matplotlib.gridspec as gridspec\n",
    "import seaborn # advanced data plotting\n",
    "from sklearn import preprocessing # basic ML models\n",
    "# import scipy # scientific computing library\n",
    "from tqdm import tqdm #progress bar\n",
    "\n",
    "import time\n",
    "import os\n",
    "import pickle\n",
    "\n",
    "import torch"
   ]
  },
  {
   "cell_type": "code",
   "execution_count": 8,
   "metadata": {
    "colab": {
     "base_uri": "https://localhost:8080/"
    },
    "id": "tx9ST9zSJ2gY",
    "outputId": "2bf782a4-87be-42ce-c10c-331d41db3e06"
   },
   "outputs": [
    {
     "name": "stdout",
     "output_type": "stream",
     "text": [
      "Using cuda:0 device\n"
     ]
    }
   ],
   "source": [
    "torch.cuda.is_available()\n",
    "device = \"cuda:0\" if torch.cuda.is_available() else \"cpu\" #0 indicates the GPU you gonna use \n",
    "print(f\"Using {device} device\")"
   ]
  },
  {
   "cell_type": "code",
   "execution_count": 9,
   "metadata": {
    "colab": {
     "base_uri": "https://localhost:8080/",
     "height": 423,
     "referenced_widgets": [
      "b10115e4e59e4b70b64acdebc39bcfeb",
      "351720002b6d4d4bafbc6ce516eceaab",
      "47e43892f5a94d3997395b215f7bcae2",
      "ace67590cc10450a910332cbf78b7227",
      "86d30cb5e4674bbf9cc3e9598b1b7bf0",
      "1de95514e6e44e1cad7e4db4c32955e8",
      "15610c025065423caae41872fc94ad84",
      "27d25a9d4af041a5a85bde74e254b841",
      "77df4a92b4db413caa857bf48ceb04fb",
      "52ffc2e3e82c46debd116513a6c5ab36",
      "238ce3210faa4043bfff406cda224826",
      "60225ae08ed844e8a59047f84ae9ca63",
      "d5521377e94c49dc84a9ea9636dca033",
      "a7449b0d128041059b665f7ce467b569",
      "3967c0c728e8428a9e75eb7336bfd5b5",
      "66c69bc6e79446158ffce41fc0aad3ef",
      "cb74399075c044adaf752d33d27802c1",
      "338d9174edb24a4194964aa7e20376bf",
      "e5a0c0913ace4ae880f5bc2bab6c2944",
      "e134af209509487d997e2ef474bdee42",
      "baa31ed35b0b480c99f0033217e8721d",
      "6dab1426535f493c93674a02836ecb1c",
      "2cde7d27ad9f4c9591de9377daa1060e",
      "68c6d3fed8374f388246bd7ff1f439c4",
      "0134b71117a14f7a8f2eab54773da497",
      "54c5c137597b45eaa51835a061930534",
      "ba16d1be2ccf43d582f51a50813e23c6",
      "f537051a60b7441486ac9b9633e23c35",
      "4f573211f68b4f5393595d26a1f1c713",
      "ff469311cc544a87b7a3551286d58d1c",
      "89ac60fa63634c61b57fac55336d1517",
      "ae810cb2a0b04368b165c1837859f5aa",
      "02b87f6c26f543cf94bf2f96ff66a955",
      "09d9a48af0ab4a24a707271590cfbb91",
      "db18d03b9c974039a6ff3d3a8cb89e26",
      "b1e07f168f1c4b6ea71218b65319a89f",
      "86310708636c46b0a7ba62d2a071fafa",
      "ac9f3c6d030445a986a4c85a99b3ba5c",
      "92bc9fbc26bd433096b0deccb284252c",
      "3598bef66d124f22bd50ff82ebf3062f",
      "504d7b3687454afa86c9394ffc2887ea",
      "a929a5bbfebe4d1ca893f6af96d5c365",
      "5cb368d2e58b4d08a7645461b17a4f59",
      "3080f0a7b3d14dbeae0818cef0e2c359"
     ]
    },
    "id": "CsSKLQPtKGSu",
    "outputId": "0f82d8e5-f409-4cd6-dcc8-e89754dfcd94"
   },
   "outputs": [],
   "source": [
    "from torchvision import datasets\n",
    "from torchvision import transforms\n",
    "\n",
    "\n",
    "transform = transforms.Compose([transforms.ToTensor(),transforms.Normalize((0.5,), (0.5,))])\n",
    "# set transformation\n",
    "\n",
    "traindata = datasets.MNIST(\n",
    "    root='./data',\n",
    "    train=True,\n",
    "    download=True,\n",
    "    transform=transform\n",
    ")\n",
    "\n",
    "testdata = datasets.MNIST(\n",
    "    root='./data',\n",
    "    train=False,\n",
    "    download=True,\n",
    "    transform=transform\n",
    ")"
   ]
  },
  {
   "cell_type": "code",
   "execution_count": 10,
   "metadata": {
    "colab": {
     "base_uri": "https://localhost:8080/",
     "height": 317
    },
    "id": "YryGXjRhKSGb",
    "outputId": "60871fac-8ddf-4858-9822-65322083da77"
   },
   "outputs": [
    {
     "name": "stdout",
     "output_type": "stream",
     "text": [
      "AxesImage(size=(28, 28))\n",
      "60000\n",
      "10000\n"
     ]
    },
    {
     "data": {
      "image/png": "[encoded data removed]",
      "text/plain": [
       "<Figure size 640x480 with 1 Axes>"
      ]
     },
     "metadata": {},
     "output_type": "display_data"
    }
   ],
   "source": [
    "print(plt.imshow(traindata[1][0].view(28,28)))\n",
    "print(len(traindata))\n",
    "print(len(testdata))"
   ]
  },
  {
   "cell_type": "code",
   "execution_count": 11,
   "metadata": {
    "id": "8RVo3_CqKhvZ"
   },
   "outputs": [],
   "source": [
    "from sklearn.model_selection import train_test_split\n",
    "random_state = 2023 #for reproductible results\n",
    "train_indices, labeled_indices = train_test_split(list(range(len(traindata.targets))), test_size=100, stratify=traindata.targets,random_state=random_state)"
   ]
  },
  {
   "cell_type": "code",
   "execution_count": 12,
   "metadata": {
    "id": "MtS6X8eFLhE6"
   },
   "outputs": [],
   "source": [
    "trainset = torch.utils.data.Subset(traindata, train_indices)\n",
    "labeledset = torch.utils.data.Subset(traindata, labeled_indices)"
   ]
  },
  {
   "cell_type": "code",
   "execution_count": 13,
   "metadata": {},
   "outputs": [
    {
     "data": {
      "text/plain": [
       "torch.Size([1, 28, 28])"
      ]
     },
     "execution_count": 13,
     "metadata": {},
     "output_type": "execute_result"
    }
   ],
   "source": [
    "trainset[1][0].shape"
   ]
  },
  {
   "cell_type": "code",
   "execution_count": 70,
   "metadata": {
    "id": "1qoVHCFfL9LS"
   },
   "outputs": [],
   "source": [
    "batch_size_labeled = 50\n",
    "batch_size = 128\n",
    "\n",
    "trainloader = torch.utils.data.DataLoader(trainset, batch_size=batch_size,\n",
    "                                          shuffle=True, num_workers=0)\n",
    "labeledloader = torch.utils.data.DataLoader(labeledset, batch_size=batch_size_labeled,\n",
    "                                         shuffle=False, num_workers=0)\n",
    "testloader = torch.utils.data.DataLoader(testdata, batch_size=batch_size,\n",
    "                                         shuffle=False, num_workers=0)"
   ]
  },
  {
   "cell_type": "code",
   "execution_count": 15,
   "metadata": {
    "id": "7ALQ8F0FMTuK"
   },
   "outputs": [],
   "source": [
    "import torch.nn as nn\n",
    "import torch.nn.functional as F\n",
    "\n",
    "class Net(nn.Module): #must correspond to the previous model set, comme un héritage\n",
    "    def __init__(self):\n",
    "      super(Net, self).__init__()  #pour surpasser l'initialisation de la classe nn.Module\n",
    "      # to fill\n",
    "      self.conv1 = nn.Conv2d(in_channels=1, out_channels=32, kernel_size=3, padding=\"same\") \n",
    "      # the three arguments in_channels,out_channels,kernel_size must be filled, the others are optionnal and have default values\n",
    "      # out_channels correspond to the number of filters\n",
    "      # if heigth=width in the kernel size, just set one value\n",
    "      # stride is set to 0 by default\n",
    "      self.conv2 = nn.Conv2d(in_channels=32, out_channels=32, kernel_size=3, padding=\"same\") \n",
    "      self.pool = nn.MaxPool2d(kernel_size= 2) # pooling layer\n",
    "      self.dp1 = nn.Dropout(p=0.25) # probability of an element to be set to 0.\n",
    "      #self.fc1 = nn.Linear(in_features= 32 * 16 * 16, out_features=512) # fully connected layer\n",
    "      self.fc1 = nn.Linear(in_features= 32 * 14 * 14, out_features=512)\n",
    "      self.dp2 = nn.Dropout(p=0.5) # probability of an element to be set to 0.\n",
    "      self.fc2 = nn.Linear(in_features= 512, out_features=10) # fully connected layer\n",
    "\n",
    "\n",
    "    def forward(self, x):\n",
    "      # to fill with sequential pass through the model\n",
    "      # i.e the input data 'x' must pass sequentially through the layers defined in '__init__'\n",
    "      x = F.relu(self.conv1(x))\n",
    "      x = self.pool(F.relu(self.conv2(x)))\n",
    "      #x = self.dp1(x)\n",
    "      x = torch.flatten(x,1) #flaten all dimensions except batch\n",
    "      #x = self.dp2(F.relu(self.fc1(x)))\n",
    "      x = F.relu(self.fc1(x))\n",
    "      x = self.fc2(x)\n",
    "      return x "
   ]
  },
  {
   "cell_type": "code",
   "execution_count": 11,
   "metadata": {
    "colab": {
     "base_uri": "https://localhost:8080/"
    },
    "id": "e-8-ozoMMxfL",
    "outputId": "c5be4630-5e5d-4fce-8a0f-77b91ebc0701"
   },
   "outputs": [
    {
     "name": "stdout",
     "output_type": "stream",
     "text": [
      "Net(\n",
      "  (conv1): Conv2d(1, 32, kernel_size=(3, 3), stride=(1, 1), padding=same)\n",
      "  (conv2): Conv2d(32, 32, kernel_size=(3, 3), stride=(1, 1), padding=same)\n",
      "  (pool): MaxPool2d(kernel_size=2, stride=2, padding=0, dilation=1, ceil_mode=False)\n",
      "  (dp1): Dropout(p=0.25, inplace=False)\n",
      "  (fc1): Linear(in_features=6272, out_features=512, bias=True)\n",
      "  (dp2): Dropout(p=0.5, inplace=False)\n",
      "  (fc2): Linear(in_features=512, out_features=10, bias=True)\n",
      ")\n"
     ]
    }
   ],
   "source": [
    "model = Net().to(device) \n",
    "print(model)"
   ]
  },
  {
   "cell_type": "code",
   "execution_count": 67,
   "metadata": {
    "id": "B3tuz2GoM544"
   },
   "outputs": [
    {
     "ename": "NameError",
     "evalue": "name 'model' is not defined",
     "output_type": "error",
     "traceback": [
      "\u001b[1;31m---------------------------------------------------------------------------\u001b[0m",
      "\u001b[1;31mNameError\u001b[0m                                 Traceback (most recent call last)",
      "Cell \u001b[1;32mIn[67], line 5\u001b[0m\n\u001b[0;32m      3\u001b[0m output_fn \u001b[38;5;241m=\u001b[39m torch\u001b[38;5;241m.\u001b[39mnn\u001b[38;5;241m.\u001b[39mSoftmax(dim\u001b[38;5;241m=\u001b[39m\u001b[38;5;241m1\u001b[39m)\n\u001b[0;32m      4\u001b[0m criterion \u001b[38;5;241m=\u001b[39m nn\u001b[38;5;241m.\u001b[39mCrossEntropyLoss()\n\u001b[1;32m----> 5\u001b[0m optimizer \u001b[38;5;241m=\u001b[39m optim\u001b[38;5;241m.\u001b[39mAdam(\u001b[43mmodel\u001b[49m\u001b[38;5;241m.\u001b[39mparameters(), lr\u001b[38;5;241m=\u001b[39m\u001b[38;5;241m0.01\u001b[39m)\n",
      "\u001b[1;31mNameError\u001b[0m: name 'model' is not defined"
     ]
    }
   ],
   "source": [
    "import torch.optim as optim\n",
    "\n",
    "output_fn = torch.nn.Softmax(dim=1)\n",
    "criterion = nn.CrossEntropyLoss()\n",
    "optimizer = optim.Adam(model.parameters(), lr=0.01)"
   ]
  },
  {
   "cell_type": "code",
   "execution_count": 69,
   "metadata": {
    "id": "QY4zEjHpM9Mi"
   },
   "outputs": [],
   "source": [
    "def get_accuracy(y_true, y_pred):\n",
    "    return int(np.sum(np.equal(y_true,y_pred))) / y_true.shape[0]"
   ]
  },
  {
   "cell_type": "code",
   "execution_count": 14,
   "metadata": {
    "id": "u539feHCNBaN"
   },
   "outputs": [],
   "source": [
    "from tqdm import tqdm\n",
    "\n",
    "\n",
    "def train_func(train_loader, val_loader, model=None, epochs:int=None, optimizer=None, criterion=None):\n",
    "\n",
    "  loss_valid,acc_valid =[],[]\n",
    "  loss_train,acc_train =[],[]\n",
    "\n",
    "  for epoch in tqdm(range(epochs)):\n",
    "\n",
    "    # Training\n",
    "    model.train()\n",
    "    running_loss = 0.0\n",
    "    for idx,batch in enumerate(train_loader):\n",
    "\n",
    "      # get the inputs; batch is a list of [inputs, labels]\n",
    "      inputs,labels=batch\n",
    "      inputs=inputs.to(device) #train on GPU\n",
    "      labels=labels.to(device)\n",
    "\n",
    "      # zero the parameter gradients\n",
    "      optimizer.zero_grad()\n",
    "\n",
    "      # forward + backward + optimize\n",
    "      out = model(x=inputs)\n",
    "      loss = criterion(out, labels)\n",
    "      loss.backward()\n",
    "      optimizer.step()\n",
    "\n",
    "    # compute loss and accuracy after an epoch on the train and valid set\n",
    "    model.eval()  \n",
    "    with torch.no_grad(): # since we're not training, we don't need to calculate the gradients for our outputs\n",
    "      idx = 0\n",
    "      for batch in val_loader:\n",
    "        inputs,labels=batch\n",
    "        inputs=inputs.to(device)\n",
    "        labels=labels.to(device)\n",
    "        if idx==0:\n",
    "          t_out = model(x=inputs)\n",
    "          t_loss = criterion(t_out, labels).view(1).item()\n",
    "          t_out = output_fn(t_out).detach().cpu().numpy()\n",
    "          t_out=t_out.argmax(axis=1)  # the class with the highest energy is what we choose as prediction                       \n",
    "          ground_truth = labels.detach().cpu().numpy()\n",
    "        else:\n",
    "          out = model(x=inputs)\n",
    "          t_loss = np.hstack((t_loss,criterion(out, labels).item())) \n",
    "          t_out = np.hstack((t_out,output_fn(out).argmax(axis=1).detach().cpu().numpy()))\n",
    "          ground_truth = np.hstack((ground_truth,labels.detach().cpu().numpy()))\n",
    "        idx+=1\n",
    "\n",
    "      acc_valid.append(get_accuracy(ground_truth,t_out))\n",
    "      loss_valid.append(np.mean(t_loss))\n",
    "\n",
    "    with torch.no_grad():\n",
    "      idx = 0\n",
    "      for batch in train_loader:\n",
    "        inputs,labels=batch\n",
    "        inputs=inputs.to(device)\n",
    "        labels=labels.to(device)\n",
    "        if idx==0:\n",
    "          t_out = model(x=inputs)\n",
    "          t_loss = criterion(t_out, labels).view(1).item()\n",
    "          t_out = output_fn(t_out).detach().cpu().numpy()\n",
    "          t_out=t_out.argmax(axis=1)\n",
    "          ground_truth = labels.detach().cpu().numpy()\n",
    "        else:\n",
    "          out = model(x=inputs)\n",
    "          t_loss = np.hstack((t_loss,criterion(out, labels).item()))\n",
    "          t_out = np.hstack((t_out,output_fn(out).argmax(axis=1).detach().cpu().numpy()))   \n",
    "          ground_truth = np.hstack((ground_truth,labels.detach().cpu().numpy()))\n",
    "        idx+=1\n",
    "\n",
    "    acc_train.append(get_accuracy(ground_truth,t_out))\n",
    "    loss_train.append(np.mean(t_loss))\n",
    "\n",
    "    print('| Epoch: {}/{} | Train: Loss {:.4f} Accuracy : {:.4f} '\\\n",
    "      '| Val: Loss {:.4f} Accuracy : {:.4f}\\n'.format(epoch+1,epochs,loss_train[epoch],acc_train[epoch],loss_valid[epoch],acc_valid[epoch]))\n",
    "    \n",
    "\n",
    "  return model, (loss_train, acc_train, loss_valid, acc_valid)"
   ]
  },
  {
   "cell_type": "code",
   "execution_count": 190,
   "metadata": {
    "colab": {
     "base_uri": "https://localhost:8080/"
    },
    "id": "awzbwymsNM4C",
    "outputId": "70cbc6be-e8e0-41dd-b789-afe8ff21c691"
   },
   "outputs": [
    {
     "name": "stderr",
     "output_type": "stream",
     "text": [
      "  5%|▌         | 1/20 [00:02<00:40,  2.11s/it]"
     ]
    },
    {
     "name": "stdout",
     "output_type": "stream",
     "text": [
      "| Epoch: 1/20 | Train: Loss 5.8189 Accuracy : 0.1400 | Val: Loss 6.2400 Accuracy : 0.1178\n",
      "\n"
     ]
    },
    {
     "name": "stderr",
     "output_type": "stream",
     "text": [
      " 10%|█         | 2/20 [00:04<00:37,  2.07s/it]"
     ]
    },
    {
     "name": "stdout",
     "output_type": "stream",
     "text": [
      "| Epoch: 2/20 | Train: Loss 1.4906 Accuracy : 0.6800 | Val: Loss 1.7558 Accuracy : 0.4596\n",
      "\n"
     ]
    },
    {
     "name": "stderr",
     "output_type": "stream",
     "text": [
      " 15%|█▌        | 3/20 [00:06<00:34,  2.05s/it]"
     ]
    },
    {
     "name": "stdout",
     "output_type": "stream",
     "text": [
      "| Epoch: 3/20 | Train: Loss 0.5859 Accuracy : 0.8600 | Val: Loss 1.1314 Accuracy : 0.6478\n",
      "\n"
     ]
    },
    {
     "name": "stderr",
     "output_type": "stream",
     "text": [
      " 20%|██        | 4/20 [00:08<00:33,  2.08s/it]"
     ]
    },
    {
     "name": "stdout",
     "output_type": "stream",
     "text": [
      "| Epoch: 4/20 | Train: Loss 0.1525 Accuracy : 0.9600 | Val: Loss 0.9734 Accuracy : 0.7516\n",
      "\n"
     ]
    },
    {
     "name": "stderr",
     "output_type": "stream",
     "text": [
      " 25%|██▌       | 5/20 [00:10<00:30,  2.06s/it]"
     ]
    },
    {
     "name": "stdout",
     "output_type": "stream",
     "text": [
      "| Epoch: 5/20 | Train: Loss 0.0288 Accuracy : 0.9900 | Val: Loss 1.1312 Accuracy : 0.7648\n",
      "\n"
     ]
    },
    {
     "name": "stderr",
     "output_type": "stream",
     "text": [
      " 30%|███       | 6/20 [00:12<00:28,  2.05s/it]"
     ]
    },
    {
     "name": "stdout",
     "output_type": "stream",
     "text": [
      "| Epoch: 6/20 | Train: Loss 0.0644 Accuracy : 0.9900 | Val: Loss 1.7208 Accuracy : 0.7293\n",
      "\n"
     ]
    },
    {
     "name": "stderr",
     "output_type": "stream",
     "text": [
      " 35%|███▌      | 7/20 [00:14<00:26,  2.05s/it]"
     ]
    },
    {
     "name": "stdout",
     "output_type": "stream",
     "text": [
      "| Epoch: 7/20 | Train: Loss 0.0034 Accuracy : 1.0000 | Val: Loss 1.7424 Accuracy : 0.7746\n",
      "\n"
     ]
    },
    {
     "name": "stderr",
     "output_type": "stream",
     "text": [
      " 40%|████      | 8/20 [00:16<00:24,  2.03s/it]"
     ]
    },
    {
     "name": "stdout",
     "output_type": "stream",
     "text": [
      "| Epoch: 8/20 | Train: Loss 0.0068 Accuracy : 1.0000 | Val: Loss 2.1332 Accuracy : 0.7545\n",
      "\n"
     ]
    },
    {
     "name": "stderr",
     "output_type": "stream",
     "text": [
      " 45%|████▌     | 9/20 [00:18<00:22,  2.02s/it]"
     ]
    },
    {
     "name": "stdout",
     "output_type": "stream",
     "text": [
      "| Epoch: 9/20 | Train: Loss 0.0003 Accuracy : 1.0000 | Val: Loss 2.3808 Accuracy : 0.7540\n",
      "\n"
     ]
    },
    {
     "name": "stderr",
     "output_type": "stream",
     "text": [
      " 50%|█████     | 10/20 [00:20<00:20,  2.02s/it]"
     ]
    },
    {
     "name": "stdout",
     "output_type": "stream",
     "text": [
      "| Epoch: 10/20 | Train: Loss 0.0005 Accuracy : 1.0000 | Val: Loss 2.7121 Accuracy : 0.7475\n",
      "\n"
     ]
    },
    {
     "name": "stderr",
     "output_type": "stream",
     "text": [
      " 55%|█████▌    | 11/20 [00:22<00:18,  2.03s/it]"
     ]
    },
    {
     "name": "stdout",
     "output_type": "stream",
     "text": [
      "| Epoch: 11/20 | Train: Loss 0.0001 Accuracy : 1.0000 | Val: Loss 2.9541 Accuracy : 0.7469\n",
      "\n"
     ]
    },
    {
     "name": "stderr",
     "output_type": "stream",
     "text": [
      " 60%|██████    | 12/20 [00:24<00:16,  2.01s/it]"
     ]
    },
    {
     "name": "stdout",
     "output_type": "stream",
     "text": [
      "| Epoch: 12/20 | Train: Loss 0.0000 Accuracy : 1.0000 | Val: Loss 3.1651 Accuracy : 0.7480\n",
      "\n"
     ]
    },
    {
     "name": "stderr",
     "output_type": "stream",
     "text": [
      " 65%|██████▌   | 13/20 [00:26<00:14,  2.01s/it]"
     ]
    },
    {
     "name": "stdout",
     "output_type": "stream",
     "text": [
      "| Epoch: 13/20 | Train: Loss 0.0000 Accuracy : 1.0000 | Val: Loss 3.3670 Accuracy : 0.7480\n",
      "\n"
     ]
    },
    {
     "name": "stderr",
     "output_type": "stream",
     "text": [
      " 70%|███████   | 14/20 [00:28<00:12,  2.02s/it]"
     ]
    },
    {
     "name": "stdout",
     "output_type": "stream",
     "text": [
      "| Epoch: 14/20 | Train: Loss 0.0000 Accuracy : 1.0000 | Val: Loss 3.5571 Accuracy : 0.7456\n",
      "\n"
     ]
    },
    {
     "name": "stderr",
     "output_type": "stream",
     "text": [
      " 75%|███████▌  | 15/20 [00:30<00:10,  2.03s/it]"
     ]
    },
    {
     "name": "stdout",
     "output_type": "stream",
     "text": [
      "| Epoch: 15/20 | Train: Loss 0.0000 Accuracy : 1.0000 | Val: Loss 3.7317 Accuracy : 0.7435\n",
      "\n"
     ]
    },
    {
     "name": "stderr",
     "output_type": "stream",
     "text": [
      " 80%|████████  | 16/20 [00:32<00:08,  2.05s/it]"
     ]
    },
    {
     "name": "stdout",
     "output_type": "stream",
     "text": [
      "| Epoch: 16/20 | Train: Loss 0.0000 Accuracy : 1.0000 | Val: Loss 3.8851 Accuracy : 0.7411\n",
      "\n"
     ]
    },
    {
     "name": "stderr",
     "output_type": "stream",
     "text": [
      " 85%|████████▌ | 17/20 [00:35<00:06,  2.33s/it]"
     ]
    },
    {
     "name": "stdout",
     "output_type": "stream",
     "text": [
      "| Epoch: 17/20 | Train: Loss 0.0000 Accuracy : 1.0000 | Val: Loss 4.0173 Accuracy : 0.7396\n",
      "\n"
     ]
    },
    {
     "name": "stderr",
     "output_type": "stream",
     "text": [
      " 90%|█████████ | 18/20 [00:38<00:04,  2.37s/it]"
     ]
    },
    {
     "name": "stdout",
     "output_type": "stream",
     "text": [
      "| Epoch: 18/20 | Train: Loss 0.0000 Accuracy : 1.0000 | Val: Loss 4.1248 Accuracy : 0.7390\n",
      "\n"
     ]
    },
    {
     "name": "stderr",
     "output_type": "stream",
     "text": [
      " 95%|█████████▌| 19/20 [00:40<00:02,  2.27s/it]"
     ]
    },
    {
     "name": "stdout",
     "output_type": "stream",
     "text": [
      "| Epoch: 19/20 | Train: Loss 0.0000 Accuracy : 1.0000 | Val: Loss 4.2071 Accuracy : 0.7388\n",
      "\n"
     ]
    },
    {
     "name": "stderr",
     "output_type": "stream",
     "text": [
      "100%|██████████| 20/20 [00:42<00:00,  2.11s/it]"
     ]
    },
    {
     "name": "stdout",
     "output_type": "stream",
     "text": [
      "| Epoch: 20/20 | Train: Loss 0.0000 Accuracy : 1.0000 | Val: Loss 4.2647 Accuracy : 0.7379\n",
      "\n"
     ]
    },
    {
     "name": "stderr",
     "output_type": "stream",
     "text": [
      "\n"
     ]
    }
   ],
   "source": [
    "epochs = 10\n",
    "\n",
    "args_train = {\"train_loader\" : labeledloader,\n",
    "              \"val_loader\" : testloader,\n",
    "              \"model\" : model,\n",
    "              \"epochs\" : epochs,\n",
    "              \"optimizer\" : optimizer,\n",
    "              \"criterion\" : criterion}\n",
    "\n",
    "net, (loss_train, acc_train, loss_valid, acc_valid) = train_func(**args_train)"
   ]
  },
  {
   "cell_type": "markdown",
   "metadata": {},
   "source": [
    "To save the model"
   ]
  },
  {
   "cell_type": "code",
   "execution_count": null,
   "metadata": {},
   "outputs": [],
   "source": [
    "#PATH = './basic_model.pth'\n",
    "#torch.save(net.state_dict(), PATH)"
   ]
  },
  {
   "cell_type": "code",
   "execution_count": 192,
   "metadata": {
    "colab": {
     "base_uri": "https://localhost:8080/",
     "height": 513
    },
    "id": "GjpaQsmBS-5i",
    "outputId": "3ea495ce-774e-45a3-fafc-17b24835ebef"
   },
   "outputs": [
    {
     "data": {
      "image/png": "[encoded data removed]",
      "text/plain": [
       "<Figure size 1152x576 with 2 Axes>"
      ]
     },
     "metadata": {
      "needs_background": "light"
     },
     "output_type": "display_data"
    }
   ],
   "source": [
    "plt.figure(figsize=(16,8))\n",
    "\n",
    "plt.subplot(1,2,1)\n",
    "plt.plot(range(1,epochs + 1), loss_train, label=\"train loss\" )\n",
    "plt.plot(range(1, epochs +1), loss_valid, label=\"valid loss\")\n",
    "plt.xlabel(\"epochs\")\n",
    "plt.ylabel(\"Loss\")\n",
    "plt.title(\"Loss functions\")\n",
    "plt.legend()\n",
    "\n",
    "plt.subplot(1,2,2)\n",
    "plt.plot(range(1,epochs + 1), acc_train, label=\"train accuracy\" )\n",
    "plt.plot(range(1, epochs +1), acc_valid, label=\"valid accuracy\")\n",
    "plt.xlabel(\"epochs\")\n",
    "plt.ylabel(\"accuracy\")\n",
    "plt.title(\"Accuracy functions\")\n",
    "plt.legend()\n",
    "\n",
    "#plt.savefig(\"Metrics functins basic model.png\")\n",
    "plt.show()"
   ]
  },
  {
   "cell_type": "code",
   "execution_count": 19,
   "metadata": {
    "id": "8PPzJGqNdXjk"
   },
   "outputs": [
    {
     "name": "stderr",
     "output_type": "stream",
     "text": [
      "  8%|██████▉                                                                            | 1/12 [00:05<01:00,  5.49s/it]"
     ]
    },
    {
     "name": "stdout",
     "output_type": "stream",
     "text": [
      "| Epoch: 1/12 | Train: Loss 2.3017 Accuracy : 0.1000 | Val: Loss 2.3033 Accuracy : 0.1010\n",
      "\n"
     ]
    },
    {
     "name": "stderr",
     "output_type": "stream",
     "text": [
      " 17%|█████████████▊                                                                     | 2/12 [00:10<00:53,  5.31s/it]"
     ]
    },
    {
     "name": "stdout",
     "output_type": "stream",
     "text": [
      "| Epoch: 2/12 | Train: Loss 2.3003 Accuracy : 0.1000 | Val: Loss 2.3042 Accuracy : 0.0980\n",
      "\n"
     ]
    },
    {
     "name": "stderr",
     "output_type": "stream",
     "text": [
      " 25%|████████████████████▊                                                              | 3/12 [00:15<00:46,  5.22s/it]"
     ]
    },
    {
     "name": "stdout",
     "output_type": "stream",
     "text": [
      "| Epoch: 3/12 | Train: Loss 2.2978 Accuracy : 0.1000 | Val: Loss 2.3042 Accuracy : 0.0980\n",
      "\n"
     ]
    },
    {
     "name": "stderr",
     "output_type": "stream",
     "text": [
      " 33%|███████████████████████████▋                                                       | 4/12 [00:20<00:41,  5.20s/it]"
     ]
    },
    {
     "name": "stdout",
     "output_type": "stream",
     "text": [
      "| Epoch: 4/12 | Train: Loss 2.2952 Accuracy : 0.1000 | Val: Loss 2.3043 Accuracy : 0.0980\n",
      "\n"
     ]
    },
    {
     "name": "stderr",
     "output_type": "stream",
     "text": [
      " 42%|██████████████████████████████████▌                                                | 5/12 [00:26<00:36,  5.23s/it]"
     ]
    },
    {
     "name": "stdout",
     "output_type": "stream",
     "text": [
      "| Epoch: 5/12 | Train: Loss 2.2930 Accuracy : 0.1000 | Val: Loss 2.3047 Accuracy : 0.1032\n",
      "\n"
     ]
    },
    {
     "name": "stderr",
     "output_type": "stream",
     "text": [
      " 50%|█████████████████████████████████████████▌                                         | 6/12 [00:31<00:31,  5.27s/it]"
     ]
    },
    {
     "name": "stdout",
     "output_type": "stream",
     "text": [
      "| Epoch: 6/12 | Train: Loss 2.2911 Accuracy : 0.1000 | Val: Loss 2.3055 Accuracy : 0.1032\n",
      "\n"
     ]
    },
    {
     "name": "stderr",
     "output_type": "stream",
     "text": [
      " 58%|████████████████████████████████████████████████▍                                  | 7/12 [00:37<00:26,  5.35s/it]"
     ]
    },
    {
     "name": "stdout",
     "output_type": "stream",
     "text": [
      "| Epoch: 7/12 | Train: Loss 2.2897 Accuracy : 0.1000 | Val: Loss 2.3068 Accuracy : 0.1032\n",
      "\n"
     ]
    },
    {
     "name": "stderr",
     "output_type": "stream",
     "text": [
      " 67%|███████████████████████████████████████████████████████▎                           | 8/12 [00:42<00:21,  5.46s/it]"
     ]
    },
    {
     "name": "stdout",
     "output_type": "stream",
     "text": [
      "| Epoch: 8/12 | Train: Loss 2.2886 Accuracy : 0.1000 | Val: Loss 2.3082 Accuracy : 0.1032\n",
      "\n"
     ]
    },
    {
     "name": "stderr",
     "output_type": "stream",
     "text": [
      " 75%|██████████████████████████████████████████████████████████████▎                    | 9/12 [00:48<00:16,  5.50s/it]"
     ]
    },
    {
     "name": "stdout",
     "output_type": "stream",
     "text": [
      "| Epoch: 9/12 | Train: Loss 2.2879 Accuracy : 0.1000 | Val: Loss 2.3096 Accuracy : 0.1032\n",
      "\n"
     ]
    },
    {
     "name": "stderr",
     "output_type": "stream",
     "text": [
      " 83%|████████████████████████████████████████████████████████████████████▎             | 10/12 [00:54<00:11,  5.77s/it]"
     ]
    },
    {
     "name": "stdout",
     "output_type": "stream",
     "text": [
      "| Epoch: 10/12 | Train: Loss 2.2875 Accuracy : 0.1000 | Val: Loss 2.3109 Accuracy : 0.1032\n",
      "\n"
     ]
    },
    {
     "name": "stderr",
     "output_type": "stream",
     "text": [
      " 92%|███████████████████████████████████████████████████████████████████████████▏      | 11/12 [01:00<00:05,  5.75s/it]"
     ]
    },
    {
     "name": "stdout",
     "output_type": "stream",
     "text": [
      "| Epoch: 11/12 | Train: Loss 2.2873 Accuracy : 0.1000 | Val: Loss 2.3119 Accuracy : 0.1032\n",
      "\n"
     ]
    },
    {
     "name": "stderr",
     "output_type": "stream",
     "text": [
      "100%|██████████████████████████████████████████████████████████████████████████████████| 12/12 [01:05<00:00,  5.49s/it]"
     ]
    },
    {
     "name": "stdout",
     "output_type": "stream",
     "text": [
      "| Epoch: 12/12 | Train: Loss 2.2871 Accuracy : 0.1000 | Val: Loss 2.3127 Accuracy : 0.1032\n",
      "\n",
      "Pour un batch_size égale à 16 on a\n"
     ]
    },
    {
     "name": "stderr",
     "output_type": "stream",
     "text": [
      "\n"
     ]
    },
    {
     "data": {
      "image/png": "[encoded data removed]",
      "text/plain": [
       "<Figure size 1600x800 with 2 Axes>"
      ]
     },
     "metadata": {},
     "output_type": "display_data"
    },
    {
     "name": "stderr",
     "output_type": "stream",
     "text": [
      "  8%|██████▉                                                                            | 1/12 [00:05<00:58,  5.35s/it]"
     ]
    },
    {
     "name": "stdout",
     "output_type": "stream",
     "text": [
      "| Epoch: 1/12 | Train: Loss 2.1541 Accuracy : 0.3000 | Val: Loss 2.2181 Accuracy : 0.2843\n",
      "\n"
     ]
    },
    {
     "name": "stderr",
     "output_type": "stream",
     "text": [
      " 17%|█████████████▊                                                                     | 2/12 [00:10<00:52,  5.28s/it]"
     ]
    },
    {
     "name": "stdout",
     "output_type": "stream",
     "text": [
      "| Epoch: 2/12 | Train: Loss 1.3994 Accuracy : 0.4300 | Val: Loss 1.9697 Accuracy : 0.3506\n",
      "\n"
     ]
    },
    {
     "name": "stderr",
     "output_type": "stream",
     "text": [
      " 25%|████████████████████▊                                                              | 3/12 [00:15<00:46,  5.15s/it]"
     ]
    },
    {
     "name": "stdout",
     "output_type": "stream",
     "text": [
      "| Epoch: 3/12 | Train: Loss 0.6872 Accuracy : 0.7800 | Val: Loss 1.3067 Accuracy : 0.5605\n",
      "\n"
     ]
    },
    {
     "name": "stderr",
     "output_type": "stream",
     "text": [
      " 33%|███████████████████████████▋                                                       | 4/12 [00:20<00:41,  5.16s/it]"
     ]
    },
    {
     "name": "stdout",
     "output_type": "stream",
     "text": [
      "| Epoch: 4/12 | Train: Loss 0.3550 Accuracy : 0.8800 | Val: Loss 1.6369 Accuracy : 0.5910\n",
      "\n"
     ]
    },
    {
     "name": "stderr",
     "output_type": "stream",
     "text": [
      " 42%|██████████████████████████████████▌                                                | 5/12 [00:25<00:35,  5.03s/it]"
     ]
    },
    {
     "name": "stdout",
     "output_type": "stream",
     "text": [
      "| Epoch: 5/12 | Train: Loss 0.1355 Accuracy : 0.9400 | Val: Loss 1.9299 Accuracy : 0.6143\n",
      "\n"
     ]
    },
    {
     "name": "stderr",
     "output_type": "stream",
     "text": [
      " 50%|█████████████████████████████████████████▌                                         | 6/12 [00:30<00:29,  4.99s/it]"
     ]
    },
    {
     "name": "stdout",
     "output_type": "stream",
     "text": [
      "| Epoch: 6/12 | Train: Loss 0.0414 Accuracy : 0.9800 | Val: Loss 1.9301 Accuracy : 0.6700\n",
      "\n"
     ]
    },
    {
     "name": "stderr",
     "output_type": "stream",
     "text": [
      " 58%|████████████████████████████████████████████████▍                                  | 7/12 [00:35<00:24,  4.93s/it]"
     ]
    },
    {
     "name": "stdout",
     "output_type": "stream",
     "text": [
      "| Epoch: 7/12 | Train: Loss 0.0347 Accuracy : 0.9900 | Val: Loss 2.2233 Accuracy : 0.6521\n",
      "\n"
     ]
    },
    {
     "name": "stderr",
     "output_type": "stream",
     "text": [
      " 67%|███████████████████████████████████████████████████████▎                           | 8/12 [00:39<00:19,  4.85s/it]"
     ]
    },
    {
     "name": "stdout",
     "output_type": "stream",
     "text": [
      "| Epoch: 8/12 | Train: Loss 0.0214 Accuracy : 0.9900 | Val: Loss 2.4182 Accuracy : 0.6619\n",
      "\n"
     ]
    },
    {
     "name": "stderr",
     "output_type": "stream",
     "text": [
      " 75%|██████████████████████████████████████████████████████████████▎                    | 9/12 [00:45<00:14,  4.94s/it]"
     ]
    },
    {
     "name": "stdout",
     "output_type": "stream",
     "text": [
      "| Epoch: 9/12 | Train: Loss 0.0237 Accuracy : 0.9900 | Val: Loss 2.3789 Accuracy : 0.6607\n",
      "\n"
     ]
    },
    {
     "name": "stderr",
     "output_type": "stream",
     "text": [
      " 83%|████████████████████████████████████████████████████████████████████▎             | 10/12 [00:50<00:10,  5.16s/it]"
     ]
    },
    {
     "name": "stdout",
     "output_type": "stream",
     "text": [
      "| Epoch: 10/12 | Train: Loss 0.0450 Accuracy : 0.9800 | Val: Loss 2.5749 Accuracy : 0.6035\n",
      "\n"
     ]
    },
    {
     "name": "stderr",
     "output_type": "stream",
     "text": [
      " 92%|███████████████████████████████████████████████████████████████████████████▏      | 11/12 [00:56<00:05,  5.28s/it]"
     ]
    },
    {
     "name": "stdout",
     "output_type": "stream",
     "text": [
      "| Epoch: 11/12 | Train: Loss 0.0190 Accuracy : 0.9900 | Val: Loss 2.4618 Accuracy : 0.6299\n",
      "\n"
     ]
    },
    {
     "name": "stderr",
     "output_type": "stream",
     "text": [
      "100%|██████████████████████████████████████████████████████████████████████████████████| 12/12 [01:01<00:00,  5.15s/it]"
     ]
    },
    {
     "name": "stdout",
     "output_type": "stream",
     "text": [
      "| Epoch: 12/12 | Train: Loss 0.0095 Accuracy : 1.0000 | Val: Loss 2.4527 Accuracy : 0.6282\n",
      "\n",
      "Pour un batch_size égale à 32 on a\n"
     ]
    },
    {
     "name": "stderr",
     "output_type": "stream",
     "text": [
      "\n"
     ]
    },
    {
     "data": {
      "image/png": "[encoded data removed]",
      "text/plain": [
       "<Figure size 1600x800 with 2 Axes>"
      ]
     },
     "metadata": {},
     "output_type": "display_data"
    },
    {
     "name": "stderr",
     "output_type": "stream",
     "text": [
      "  8%|██████▉                                                                            | 1/12 [00:04<00:48,  4.40s/it]"
     ]
    },
    {
     "name": "stdout",
     "output_type": "stream",
     "text": [
      "| Epoch: 1/12 | Train: Loss 7.4219 Accuracy : 0.1000 | Val: Loss 7.5119 Accuracy : 0.0982\n",
      "\n"
     ]
    },
    {
     "name": "stderr",
     "output_type": "stream",
     "text": [
      " 17%|█████████████▊                                                                     | 2/12 [00:08<00:41,  4.18s/it]"
     ]
    },
    {
     "name": "stdout",
     "output_type": "stream",
     "text": [
      "| Epoch: 2/12 | Train: Loss 2.2799 Accuracy : 0.2200 | Val: Loss 2.3002 Accuracy : 0.1765\n",
      "\n"
     ]
    },
    {
     "name": "stderr",
     "output_type": "stream",
     "text": [
      " 25%|████████████████████▊                                                              | 3/12 [00:12<00:37,  4.17s/it]"
     ]
    },
    {
     "name": "stdout",
     "output_type": "stream",
     "text": [
      "| Epoch: 3/12 | Train: Loss 2.0879 Accuracy : 0.3700 | Val: Loss 2.1694 Accuracy : 0.3075\n",
      "\n"
     ]
    },
    {
     "name": "stderr",
     "output_type": "stream",
     "text": [
      " 33%|███████████████████████████▋                                                       | 4/12 [00:16<00:33,  4.24s/it]"
     ]
    },
    {
     "name": "stdout",
     "output_type": "stream",
     "text": [
      "| Epoch: 4/12 | Train: Loss 1.5943 Accuracy : 0.4800 | Val: Loss 1.8601 Accuracy : 0.3715\n",
      "\n"
     ]
    },
    {
     "name": "stderr",
     "output_type": "stream",
     "text": [
      " 42%|██████████████████████████████████▌                                                | 5/12 [00:21<00:30,  4.31s/it]"
     ]
    },
    {
     "name": "stdout",
     "output_type": "stream",
     "text": [
      "| Epoch: 5/12 | Train: Loss 0.8411 Accuracy : 0.7400 | Val: Loss 1.2663 Accuracy : 0.5923\n",
      "\n"
     ]
    },
    {
     "name": "stderr",
     "output_type": "stream",
     "text": [
      " 50%|█████████████████████████████████████████▌                                         | 6/12 [00:25<00:25,  4.27s/it]"
     ]
    },
    {
     "name": "stdout",
     "output_type": "stream",
     "text": [
      "| Epoch: 6/12 | Train: Loss 0.4169 Accuracy : 0.8700 | Val: Loss 1.1537 Accuracy : 0.6822\n",
      "\n"
     ]
    },
    {
     "name": "stderr",
     "output_type": "stream",
     "text": [
      " 58%|████████████████████████████████████████████████▍                                  | 7/12 [00:29<00:21,  4.21s/it]"
     ]
    },
    {
     "name": "stdout",
     "output_type": "stream",
     "text": [
      "| Epoch: 7/12 | Train: Loss 0.2822 Accuracy : 0.9100 | Val: Loss 1.4152 Accuracy : 0.6976\n",
      "\n"
     ]
    },
    {
     "name": "stderr",
     "output_type": "stream",
     "text": [
      " 67%|███████████████████████████████████████████████████████▎                           | 8/12 [00:33<00:16,  4.16s/it]"
     ]
    },
    {
     "name": "stdout",
     "output_type": "stream",
     "text": [
      "| Epoch: 8/12 | Train: Loss 0.2172 Accuracy : 0.9300 | Val: Loss 1.8510 Accuracy : 0.6857\n",
      "\n"
     ]
    },
    {
     "name": "stderr",
     "output_type": "stream",
     "text": [
      " 75%|██████████████████████████████████████████████████████████████▎                    | 9/12 [00:38<00:12,  4.31s/it]"
     ]
    },
    {
     "name": "stdout",
     "output_type": "stream",
     "text": [
      "| Epoch: 9/12 | Train: Loss 0.0505 Accuracy : 0.9800 | Val: Loss 1.6690 Accuracy : 0.7150\n",
      "\n"
     ]
    },
    {
     "name": "stderr",
     "output_type": "stream",
     "text": [
      " 83%|████████████████████████████████████████████████████████████████████▎             | 10/12 [00:42<00:08,  4.17s/it]"
     ]
    },
    {
     "name": "stdout",
     "output_type": "stream",
     "text": [
      "| Epoch: 10/12 | Train: Loss 0.1261 Accuracy : 0.9500 | Val: Loss 2.2800 Accuracy : 0.6634\n",
      "\n"
     ]
    },
    {
     "name": "stderr",
     "output_type": "stream",
     "text": [
      " 92%|███████████████████████████████████████████████████████████████████████████▏      | 11/12 [00:46<00:04,  4.10s/it]"
     ]
    },
    {
     "name": "stdout",
     "output_type": "stream",
     "text": [
      "| Epoch: 11/12 | Train: Loss 0.0130 Accuracy : 1.0000 | Val: Loss 2.1484 Accuracy : 0.6987\n",
      "\n"
     ]
    },
    {
     "name": "stderr",
     "output_type": "stream",
     "text": [
      "100%|██████████████████████████████████████████████████████████████████████████████████| 12/12 [00:50<00:00,  4.18s/it]"
     ]
    },
    {
     "name": "stdout",
     "output_type": "stream",
     "text": [
      "| Epoch: 12/12 | Train: Loss 0.0162 Accuracy : 1.0000 | Val: Loss 2.5559 Accuracy : 0.6959\n",
      "\n",
      "Pour un batch_size égale à 64 on a\n"
     ]
    },
    {
     "name": "stderr",
     "output_type": "stream",
     "text": [
      "\n"
     ]
    },
    {
     "data": {
      "image/png": "[encoded data removed]",
      "text/plain": [
       "<Figure size 1600x800 with 2 Axes>"
      ]
     },
     "metadata": {},
     "output_type": "display_data"
    }
   ],
   "source": [
    "epochs = 12\n",
    "\n",
    "for batch_size in [16,32,64]:\n",
    "    labeledloader = torch.utils.data.DataLoader(labeledset, batch_size=batch_size,\n",
    "                                         shuffle=False, num_workers=0)\n",
    "    testloader = torch.utils.data.DataLoader(testdata, batch_size=batch_size,\n",
    "                                         shuffle=False, num_workers=0)\n",
    "    \n",
    "    model = Net().to(device) \n",
    "    optimizer = optim.Adam(model.parameters(), lr=0.01)\n",
    "    \n",
    "    args_train = {\"train_loader\" : labeledloader,\n",
    "              \"val_loader\" : testloader,\n",
    "              \"model\" : model,\n",
    "              \"epochs\" : epochs,\n",
    "              \"optimizer\" : optimizer,\n",
    "              \"criterion\" : criterion}\n",
    "    net, (loss_train, acc_train, loss_valid, acc_valid) = train_func(**args_train)\n",
    "    \n",
    "    print(f\"Pour un batch_size égale à {batch_size} on a\")\n",
    "    \n",
    "    plt.figure(figsize=(16,8))\n",
    "\n",
    "    plt.subplot(1,2,1)\n",
    "    plt.plot(range(1,epochs + 1), loss_train, label=\"train loss\" )\n",
    "    plt.plot(range(1, epochs +1), loss_valid, label=\"valid loss\")\n",
    "    plt.xlabel(\"epochs\")\n",
    "    plt.ylabel(\"Loss\")\n",
    "    plt.title(\"Loss functions\")\n",
    "    plt.legend()\n",
    "\n",
    "    plt.subplot(1,2,2)\n",
    "    plt.plot(range(1,epochs + 1), acc_train, label=\"train accuracy\" )\n",
    "    plt.plot(range(1, epochs +1), acc_valid, label=\"valid accuracy\")\n",
    "    plt.xlabel(\"epochs\")\n",
    "    plt.ylabel(\"accuracy\")\n",
    "    plt.title(\"Accuracy functions\")\n",
    "    plt.legend()\n",
    "\n",
    "    #plt.savefig(\"Metrics functins basic model.png\")\n",
    "    plt.show()"
   ]
  },
  {
   "cell_type": "markdown",
   "metadata": {},
   "source": [
    "# Transfert learning"
   ]
  },
  {
   "cell_type": "code",
   "execution_count": 31,
   "metadata": {},
   "outputs": [],
   "source": [
    "import torchvision.models as models\n",
    "resnet = models.resnet18(pretrained=True)\n",
    "#PATH = './resnet18_default.pth'\n",
    "#torch.save(resnet.state_dict(), PATH)"
   ]
  },
  {
   "cell_type": "code",
   "execution_count": 36,
   "metadata": {},
   "outputs": [
    {
     "data": {
      "text/plain": [
       "ResNet(\n",
       "  (conv1): Conv2d(3, 64, kernel_size=(7, 7), stride=(2, 2), padding=(3, 3), bias=False)\n",
       "  (bn1): BatchNorm2d(64, eps=1e-05, momentum=0.1, affine=True, track_running_stats=True)\n",
       "  (relu): ReLU(inplace=True)\n",
       "  (maxpool): MaxPool2d(kernel_size=3, stride=2, padding=1, dilation=1, ceil_mode=False)\n",
       "  (layer1): Sequential(\n",
       "    (0): BasicBlock(\n",
       "      (conv1): Conv2d(64, 64, kernel_size=(3, 3), stride=(1, 1), padding=(1, 1), bias=False)\n",
       "      (bn1): BatchNorm2d(64, eps=1e-05, momentum=0.1, affine=True, track_running_stats=True)\n",
       "      (relu): ReLU(inplace=True)\n",
       "      (conv2): Conv2d(64, 64, kernel_size=(3, 3), stride=(1, 1), padding=(1, 1), bias=False)\n",
       "      (bn2): BatchNorm2d(64, eps=1e-05, momentum=0.1, affine=True, track_running_stats=True)\n",
       "    )\n",
       "    (1): BasicBlock(\n",
       "      (conv1): Conv2d(64, 64, kernel_size=(3, 3), stride=(1, 1), padding=(1, 1), bias=False)\n",
       "      (bn1): BatchNorm2d(64, eps=1e-05, momentum=0.1, affine=True, track_running_stats=True)\n",
       "      (relu): ReLU(inplace=True)\n",
       "      (conv2): Conv2d(64, 64, kernel_size=(3, 3), stride=(1, 1), padding=(1, 1), bias=False)\n",
       "      (bn2): BatchNorm2d(64, eps=1e-05, momentum=0.1, affine=True, track_running_stats=True)\n",
       "    )\n",
       "  )\n",
       "  (layer2): Sequential(\n",
       "    (0): BasicBlock(\n",
       "      (conv1): Conv2d(64, 128, kernel_size=(3, 3), stride=(2, 2), padding=(1, 1), bias=False)\n",
       "      (bn1): BatchNorm2d(128, eps=1e-05, momentum=0.1, affine=True, track_running_stats=True)\n",
       "      (relu): ReLU(inplace=True)\n",
       "      (conv2): Conv2d(128, 128, kernel_size=(3, 3), stride=(1, 1), padding=(1, 1), bias=False)\n",
       "      (bn2): BatchNorm2d(128, eps=1e-05, momentum=0.1, affine=True, track_running_stats=True)\n",
       "      (downsample): Sequential(\n",
       "        (0): Conv2d(64, 128, kernel_size=(1, 1), stride=(2, 2), bias=False)\n",
       "        (1): BatchNorm2d(128, eps=1e-05, momentum=0.1, affine=True, track_running_stats=True)\n",
       "      )\n",
       "    )\n",
       "    (1): BasicBlock(\n",
       "      (conv1): Conv2d(128, 128, kernel_size=(3, 3), stride=(1, 1), padding=(1, 1), bias=False)\n",
       "      (bn1): BatchNorm2d(128, eps=1e-05, momentum=0.1, affine=True, track_running_stats=True)\n",
       "      (relu): ReLU(inplace=True)\n",
       "      (conv2): Conv2d(128, 128, kernel_size=(3, 3), stride=(1, 1), padding=(1, 1), bias=False)\n",
       "      (bn2): BatchNorm2d(128, eps=1e-05, momentum=0.1, affine=True, track_running_stats=True)\n",
       "    )\n",
       "  )\n",
       "  (layer3): Sequential(\n",
       "    (0): BasicBlock(\n",
       "      (conv1): Conv2d(128, 256, kernel_size=(3, 3), stride=(2, 2), padding=(1, 1), bias=False)\n",
       "      (bn1): BatchNorm2d(256, eps=1e-05, momentum=0.1, affine=True, track_running_stats=True)\n",
       "      (relu): ReLU(inplace=True)\n",
       "      (conv2): Conv2d(256, 256, kernel_size=(3, 3), stride=(1, 1), padding=(1, 1), bias=False)\n",
       "      (bn2): BatchNorm2d(256, eps=1e-05, momentum=0.1, affine=True, track_running_stats=True)\n",
       "      (downsample): Sequential(\n",
       "        (0): Conv2d(128, 256, kernel_size=(1, 1), stride=(2, 2), bias=False)\n",
       "        (1): BatchNorm2d(256, eps=1e-05, momentum=0.1, affine=True, track_running_stats=True)\n",
       "      )\n",
       "    )\n",
       "    (1): BasicBlock(\n",
       "      (conv1): Conv2d(256, 256, kernel_size=(3, 3), stride=(1, 1), padding=(1, 1), bias=False)\n",
       "      (bn1): BatchNorm2d(256, eps=1e-05, momentum=0.1, affine=True, track_running_stats=True)\n",
       "      (relu): ReLU(inplace=True)\n",
       "      (conv2): Conv2d(256, 256, kernel_size=(3, 3), stride=(1, 1), padding=(1, 1), bias=False)\n",
       "      (bn2): BatchNorm2d(256, eps=1e-05, momentum=0.1, affine=True, track_running_stats=True)\n",
       "    )\n",
       "  )\n",
       "  (layer4): Sequential(\n",
       "    (0): BasicBlock(\n",
       "      (conv1): Conv2d(256, 512, kernel_size=(3, 3), stride=(2, 2), padding=(1, 1), bias=False)\n",
       "      (bn1): BatchNorm2d(512, eps=1e-05, momentum=0.1, affine=True, track_running_stats=True)\n",
       "      (relu): ReLU(inplace=True)\n",
       "      (conv2): Conv2d(512, 512, kernel_size=(3, 3), stride=(1, 1), padding=(1, 1), bias=False)\n",
       "      (bn2): BatchNorm2d(512, eps=1e-05, momentum=0.1, affine=True, track_running_stats=True)\n",
       "      (downsample): Sequential(\n",
       "        (0): Conv2d(256, 512, kernel_size=(1, 1), stride=(2, 2), bias=False)\n",
       "        (1): BatchNorm2d(512, eps=1e-05, momentum=0.1, affine=True, track_running_stats=True)\n",
       "      )\n",
       "    )\n",
       "    (1): BasicBlock(\n",
       "      (conv1): Conv2d(512, 512, kernel_size=(3, 3), stride=(1, 1), padding=(1, 1), bias=False)\n",
       "      (bn1): BatchNorm2d(512, eps=1e-05, momentum=0.1, affine=True, track_running_stats=True)\n",
       "      (relu): ReLU(inplace=True)\n",
       "      (conv2): Conv2d(512, 512, kernel_size=(3, 3), stride=(1, 1), padding=(1, 1), bias=False)\n",
       "      (bn2): BatchNorm2d(512, eps=1e-05, momentum=0.1, affine=True, track_running_stats=True)\n",
       "    )\n",
       "  )\n",
       "  (avgpool): AdaptiveAvgPool2d(output_size=(1, 1))\n",
       "  (fc): Linear(in_features=512, out_features=1000, bias=True)\n",
       ")"
      ]
     },
     "execution_count": 36,
     "metadata": {},
     "output_type": "execute_result"
    }
   ],
   "source": [
    "resnet"
   ]
  },
  {
   "cell_type": "code",
   "execution_count": 21,
   "metadata": {
    "tags": []
   },
   "outputs": [],
   "source": [
    "# We must put all layers 'require_grad' to false first\n",
    "for name, param in resnet.named_parameters():\n",
    "    param.requires_grad = False"
   ]
  },
  {
   "cell_type": "code",
   "execution_count": 22,
   "metadata": {
    "tags": []
   },
   "outputs": [],
   "source": [
    "# update the final layer\n",
    "# the final layer 'require_grad' should be on True\n",
    "num_ftrs = resnet.fc.in_features\n",
    "resnet.fc = nn.Linear(num_ftrs, 10)"
   ]
  },
  {
   "cell_type": "code",
   "execution_count": 23,
   "metadata": {},
   "outputs": [],
   "source": [
    "# to device\n",
    "resnet = resnet.to(device)"
   ]
  },
  {
   "cell_type": "code",
   "execution_count": 24,
   "metadata": {},
   "outputs": [],
   "source": [
    "output_fn = nn.Softmax(dim=1)\n",
    "criterion = nn.CrossEntropyLoss()"
   ]
  },
  {
   "cell_type": "code",
   "execution_count": 27,
   "metadata": {},
   "outputs": [
    {
     "data": {
      "text/plain": [
       "<bound method Module.parameters of ResNet(\n",
       "  (conv1): Conv2d(3, 64, kernel_size=(7, 7), stride=(2, 2), padding=(3, 3), bias=False)\n",
       "  (bn1): BatchNorm2d(64, eps=1e-05, momentum=0.1, affine=True, track_running_stats=True)\n",
       "  (relu): ReLU(inplace=True)\n",
       "  (maxpool): MaxPool2d(kernel_size=3, stride=2, padding=1, dilation=1, ceil_mode=False)\n",
       "  (layer1): Sequential(\n",
       "    (0): BasicBlock(\n",
       "      (conv1): Conv2d(64, 64, kernel_size=(3, 3), stride=(1, 1), padding=(1, 1), bias=False)\n",
       "      (bn1): BatchNorm2d(64, eps=1e-05, momentum=0.1, affine=True, track_running_stats=True)\n",
       "      (relu): ReLU(inplace=True)\n",
       "      (conv2): Conv2d(64, 64, kernel_size=(3, 3), stride=(1, 1), padding=(1, 1), bias=False)\n",
       "      (bn2): BatchNorm2d(64, eps=1e-05, momentum=0.1, affine=True, track_running_stats=True)\n",
       "    )\n",
       "    (1): BasicBlock(\n",
       "      (conv1): Conv2d(64, 64, kernel_size=(3, 3), stride=(1, 1), padding=(1, 1), bias=False)\n",
       "      (bn1): BatchNorm2d(64, eps=1e-05, momentum=0.1, affine=True, track_running_stats=True)\n",
       "      (relu): ReLU(inplace=True)\n",
       "      (conv2): Conv2d(64, 64, kernel_size=(3, 3), stride=(1, 1), padding=(1, 1), bias=False)\n",
       "      (bn2): BatchNorm2d(64, eps=1e-05, momentum=0.1, affine=True, track_running_stats=True)\n",
       "    )\n",
       "  )\n",
       "  (layer2): Sequential(\n",
       "    (0): BasicBlock(\n",
       "      (conv1): Conv2d(64, 128, kernel_size=(3, 3), stride=(2, 2), padding=(1, 1), bias=False)\n",
       "      (bn1): BatchNorm2d(128, eps=1e-05, momentum=0.1, affine=True, track_running_stats=True)\n",
       "      (relu): ReLU(inplace=True)\n",
       "      (conv2): Conv2d(128, 128, kernel_size=(3, 3), stride=(1, 1), padding=(1, 1), bias=False)\n",
       "      (bn2): BatchNorm2d(128, eps=1e-05, momentum=0.1, affine=True, track_running_stats=True)\n",
       "      (downsample): Sequential(\n",
       "        (0): Conv2d(64, 128, kernel_size=(1, 1), stride=(2, 2), bias=False)\n",
       "        (1): BatchNorm2d(128, eps=1e-05, momentum=0.1, affine=True, track_running_stats=True)\n",
       "      )\n",
       "    )\n",
       "    (1): BasicBlock(\n",
       "      (conv1): Conv2d(128, 128, kernel_size=(3, 3), stride=(1, 1), padding=(1, 1), bias=False)\n",
       "      (bn1): BatchNorm2d(128, eps=1e-05, momentum=0.1, affine=True, track_running_stats=True)\n",
       "      (relu): ReLU(inplace=True)\n",
       "      (conv2): Conv2d(128, 128, kernel_size=(3, 3), stride=(1, 1), padding=(1, 1), bias=False)\n",
       "      (bn2): BatchNorm2d(128, eps=1e-05, momentum=0.1, affine=True, track_running_stats=True)\n",
       "    )\n",
       "  )\n",
       "  (layer3): Sequential(\n",
       "    (0): BasicBlock(\n",
       "      (conv1): Conv2d(128, 256, kernel_size=(3, 3), stride=(2, 2), padding=(1, 1), bias=False)\n",
       "      (bn1): BatchNorm2d(256, eps=1e-05, momentum=0.1, affine=True, track_running_stats=True)\n",
       "      (relu): ReLU(inplace=True)\n",
       "      (conv2): Conv2d(256, 256, kernel_size=(3, 3), stride=(1, 1), padding=(1, 1), bias=False)\n",
       "      (bn2): BatchNorm2d(256, eps=1e-05, momentum=0.1, affine=True, track_running_stats=True)\n",
       "      (downsample): Sequential(\n",
       "        (0): Conv2d(128, 256, kernel_size=(1, 1), stride=(2, 2), bias=False)\n",
       "        (1): BatchNorm2d(256, eps=1e-05, momentum=0.1, affine=True, track_running_stats=True)\n",
       "      )\n",
       "    )\n",
       "    (1): BasicBlock(\n",
       "      (conv1): Conv2d(256, 256, kernel_size=(3, 3), stride=(1, 1), padding=(1, 1), bias=False)\n",
       "      (bn1): BatchNorm2d(256, eps=1e-05, momentum=0.1, affine=True, track_running_stats=True)\n",
       "      (relu): ReLU(inplace=True)\n",
       "      (conv2): Conv2d(256, 256, kernel_size=(3, 3), stride=(1, 1), padding=(1, 1), bias=False)\n",
       "      (bn2): BatchNorm2d(256, eps=1e-05, momentum=0.1, affine=True, track_running_stats=True)\n",
       "    )\n",
       "  )\n",
       "  (layer4): Sequential(\n",
       "    (0): BasicBlock(\n",
       "      (conv1): Conv2d(256, 512, kernel_size=(3, 3), stride=(2, 2), padding=(1, 1), bias=False)\n",
       "      (bn1): BatchNorm2d(512, eps=1e-05, momentum=0.1, affine=True, track_running_stats=True)\n",
       "      (relu): ReLU(inplace=True)\n",
       "      (conv2): Conv2d(512, 512, kernel_size=(3, 3), stride=(1, 1), padding=(1, 1), bias=False)\n",
       "      (bn2): BatchNorm2d(512, eps=1e-05, momentum=0.1, affine=True, track_running_stats=True)\n",
       "      (downsample): Sequential(\n",
       "        (0): Conv2d(256, 512, kernel_size=(1, 1), stride=(2, 2), bias=False)\n",
       "        (1): BatchNorm2d(512, eps=1e-05, momentum=0.1, affine=True, track_running_stats=True)\n",
       "      )\n",
       "    )\n",
       "    (1): BasicBlock(\n",
       "      (conv1): Conv2d(512, 512, kernel_size=(3, 3), stride=(1, 1), padding=(1, 1), bias=False)\n",
       "      (bn1): BatchNorm2d(512, eps=1e-05, momentum=0.1, affine=True, track_running_stats=True)\n",
       "      (relu): ReLU(inplace=True)\n",
       "      (conv2): Conv2d(512, 512, kernel_size=(3, 3), stride=(1, 1), padding=(1, 1), bias=False)\n",
       "      (bn2): BatchNorm2d(512, eps=1e-05, momentum=0.1, affine=True, track_running_stats=True)\n",
       "    )\n",
       "  )\n",
       "  (avgpool): AdaptiveAvgPool2d(output_size=(1, 1))\n",
       "  (fc): Linear(in_features=512, out_features=10, bias=True)\n",
       ")>"
      ]
     },
     "execution_count": 27,
     "metadata": {},
     "output_type": "execute_result"
    }
   ],
   "source": [
    "resnet.parameters"
   ]
  },
  {
   "cell_type": "code",
   "execution_count": 25,
   "metadata": {},
   "outputs": [
    {
     "name": "stderr",
     "output_type": "stream",
     "text": [
      "  0%|                                                                                           | 0/12 [00:01<?, ?it/s]\n"
     ]
    },
    {
     "ename": "RuntimeError",
     "evalue": "Given groups=1, weight of size [64, 3, 7, 7], expected input[32, 1, 28, 28] to have 3 channels, but got 1 channels instead",
     "output_type": "error",
     "traceback": [
      "\u001b[1;31m---------------------------------------------------------------------------\u001b[0m",
      "\u001b[1;31mRuntimeError\u001b[0m                              Traceback (most recent call last)",
      "Cell \u001b[1;32mIn[25], line 16\u001b[0m\n\u001b[0;32m      8\u001b[0m optimizer \u001b[38;5;241m=\u001b[39m optim\u001b[38;5;241m.\u001b[39mAdam(resnet\u001b[38;5;241m.\u001b[39mparameters(), lr\u001b[38;5;241m=\u001b[39m\u001b[38;5;241m0.001\u001b[39m)\n\u001b[0;32m     10\u001b[0m args_train \u001b[38;5;241m=\u001b[39m {\u001b[38;5;124m\"\u001b[39m\u001b[38;5;124mtrain_loader\u001b[39m\u001b[38;5;124m\"\u001b[39m : labeledloader,\n\u001b[0;32m     11\u001b[0m               \u001b[38;5;124m\"\u001b[39m\u001b[38;5;124mval_loader\u001b[39m\u001b[38;5;124m\"\u001b[39m : testloader,\n\u001b[0;32m     12\u001b[0m               \u001b[38;5;124m\"\u001b[39m\u001b[38;5;124mmodel\u001b[39m\u001b[38;5;124m\"\u001b[39m : resnet,\n\u001b[0;32m     13\u001b[0m               \u001b[38;5;124m\"\u001b[39m\u001b[38;5;124mepochs\u001b[39m\u001b[38;5;124m\"\u001b[39m : epochs,\n\u001b[0;32m     14\u001b[0m               \u001b[38;5;124m\"\u001b[39m\u001b[38;5;124moptimizer\u001b[39m\u001b[38;5;124m\"\u001b[39m : optimizer,\n\u001b[0;32m     15\u001b[0m               \u001b[38;5;124m\"\u001b[39m\u001b[38;5;124mcriterion\u001b[39m\u001b[38;5;124m\"\u001b[39m : criterion}\n\u001b[1;32m---> 16\u001b[0m net, (loss_train, acc_train, loss_valid, acc_valid) \u001b[38;5;241m=\u001b[39m \u001b[43mtrain_func\u001b[49m\u001b[43m(\u001b[49m\u001b[38;5;241;43m*\u001b[39;49m\u001b[38;5;241;43m*\u001b[39;49m\u001b[43margs_train\u001b[49m\u001b[43m)\u001b[49m\n\u001b[0;32m     18\u001b[0m \u001b[38;5;28mprint\u001b[39m(\u001b[38;5;124mf\u001b[39m\u001b[38;5;124m\"\u001b[39m\u001b[38;5;124mPour un batch_size égale à \u001b[39m\u001b[38;5;132;01m{\u001b[39;00mbatch_size\u001b[38;5;132;01m}\u001b[39;00m\u001b[38;5;124m on a\u001b[39m\u001b[38;5;124m\"\u001b[39m)\n\u001b[0;32m     20\u001b[0m plt\u001b[38;5;241m.\u001b[39mfigure(figsize\u001b[38;5;241m=\u001b[39m(\u001b[38;5;241m16\u001b[39m,\u001b[38;5;241m8\u001b[39m))\n",
      "Cell \u001b[1;32mIn[14], line 25\u001b[0m, in \u001b[0;36mtrain_func\u001b[1;34m(train_loader, val_loader, model, epochs, optimizer, criterion)\u001b[0m\n\u001b[0;32m     22\u001b[0m optimizer\u001b[38;5;241m.\u001b[39mzero_grad()\n\u001b[0;32m     24\u001b[0m \u001b[38;5;66;03m# forward + backward + optimize\u001b[39;00m\n\u001b[1;32m---> 25\u001b[0m out \u001b[38;5;241m=\u001b[39m \u001b[43mmodel\u001b[49m\u001b[43m(\u001b[49m\u001b[43mx\u001b[49m\u001b[38;5;241;43m=\u001b[39;49m\u001b[43minputs\u001b[49m\u001b[43m)\u001b[49m\n\u001b[0;32m     26\u001b[0m loss \u001b[38;5;241m=\u001b[39m criterion(out, labels)\n\u001b[0;32m     27\u001b[0m loss\u001b[38;5;241m.\u001b[39mbackward()\n",
      "File \u001b[1;32m~\\anaconda3\\envs\\Deep_learning_course\\lib\\site-packages\\torch\\nn\\modules\\module.py:1194\u001b[0m, in \u001b[0;36mModule._call_impl\u001b[1;34m(self, *input, **kwargs)\u001b[0m\n\u001b[0;32m   1190\u001b[0m \u001b[38;5;66;03m# If we don't have any hooks, we want to skip the rest of the logic in\u001b[39;00m\n\u001b[0;32m   1191\u001b[0m \u001b[38;5;66;03m# this function, and just call forward.\u001b[39;00m\n\u001b[0;32m   1192\u001b[0m \u001b[38;5;28;01mif\u001b[39;00m \u001b[38;5;129;01mnot\u001b[39;00m (\u001b[38;5;28mself\u001b[39m\u001b[38;5;241m.\u001b[39m_backward_hooks \u001b[38;5;129;01mor\u001b[39;00m \u001b[38;5;28mself\u001b[39m\u001b[38;5;241m.\u001b[39m_forward_hooks \u001b[38;5;129;01mor\u001b[39;00m \u001b[38;5;28mself\u001b[39m\u001b[38;5;241m.\u001b[39m_forward_pre_hooks \u001b[38;5;129;01mor\u001b[39;00m _global_backward_hooks\n\u001b[0;32m   1193\u001b[0m         \u001b[38;5;129;01mor\u001b[39;00m _global_forward_hooks \u001b[38;5;129;01mor\u001b[39;00m _global_forward_pre_hooks):\n\u001b[1;32m-> 1194\u001b[0m     \u001b[38;5;28;01mreturn\u001b[39;00m \u001b[43mforward_call\u001b[49m\u001b[43m(\u001b[49m\u001b[38;5;241;43m*\u001b[39;49m\u001b[38;5;28;43minput\u001b[39;49m\u001b[43m,\u001b[49m\u001b[43m \u001b[49m\u001b[38;5;241;43m*\u001b[39;49m\u001b[38;5;241;43m*\u001b[39;49m\u001b[43mkwargs\u001b[49m\u001b[43m)\u001b[49m\n\u001b[0;32m   1195\u001b[0m \u001b[38;5;66;03m# Do not call functions when jit is used\u001b[39;00m\n\u001b[0;32m   1196\u001b[0m full_backward_hooks, non_full_backward_hooks \u001b[38;5;241m=\u001b[39m [], []\n",
      "File \u001b[1;32m~\\anaconda3\\envs\\Deep_learning_course\\lib\\site-packages\\torchvision\\models\\resnet.py:285\u001b[0m, in \u001b[0;36mResNet.forward\u001b[1;34m(self, x)\u001b[0m\n\u001b[0;32m    284\u001b[0m \u001b[38;5;28;01mdef\u001b[39;00m \u001b[38;5;21mforward\u001b[39m(\u001b[38;5;28mself\u001b[39m, x: Tensor) \u001b[38;5;241m-\u001b[39m\u001b[38;5;241m>\u001b[39m Tensor:\n\u001b[1;32m--> 285\u001b[0m     \u001b[38;5;28;01mreturn\u001b[39;00m \u001b[38;5;28;43mself\u001b[39;49m\u001b[38;5;241;43m.\u001b[39;49m\u001b[43m_forward_impl\u001b[49m\u001b[43m(\u001b[49m\u001b[43mx\u001b[49m\u001b[43m)\u001b[49m\n",
      "File \u001b[1;32m~\\anaconda3\\envs\\Deep_learning_course\\lib\\site-packages\\torchvision\\models\\resnet.py:268\u001b[0m, in \u001b[0;36mResNet._forward_impl\u001b[1;34m(self, x)\u001b[0m\n\u001b[0;32m    266\u001b[0m \u001b[38;5;28;01mdef\u001b[39;00m \u001b[38;5;21m_forward_impl\u001b[39m(\u001b[38;5;28mself\u001b[39m, x: Tensor) \u001b[38;5;241m-\u001b[39m\u001b[38;5;241m>\u001b[39m Tensor:\n\u001b[0;32m    267\u001b[0m     \u001b[38;5;66;03m# See note [TorchScript super()]\u001b[39;00m\n\u001b[1;32m--> 268\u001b[0m     x \u001b[38;5;241m=\u001b[39m \u001b[38;5;28;43mself\u001b[39;49m\u001b[38;5;241;43m.\u001b[39;49m\u001b[43mconv1\u001b[49m\u001b[43m(\u001b[49m\u001b[43mx\u001b[49m\u001b[43m)\u001b[49m\n\u001b[0;32m    269\u001b[0m     x \u001b[38;5;241m=\u001b[39m \u001b[38;5;28mself\u001b[39m\u001b[38;5;241m.\u001b[39mbn1(x)\n\u001b[0;32m    270\u001b[0m     x \u001b[38;5;241m=\u001b[39m \u001b[38;5;28mself\u001b[39m\u001b[38;5;241m.\u001b[39mrelu(x)\n",
      "File \u001b[1;32m~\\anaconda3\\envs\\Deep_learning_course\\lib\\site-packages\\torch\\nn\\modules\\module.py:1194\u001b[0m, in \u001b[0;36mModule._call_impl\u001b[1;34m(self, *input, **kwargs)\u001b[0m\n\u001b[0;32m   1190\u001b[0m \u001b[38;5;66;03m# If we don't have any hooks, we want to skip the rest of the logic in\u001b[39;00m\n\u001b[0;32m   1191\u001b[0m \u001b[38;5;66;03m# this function, and just call forward.\u001b[39;00m\n\u001b[0;32m   1192\u001b[0m \u001b[38;5;28;01mif\u001b[39;00m \u001b[38;5;129;01mnot\u001b[39;00m (\u001b[38;5;28mself\u001b[39m\u001b[38;5;241m.\u001b[39m_backward_hooks \u001b[38;5;129;01mor\u001b[39;00m \u001b[38;5;28mself\u001b[39m\u001b[38;5;241m.\u001b[39m_forward_hooks \u001b[38;5;129;01mor\u001b[39;00m \u001b[38;5;28mself\u001b[39m\u001b[38;5;241m.\u001b[39m_forward_pre_hooks \u001b[38;5;129;01mor\u001b[39;00m _global_backward_hooks\n\u001b[0;32m   1193\u001b[0m         \u001b[38;5;129;01mor\u001b[39;00m _global_forward_hooks \u001b[38;5;129;01mor\u001b[39;00m _global_forward_pre_hooks):\n\u001b[1;32m-> 1194\u001b[0m     \u001b[38;5;28;01mreturn\u001b[39;00m \u001b[43mforward_call\u001b[49m\u001b[43m(\u001b[49m\u001b[38;5;241;43m*\u001b[39;49m\u001b[38;5;28;43minput\u001b[39;49m\u001b[43m,\u001b[49m\u001b[43m \u001b[49m\u001b[38;5;241;43m*\u001b[39;49m\u001b[38;5;241;43m*\u001b[39;49m\u001b[43mkwargs\u001b[49m\u001b[43m)\u001b[49m\n\u001b[0;32m   1195\u001b[0m \u001b[38;5;66;03m# Do not call functions when jit is used\u001b[39;00m\n\u001b[0;32m   1196\u001b[0m full_backward_hooks, non_full_backward_hooks \u001b[38;5;241m=\u001b[39m [], []\n",
      "File \u001b[1;32m~\\anaconda3\\envs\\Deep_learning_course\\lib\\site-packages\\torch\\nn\\modules\\conv.py:463\u001b[0m, in \u001b[0;36mConv2d.forward\u001b[1;34m(self, input)\u001b[0m\n\u001b[0;32m    462\u001b[0m \u001b[38;5;28;01mdef\u001b[39;00m \u001b[38;5;21mforward\u001b[39m(\u001b[38;5;28mself\u001b[39m, \u001b[38;5;28minput\u001b[39m: Tensor) \u001b[38;5;241m-\u001b[39m\u001b[38;5;241m>\u001b[39m Tensor:\n\u001b[1;32m--> 463\u001b[0m     \u001b[38;5;28;01mreturn\u001b[39;00m \u001b[38;5;28;43mself\u001b[39;49m\u001b[38;5;241;43m.\u001b[39;49m\u001b[43m_conv_forward\u001b[49m\u001b[43m(\u001b[49m\u001b[38;5;28;43minput\u001b[39;49m\u001b[43m,\u001b[49m\u001b[43m \u001b[49m\u001b[38;5;28;43mself\u001b[39;49m\u001b[38;5;241;43m.\u001b[39;49m\u001b[43mweight\u001b[49m\u001b[43m,\u001b[49m\u001b[43m \u001b[49m\u001b[38;5;28;43mself\u001b[39;49m\u001b[38;5;241;43m.\u001b[39;49m\u001b[43mbias\u001b[49m\u001b[43m)\u001b[49m\n",
      "File \u001b[1;32m~\\anaconda3\\envs\\Deep_learning_course\\lib\\site-packages\\torch\\nn\\modules\\conv.py:459\u001b[0m, in \u001b[0;36mConv2d._conv_forward\u001b[1;34m(self, input, weight, bias)\u001b[0m\n\u001b[0;32m    455\u001b[0m \u001b[38;5;28;01mif\u001b[39;00m \u001b[38;5;28mself\u001b[39m\u001b[38;5;241m.\u001b[39mpadding_mode \u001b[38;5;241m!=\u001b[39m \u001b[38;5;124m'\u001b[39m\u001b[38;5;124mzeros\u001b[39m\u001b[38;5;124m'\u001b[39m:\n\u001b[0;32m    456\u001b[0m     \u001b[38;5;28;01mreturn\u001b[39;00m F\u001b[38;5;241m.\u001b[39mconv2d(F\u001b[38;5;241m.\u001b[39mpad(\u001b[38;5;28minput\u001b[39m, \u001b[38;5;28mself\u001b[39m\u001b[38;5;241m.\u001b[39m_reversed_padding_repeated_twice, mode\u001b[38;5;241m=\u001b[39m\u001b[38;5;28mself\u001b[39m\u001b[38;5;241m.\u001b[39mpadding_mode),\n\u001b[0;32m    457\u001b[0m                     weight, bias, \u001b[38;5;28mself\u001b[39m\u001b[38;5;241m.\u001b[39mstride,\n\u001b[0;32m    458\u001b[0m                     _pair(\u001b[38;5;241m0\u001b[39m), \u001b[38;5;28mself\u001b[39m\u001b[38;5;241m.\u001b[39mdilation, \u001b[38;5;28mself\u001b[39m\u001b[38;5;241m.\u001b[39mgroups)\n\u001b[1;32m--> 459\u001b[0m \u001b[38;5;28;01mreturn\u001b[39;00m \u001b[43mF\u001b[49m\u001b[38;5;241;43m.\u001b[39;49m\u001b[43mconv2d\u001b[49m\u001b[43m(\u001b[49m\u001b[38;5;28;43minput\u001b[39;49m\u001b[43m,\u001b[49m\u001b[43m \u001b[49m\u001b[43mweight\u001b[49m\u001b[43m,\u001b[49m\u001b[43m \u001b[49m\u001b[43mbias\u001b[49m\u001b[43m,\u001b[49m\u001b[43m \u001b[49m\u001b[38;5;28;43mself\u001b[39;49m\u001b[38;5;241;43m.\u001b[39;49m\u001b[43mstride\u001b[49m\u001b[43m,\u001b[49m\n\u001b[0;32m    460\u001b[0m \u001b[43m                \u001b[49m\u001b[38;5;28;43mself\u001b[39;49m\u001b[38;5;241;43m.\u001b[39;49m\u001b[43mpadding\u001b[49m\u001b[43m,\u001b[49m\u001b[43m \u001b[49m\u001b[38;5;28;43mself\u001b[39;49m\u001b[38;5;241;43m.\u001b[39;49m\u001b[43mdilation\u001b[49m\u001b[43m,\u001b[49m\u001b[43m \u001b[49m\u001b[38;5;28;43mself\u001b[39;49m\u001b[38;5;241;43m.\u001b[39;49m\u001b[43mgroups\u001b[49m\u001b[43m)\u001b[49m\n",
      "\u001b[1;31mRuntimeError\u001b[0m: Given groups=1, weight of size [64, 3, 7, 7], expected input[32, 1, 28, 28] to have 3 channels, but got 1 channels instead"
     ]
    }
   ],
   "source": [
    "batch_size = 32\n",
    "\n",
    "labeledloader = torch.utils.data.DataLoader(labeledset, batch_size=batch_size,\n",
    "                                         shuffle=False, num_workers=0)\n",
    "testloader = torch.utils.data.DataLoader(testdata, batch_size=batch_size,\n",
    "                                         shuffle=False, num_workers=0)\n",
    "    \n",
    "optimizer = optim.Adam(resnet.parameters(), lr=0.001)\n",
    "    \n",
    "args_train = {\"train_loader\" : labeledloader,\n",
    "              \"val_loader\" : testloader,\n",
    "              \"model\" : resnet,\n",
    "              \"epochs\" : epochs,\n",
    "              \"optimizer\" : optimizer,\n",
    "              \"criterion\" : criterion}\n",
    "net, (loss_train, acc_train, loss_valid, acc_valid) = train_func(**args_train)\n",
    "    \n",
    "print(f\"Pour un batch_size égale à {batch_size} on a\")\n",
    "    \n",
    "plt.figure(figsize=(16,8))\n",
    "\n",
    "plt.subplot(1,2,1)\n",
    "plt.plot(range(1,epochs + 1), loss_train, label=\"train loss\" )\n",
    "plt.plot(range(1, epochs +1), loss_valid, label=\"valid loss\")\n",
    "plt.xlabel(\"epochs\")\n",
    "plt.ylabel(\"Loss\")\n",
    "plt.title(\"Loss functions\")\n",
    "plt.legend()\n",
    "\n",
    "plt.subplot(1,2,2)\n",
    "plt.plot(range(1,epochs + 1), acc_train, label=\"train accuracy\" )\n",
    "plt.plot(range(1, epochs +1), acc_valid, label=\"valid accuracy\")\n",
    "plt.xlabel(\"epochs\")\n",
    "plt.ylabel(\"accuracy\")\n",
    "plt.title(\"Accuracy functions\")\n",
    "plt.legend()\n",
    "\n",
    "#plt.savefig(\"Metrics functins basic model.png\")\n",
    "plt.show()  "
   ]
  },
  {
   "cell_type": "code",
   "execution_count": 24,
   "metadata": {},
   "outputs": [],
   "source": [
    "import cv2"
   ]
  },
  {
   "cell_type": "code",
   "execution_count": 18,
   "metadata": {},
   "outputs": [],
   "source": [
    "image = traindata[1]"
   ]
  },
  {
   "cell_type": "code",
   "execution_count": 41,
   "metadata": {},
   "outputs": [],
   "source": [
    "img,label = image"
   ]
  },
  {
   "cell_type": "code",
   "execution_count": 80,
   "metadata": {},
   "outputs": [
    {
     "data": {
      "text/plain": [
       "torch.Size([1, 28, 28])"
      ]
     },
     "execution_count": 80,
     "metadata": {},
     "output_type": "execute_result"
    }
   ],
   "source": [
    "img.shape"
   ]
  },
  {
   "cell_type": "code",
   "execution_count": 84,
   "metadata": {},
   "outputs": [],
   "source": [
    "test3 = torch.cat((img,img,img), dim=0)"
   ]
  },
  {
   "cell_type": "code",
   "execution_count": 85,
   "metadata": {},
   "outputs": [
    {
     "data": {
      "text/plain": [
       "torch.Size([3, 28, 28])"
      ]
     },
     "execution_count": 85,
     "metadata": {},
     "output_type": "execute_result"
    }
   ],
   "source": [
    "test3.shape"
   ]
  },
  {
   "cell_type": "code",
   "execution_count": 50,
   "metadata": {},
   "outputs": [],
   "source": [
    "test = img.numpy()"
   ]
  },
  {
   "cell_type": "code",
   "execution_count": 56,
   "metadata": {},
   "outputs": [],
   "source": [
    "test2 = np.concatenate((test,test,test), axis=0)"
   ]
  },
  {
   "cell_type": "code",
   "execution_count": 57,
   "metadata": {},
   "outputs": [
    {
     "data": {
      "text/plain": [
       "(3, 28, 28)"
      ]
     },
     "execution_count": 57,
     "metadata": {},
     "output_type": "execute_result"
    }
   ],
   "source": []
  },
  {
   "cell_type": "code",
   "execution_count": 65,
   "metadata": {},
   "outputs": [
    {
     "data": {
      "text/plain": [
       "-0.6889255"
      ]
     },
     "execution_count": 65,
     "metadata": {},
     "output_type": "execute_result"
    }
   ],
   "source": []
  },
  {
   "cell_type": "code",
   "execution_count": 32,
   "metadata": {},
   "outputs": [
    {
     "ename": "error",
     "evalue": "OpenCV(4.6.0) :-1: error: (-5:Bad argument) in function 'resize'\n> Overload resolution failed:\n>  - Can't parse 'dsize'. Expected sequence length 2, got 3\n>  - Can't parse 'dsize'. Expected sequence length 2, got 3\n",
     "output_type": "error",
     "traceback": [
      "\u001b[1;31m---------------------------------------------------------------------------\u001b[0m",
      "\u001b[1;31merror\u001b[0m                                     Traceback (most recent call last)",
      "Cell \u001b[1;32mIn[32], line 1\u001b[0m\n\u001b[1;32m----> 1\u001b[0m img2 \u001b[38;5;241m=\u001b[39m \u001b[43mcv2\u001b[49m\u001b[38;5;241;43m.\u001b[39;49m\u001b[43mresize\u001b[49m\u001b[43m(\u001b[49m\u001b[43mimg\u001b[49m\u001b[38;5;241;43m.\u001b[39;49m\u001b[43mnumpy\u001b[49m\u001b[43m(\u001b[49m\u001b[43m)\u001b[49m\u001b[43m,\u001b[49m\u001b[43mdsize\u001b[49m\u001b[43m \u001b[49m\u001b[38;5;241;43m=\u001b[39;49m\u001b[43m \u001b[49m\u001b[43m(\u001b[49m\u001b[38;5;241;43m3\u001b[39;49m\u001b[43m,\u001b[49m\u001b[38;5;241;43m28\u001b[39;49m\u001b[43m,\u001b[49m\u001b[38;5;241;43m28\u001b[39;49m\u001b[43m)\u001b[49m\u001b[43m)\u001b[49m\n",
      "\u001b[1;31merror\u001b[0m: OpenCV(4.6.0) :-1: error: (-5:Bad argument) in function 'resize'\n> Overload resolution failed:\n>  - Can't parse 'dsize'. Expected sequence length 2, got 3\n>  - Can't parse 'dsize'. Expected sequence length 2, got 3\n"
     ]
    }
   ],
   "source": [
    "img2 = cv2.resize(img.numpy(),dsize = (3,28,28))"
   ]
  },
  {
   "cell_type": "markdown",
   "metadata": {},
   "source": [
    "# Test avec 3 channels "
   ]
  },
  {
   "cell_type": "code",
   "execution_count": 73,
   "metadata": {},
   "outputs": [],
   "source": [
    "import torch.nn as nn\n",
    "import torch.nn.functional as F\n",
    "\n",
    "class Net2(nn.Module): #must correspond to the previous model set, comme un héritage\n",
    "    def __init__(self):\n",
    "      super(Net2, self).__init__()  #pour surpasser l'initialisation de la classe nn.Module\n",
    "      # to fill\n",
    "      self.conv1 = nn.Conv2d(in_channels=3, out_channels=32, kernel_size=3, padding=\"same\") \n",
    "      # the three arguments in_channels,out_channels,kernel_size must be filled, the others are optionnal and have default values\n",
    "      # out_channels correspond to the number of filters\n",
    "      # if heigth=width in the kernel size, just set one value\n",
    "      # stride is set to 0 by default\n",
    "      self.conv2 = nn.Conv2d(in_channels=32, out_channels=32, kernel_size=3, padding=\"same\") \n",
    "      self.pool = nn.MaxPool2d(kernel_size= 2) # pooling layer\n",
    "      self.dp1 = nn.Dropout(p=0.25) # probability of an element to be set to 0.\n",
    "      #self.fc1 = nn.Linear(in_features= 32 * 16 * 16, out_features=512) # fully connected layer\n",
    "      self.fc1 = nn.Linear(in_features= 32 * 14 * 14, out_features=512)\n",
    "      self.dp2 = nn.Dropout(p=0.5) # probability of an element to be set to 0.\n",
    "      self.fc2 = nn.Linear(in_features= 512, out_features=10) # fully connected layer\n",
    "\n",
    "\n",
    "    def forward(self, x):\n",
    "      # to fill with sequential pass through the model\n",
    "      # i.e the input data 'x' must pass sequentially through the layers defined in '__init__'\n",
    "      x = F.relu(self.conv1(x))\n",
    "      x = self.pool(F.relu(self.conv2(x)))\n",
    "      #x = self.dp1(x)\n",
    "      x = torch.flatten(x,1) #flaten all dimensions except batch\n",
    "      #x = self.dp2(F.relu(self.fc1(x)))\n",
    "      x = F.relu(self.fc1(x))\n",
    "      x = self.fc2(x)\n",
    "      return x "
   ]
  },
  {
   "cell_type": "code",
   "execution_count": 74,
   "metadata": {},
   "outputs": [
    {
     "name": "stdout",
     "output_type": "stream",
     "text": [
      "Net2(\n",
      "  (conv1): Conv2d(3, 32, kernel_size=(3, 3), stride=(1, 1), padding=same)\n",
      "  (conv2): Conv2d(32, 32, kernel_size=(3, 3), stride=(1, 1), padding=same)\n",
      "  (pool): MaxPool2d(kernel_size=2, stride=2, padding=0, dilation=1, ceil_mode=False)\n",
      "  (dp1): Dropout(p=0.25, inplace=False)\n",
      "  (fc1): Linear(in_features=6272, out_features=512, bias=True)\n",
      "  (dp2): Dropout(p=0.5, inplace=False)\n",
      "  (fc2): Linear(in_features=512, out_features=10, bias=True)\n",
      ")\n"
     ]
    }
   ],
   "source": [
    "model2 = Net2().to(device) \n",
    "print(model2)"
   ]
  },
  {
   "cell_type": "code",
   "execution_count": 75,
   "metadata": {},
   "outputs": [],
   "source": [
    "import torch.optim as optim\n",
    "\n",
    "output_fn = torch.nn.Softmax(dim=1)\n",
    "criterion = nn.CrossEntropyLoss()\n",
    "optimizer = optim.Adam(model2.parameters(), lr=0.01)"
   ]
  },
  {
   "cell_type": "code",
   "execution_count": 90,
   "metadata": {},
   "outputs": [],
   "source": [
    "from tqdm import tqdm\n",
    "\n",
    "\n",
    "def train_func(train_loader, val_loader, model=None, epochs:int=None, optimizer=None, criterion=None):\n",
    "\n",
    "  loss_valid,acc_valid =[],[]\n",
    "  loss_train,acc_train =[],[]\n",
    "\n",
    "  for epoch in tqdm(range(epochs)):\n",
    "\n",
    "    # Training\n",
    "    model.train()\n",
    "    running_loss = 0.0\n",
    "    for idx,batch in enumerate(train_loader):\n",
    "\n",
    "      # get the inputs; batch is a list of [inputs, labels]\n",
    "      inputs,labels=batch\n",
    "      inputs = torch.cat((inputs,inputs,inputs), dim=1)\n",
    "      inputs=inputs.to(device) #train on GPU\n",
    "      labels=labels.to(device)\n",
    "\n",
    "      # zero the parameter gradients\n",
    "      optimizer.zero_grad()\n",
    "\n",
    "      # forward + backward + optimize\n",
    "      out = model(x=inputs)\n",
    "      loss = criterion(out, labels)\n",
    "      loss.backward()\n",
    "      optimizer.step()\n",
    "\n",
    "    # compute loss and accuracy after an epoch on the train and valid set\n",
    "    model.eval()  \n",
    "    with torch.no_grad(): # since we're not training, we don't need to calculate the gradients for our outputs\n",
    "      idx = 0\n",
    "      for batch in val_loader:\n",
    "        inputs,labels=batch\n",
    "        inputs = torch.cat((inputs,inputs,inputs), dim=1)\n",
    "        inputs=inputs.to(device)\n",
    "        labels=labels.to(device)\n",
    "        if idx==0:\n",
    "          t_out = model(x=inputs)\n",
    "          t_loss = criterion(t_out, labels).view(1).item()\n",
    "          t_out = output_fn(t_out).detach().cpu().numpy()\n",
    "          t_out=t_out.argmax(axis=1)  # the class with the highest energy is what we choose as prediction                       \n",
    "          ground_truth = labels.detach().cpu().numpy()\n",
    "        else:\n",
    "          out = model(x=inputs)\n",
    "          t_loss = np.hstack((t_loss,criterion(out, labels).item())) \n",
    "          t_out = np.hstack((t_out,output_fn(out).argmax(axis=1).detach().cpu().numpy()))\n",
    "          ground_truth = np.hstack((ground_truth,labels.detach().cpu().numpy()))\n",
    "        idx+=1\n",
    "\n",
    "      acc_valid.append(get_accuracy(ground_truth,t_out))\n",
    "      loss_valid.append(np.mean(t_loss))\n",
    "\n",
    "    with torch.no_grad():\n",
    "      idx = 0\n",
    "      for batch in train_loader:\n",
    "        inputs,labels=batch\n",
    "        inputs = torch.cat((inputs,inputs,inputs), dim=1)\n",
    "        inputs=inputs.to(device)\n",
    "        labels=labels.to(device)\n",
    "        if idx==0:\n",
    "          t_out = model(x=inputs)\n",
    "          t_loss = criterion(t_out, labels).view(1).item()\n",
    "          t_out = output_fn(t_out).detach().cpu().numpy()\n",
    "          t_out=t_out.argmax(axis=1)\n",
    "          ground_truth = labels.detach().cpu().numpy()\n",
    "        else:\n",
    "          out = model(x=inputs)\n",
    "          t_loss = np.hstack((t_loss,criterion(out, labels).item()))\n",
    "          t_out = np.hstack((t_out,output_fn(out).argmax(axis=1).detach().cpu().numpy()))   \n",
    "          ground_truth = np.hstack((ground_truth,labels.detach().cpu().numpy()))\n",
    "        idx+=1\n",
    "\n",
    "    acc_train.append(get_accuracy(ground_truth,t_out))\n",
    "    loss_train.append(np.mean(t_loss))\n",
    "\n",
    "    print('| Epoch: {}/{} | Train: Loss {:.4f} Accuracy : {:.4f} '\\\n",
    "      '| Val: Loss {:.4f} Accuracy : {:.4f}\\n'.format(epoch+1,epochs,loss_train[epoch],acc_train[epoch],loss_valid[epoch],acc_valid[epoch]))\n",
    "    \n",
    "\n",
    "  return model, (loss_train, acc_train, loss_valid, acc_valid)"
   ]
  },
  {
   "cell_type": "code",
   "execution_count": 91,
   "metadata": {},
   "outputs": [
    {
     "name": "stderr",
     "output_type": "stream",
     "text": [
      " 10%|████████▎                                                                          | 1/10 [00:05<00:52,  5.86s/it]"
     ]
    },
    {
     "name": "stdout",
     "output_type": "stream",
     "text": [
      "| Epoch: 1/10 | Train: Loss 3.2387 Accuracy : 0.1000 | Val: Loss 3.2951 Accuracy : 0.1010\n",
      "\n"
     ]
    },
    {
     "name": "stderr",
     "output_type": "stream",
     "text": [
      " 20%|████████████████▌                                                                  | 2/10 [00:11<00:46,  5.87s/it]"
     ]
    },
    {
     "name": "stdout",
     "output_type": "stream",
     "text": [
      "| Epoch: 2/10 | Train: Loss 1.9902 Accuracy : 0.5500 | Val: Loss 2.0703 Accuracy : 0.4221\n",
      "\n"
     ]
    },
    {
     "name": "stderr",
     "output_type": "stream",
     "text": [
      " 30%|████████████████████████▉                                                          | 3/10 [00:16<00:37,  5.39s/it]"
     ]
    },
    {
     "name": "stdout",
     "output_type": "stream",
     "text": [
      "| Epoch: 3/10 | Train: Loss 1.0630 Accuracy : 0.6800 | Val: Loss 1.3794 Accuracy : 0.5418\n",
      "\n"
     ]
    },
    {
     "name": "stderr",
     "output_type": "stream",
     "text": [
      " 40%|█████████████████████████████████▏                                                 | 4/10 [00:21<00:31,  5.21s/it]"
     ]
    },
    {
     "name": "stdout",
     "output_type": "stream",
     "text": [
      "| Epoch: 4/10 | Train: Loss 0.5112 Accuracy : 0.8300 | Val: Loss 1.0051 Accuracy : 0.6895\n",
      "\n"
     ]
    },
    {
     "name": "stderr",
     "output_type": "stream",
     "text": [
      " 50%|█████████████████████████████████████████▌                                         | 5/10 [00:26<00:25,  5.06s/it]"
     ]
    },
    {
     "name": "stdout",
     "output_type": "stream",
     "text": [
      "| Epoch: 5/10 | Train: Loss 0.2800 Accuracy : 0.9200 | Val: Loss 1.3073 Accuracy : 0.6997\n",
      "\n"
     ]
    },
    {
     "name": "stderr",
     "output_type": "stream",
     "text": [
      " 60%|█████████████████████████████████████████████████▊                                 | 6/10 [00:31<00:20,  5.00s/it]"
     ]
    },
    {
     "name": "stdout",
     "output_type": "stream",
     "text": [
      "| Epoch: 6/10 | Train: Loss 0.3929 Accuracy : 0.8200 | Val: Loss 2.0797 Accuracy : 0.5951\n",
      "\n"
     ]
    },
    {
     "name": "stderr",
     "output_type": "stream",
     "text": [
      " 70%|██████████████████████████████████████████████████████████                         | 7/10 [00:36<00:14,  4.96s/it]"
     ]
    },
    {
     "name": "stdout",
     "output_type": "stream",
     "text": [
      "| Epoch: 7/10 | Train: Loss 0.1277 Accuracy : 0.9800 | Val: Loss 1.4826 Accuracy : 0.7150\n",
      "\n"
     ]
    },
    {
     "name": "stderr",
     "output_type": "stream",
     "text": [
      " 80%|██████████████████████████████████████████████████████████████████▍                | 8/10 [00:40<00:09,  4.92s/it]"
     ]
    },
    {
     "name": "stdout",
     "output_type": "stream",
     "text": [
      "| Epoch: 8/10 | Train: Loss 0.1290 Accuracy : 0.9600 | Val: Loss 1.5724 Accuracy : 0.7002\n",
      "\n"
     ]
    },
    {
     "name": "stderr",
     "output_type": "stream",
     "text": [
      " 90%|██████████████████████████████████████████████████████████████████████████▋        | 9/10 [00:45<00:04,  4.91s/it]"
     ]
    },
    {
     "name": "stdout",
     "output_type": "stream",
     "text": [
      "| Epoch: 9/10 | Train: Loss 0.0574 Accuracy : 0.9800 | Val: Loss 1.5901 Accuracy : 0.7074\n",
      "\n"
     ]
    },
    {
     "name": "stderr",
     "output_type": "stream",
     "text": [
      "100%|██████████████████████████████████████████████████████████████████████████████████| 10/10 [00:50<00:00,  5.07s/it]"
     ]
    },
    {
     "name": "stdout",
     "output_type": "stream",
     "text": [
      "| Epoch: 10/10 | Train: Loss 0.0244 Accuracy : 1.0000 | Val: Loss 1.4949 Accuracy : 0.7307\n",
      "\n"
     ]
    },
    {
     "name": "stderr",
     "output_type": "stream",
     "text": [
      "\n"
     ]
    }
   ],
   "source": [
    "epochs = 10\n",
    "\n",
    "args_train = {\"train_loader\" : labeledloader,\n",
    "              \"val_loader\" : testloader,\n",
    "              \"model\" : model2,\n",
    "              \"epochs\" : epochs,\n",
    "              \"optimizer\" : optimizer,\n",
    "              \"criterion\" : criterion}\n",
    "\n",
    "net2, (loss_train, acc_train, loss_valid, acc_valid) = train_func(**args_train)"
   ]
  },
  {
   "cell_type": "code",
   "execution_count": null,
   "metadata": {},
   "outputs": [],
   "source": [
    "## Avec Resnet maintenant "
   ]
  },
  {
   "cell_type": "code",
   "execution_count": 115,
   "metadata": {},
   "outputs": [
    {
     "name": "stderr",
     "output_type": "stream",
     "text": [
      "C:\\Users\\skinz\\anaconda3\\envs\\Deep_learning_course\\lib\\site-packages\\torchvision\\models\\_utils.py:208: UserWarning: The parameter 'pretrained' is deprecated since 0.13 and may be removed in the future, please use 'weights' instead.\n",
      "  warnings.warn(\n",
      "C:\\Users\\skinz\\anaconda3\\envs\\Deep_learning_course\\lib\\site-packages\\torchvision\\models\\_utils.py:223: UserWarning: Arguments other than a weight enum or `None` for 'weights' are deprecated since 0.13 and may be removed in the future. The current behavior is equivalent to passing `weights=ResNet18_Weights.IMAGENET1K_V1`. You can also use `weights=ResNet18_Weights.DEFAULT` to get the most up-to-date weights.\n",
      "  warnings.warn(msg)\n"
     ]
    }
   ],
   "source": [
    "import torchvision.models as models\n",
    "resnet = models.resnet18(pretrained=True)\n",
    "#PATH = './resnet18_default.pth'\n",
    "#torch.save(resnet.state_dict(), PATH)"
   ]
  },
  {
   "cell_type": "code",
   "execution_count": 99,
   "metadata": {},
   "outputs": [],
   "source": [
    "# We must put all layers 'require_grad' to false first\n",
    "for name, param in resnet.named_parameters():\n",
    "    param.requires_grad = False"
   ]
  },
  {
   "cell_type": "code",
   "execution_count": 100,
   "metadata": {},
   "outputs": [],
   "source": [
    "# update the final layer\n",
    "# the final layer 'require_grad' should be on True\n",
    "num_ftrs = resnet.fc.in_features\n",
    "resnet.fc = nn.Linear(num_ftrs, 10)"
   ]
  },
  {
   "cell_type": "code",
   "execution_count": 101,
   "metadata": {},
   "outputs": [],
   "source": [
    "# to device\n",
    "resnet = resnet.to(device)"
   ]
  },
  {
   "cell_type": "code",
   "execution_count": 127,
   "metadata": {},
   "outputs": [
    {
     "data": {
      "text/plain": [
       "torch.Size([64, 3, 7, 7])"
      ]
     },
     "execution_count": 127,
     "metadata": {},
     "output_type": "execute_result"
    }
   ],
   "source": [
    "resnet.conv1.weight.shape"
   ]
  },
  {
   "cell_type": "code",
   "execution_count": 134,
   "metadata": {},
   "outputs": [],
   "source": [
    "img_rgb = torch.cat((img,img,img), axis = 0)"
   ]
  },
  {
   "cell_type": "code",
   "execution_count": 135,
   "metadata": {},
   "outputs": [
    {
     "data": {
      "text/plain": [
       "torch.Size([3, 28, 28])"
      ]
     },
     "execution_count": 135,
     "metadata": {},
     "output_type": "execute_result"
    }
   ],
   "source": [
    "img_rgb.shape"
   ]
  },
  {
   "cell_type": "code",
   "execution_count": 137,
   "metadata": {},
   "outputs": [
    {
     "data": {
      "text/plain": [
       "torch.Size([64, 14, 14])"
      ]
     },
     "execution_count": 137,
     "metadata": {},
     "output_type": "execute_result"
    }
   ],
   "source": [
    "resnet.conv1(img_rgb).shape"
   ]
  },
  {
   "cell_type": "code",
   "execution_count": 139,
   "metadata": {},
   "outputs": [
    {
     "data": {
      "text/plain": [
       "Conv2d(3, 64, kernel_size=(7, 7), stride=(2, 2), padding=(3, 3), bias=False)"
      ]
     },
     "execution_count": 139,
     "metadata": {},
     "output_type": "execute_result"
    }
   ],
   "source": [
    "resnet.conv1"
   ]
  },
  {
   "cell_type": "code",
   "execution_count": 102,
   "metadata": {},
   "outputs": [],
   "source": [
    "output_fn = nn.Softmax(dim=1)\n",
    "criterion = nn.CrossEntropyLoss()"
   ]
  },
  {
   "cell_type": "code",
   "execution_count": 103,
   "metadata": {},
   "outputs": [
    {
     "name": "stderr",
     "output_type": "stream",
     "text": [
      "  3%|██▊                                                                                | 1/30 [00:06<03:20,  6.91s/it]"
     ]
    },
    {
     "name": "stdout",
     "output_type": "stream",
     "text": [
      "| Epoch: 1/30 | Train: Loss 2.3117 Accuracy : 0.0900 | Val: Loss 2.3139 Accuracy : 0.0851\n",
      "\n"
     ]
    },
    {
     "name": "stderr",
     "output_type": "stream",
     "text": [
      "  7%|█████▌                                                                             | 2/30 [00:13<03:01,  6.47s/it]"
     ]
    },
    {
     "name": "stdout",
     "output_type": "stream",
     "text": [
      "| Epoch: 2/30 | Train: Loss 2.2800 Accuracy : 0.1200 | Val: Loss 2.2861 Accuracy : 0.1413\n",
      "\n"
     ]
    },
    {
     "name": "stderr",
     "output_type": "stream",
     "text": [
      " 10%|████████▎                                                                          | 3/30 [00:19<02:52,  6.41s/it]"
     ]
    },
    {
     "name": "stdout",
     "output_type": "stream",
     "text": [
      "| Epoch: 3/30 | Train: Loss 2.2457 Accuracy : 0.2100 | Val: Loss 2.2498 Accuracy : 0.2031\n",
      "\n"
     ]
    },
    {
     "name": "stderr",
     "output_type": "stream",
     "text": [
      " 13%|███████████                                                                        | 4/30 [00:25<02:44,  6.33s/it]"
     ]
    },
    {
     "name": "stdout",
     "output_type": "stream",
     "text": [
      "| Epoch: 4/30 | Train: Loss 2.2071 Accuracy : 0.2300 | Val: Loss 2.2104 Accuracy : 0.2310\n",
      "\n"
     ]
    },
    {
     "name": "stderr",
     "output_type": "stream",
     "text": [
      " 17%|█████████████▊                                                                     | 5/30 [00:31<02:38,  6.35s/it]"
     ]
    },
    {
     "name": "stdout",
     "output_type": "stream",
     "text": [
      "| Epoch: 5/30 | Train: Loss 2.1678 Accuracy : 0.2600 | Val: Loss 2.1725 Accuracy : 0.2512\n",
      "\n"
     ]
    },
    {
     "name": "stderr",
     "output_type": "stream",
     "text": [
      " 20%|████████████████▌                                                                  | 6/30 [00:38<02:31,  6.31s/it]"
     ]
    },
    {
     "name": "stdout",
     "output_type": "stream",
     "text": [
      "| Epoch: 6/30 | Train: Loss 2.1212 Accuracy : 0.2900 | Val: Loss 2.1363 Accuracy : 0.2747\n",
      "\n"
     ]
    },
    {
     "name": "stderr",
     "output_type": "stream",
     "text": [
      " 23%|███████████████████▎                                                               | 7/30 [00:44<02:25,  6.32s/it]"
     ]
    },
    {
     "name": "stdout",
     "output_type": "stream",
     "text": [
      "| Epoch: 7/30 | Train: Loss 2.0738 Accuracy : 0.2900 | Val: Loss 2.1000 Accuracy : 0.2978\n",
      "\n"
     ]
    },
    {
     "name": "stderr",
     "output_type": "stream",
     "text": [
      " 27%|██████████████████████▏                                                            | 8/30 [00:50<02:19,  6.35s/it]"
     ]
    },
    {
     "name": "stdout",
     "output_type": "stream",
     "text": [
      "| Epoch: 8/30 | Train: Loss 2.0247 Accuracy : 0.2800 | Val: Loss 2.0640 Accuracy : 0.3170\n",
      "\n"
     ]
    },
    {
     "name": "stderr",
     "output_type": "stream",
     "text": [
      " 30%|████████████████████████▉                                                          | 9/30 [00:57<02:12,  6.31s/it]"
     ]
    },
    {
     "name": "stdout",
     "output_type": "stream",
     "text": [
      "| Epoch: 9/30 | Train: Loss 1.9782 Accuracy : 0.3300 | Val: Loss 2.0306 Accuracy : 0.3302\n",
      "\n"
     ]
    },
    {
     "name": "stderr",
     "output_type": "stream",
     "text": [
      " 33%|███████████████████████████▎                                                      | 10/30 [01:03<02:05,  6.28s/it]"
     ]
    },
    {
     "name": "stdout",
     "output_type": "stream",
     "text": [
      "| Epoch: 10/30 | Train: Loss 1.9310 Accuracy : 0.3700 | Val: Loss 2.0027 Accuracy : 0.3412\n",
      "\n"
     ]
    },
    {
     "name": "stderr",
     "output_type": "stream",
     "text": [
      " 37%|██████████████████████████████                                                    | 11/30 [01:09<01:59,  6.28s/it]"
     ]
    },
    {
     "name": "stdout",
     "output_type": "stream",
     "text": [
      "| Epoch: 11/30 | Train: Loss 1.8926 Accuracy : 0.3700 | Val: Loss 1.9810 Accuracy : 0.3480\n",
      "\n"
     ]
    },
    {
     "name": "stderr",
     "output_type": "stream",
     "text": [
      " 40%|████████████████████████████████▊                                                 | 12/30 [01:17<02:00,  6.69s/it]"
     ]
    },
    {
     "name": "stdout",
     "output_type": "stream",
     "text": [
      "| Epoch: 12/30 | Train: Loss 1.8556 Accuracy : 0.4100 | Val: Loss 1.9668 Accuracy : 0.3523\n",
      "\n"
     ]
    },
    {
     "name": "stderr",
     "output_type": "stream",
     "text": [
      " 43%|███████████████████████████████████▌                                              | 13/30 [01:25<02:01,  7.17s/it]"
     ]
    },
    {
     "name": "stdout",
     "output_type": "stream",
     "text": [
      "| Epoch: 13/30 | Train: Loss 1.8233 Accuracy : 0.4300 | Val: Loss 1.9603 Accuracy : 0.3533\n",
      "\n"
     ]
    },
    {
     "name": "stderr",
     "output_type": "stream",
     "text": [
      " 47%|██████████████████████████████████████▎                                           | 14/30 [01:33<01:58,  7.40s/it]"
     ]
    },
    {
     "name": "stdout",
     "output_type": "stream",
     "text": [
      "| Epoch: 14/30 | Train: Loss 1.7937 Accuracy : 0.4400 | Val: Loss 1.9610 Accuracy : 0.3516\n",
      "\n"
     ]
    },
    {
     "name": "stderr",
     "output_type": "stream",
     "text": [
      " 50%|█████████████████████████████████████████                                         | 15/30 [01:41<01:55,  7.72s/it]"
     ]
    },
    {
     "name": "stdout",
     "output_type": "stream",
     "text": [
      "| Epoch: 15/30 | Train: Loss 1.7619 Accuracy : 0.4700 | Val: Loss 1.9670 Accuracy : 0.3479\n",
      "\n"
     ]
    },
    {
     "name": "stderr",
     "output_type": "stream",
     "text": [
      " 53%|███████████████████████████████████████████▋                                      | 16/30 [01:50<01:50,  7.93s/it]"
     ]
    },
    {
     "name": "stdout",
     "output_type": "stream",
     "text": [
      "| Epoch: 16/30 | Train: Loss 1.7322 Accuracy : 0.4900 | Val: Loss 1.9779 Accuracy : 0.3408\n",
      "\n"
     ]
    },
    {
     "name": "stderr",
     "output_type": "stream",
     "text": [
      " 57%|██████████████████████████████████████████████▍                                   | 17/30 [02:00<01:50,  8.53s/it]"
     ]
    },
    {
     "name": "stdout",
     "output_type": "stream",
     "text": [
      "| Epoch: 17/30 | Train: Loss 1.7107 Accuracy : 0.4700 | Val: Loss 1.9916 Accuracy : 0.3309\n",
      "\n"
     ]
    },
    {
     "name": "stderr",
     "output_type": "stream",
     "text": [
      " 60%|█████████████████████████████████████████████████▏                                | 18/30 [02:08<01:42,  8.53s/it]"
     ]
    },
    {
     "name": "stdout",
     "output_type": "stream",
     "text": [
      "| Epoch: 18/30 | Train: Loss 1.6962 Accuracy : 0.4400 | Val: Loss 2.0052 Accuracy : 0.3277\n",
      "\n"
     ]
    },
    {
     "name": "stderr",
     "output_type": "stream",
     "text": [
      " 63%|███████████████████████████████████████████████████▉                              | 19/30 [02:18<01:36,  8.75s/it]"
     ]
    },
    {
     "name": "stdout",
     "output_type": "stream",
     "text": [
      "| Epoch: 19/30 | Train: Loss 1.6892 Accuracy : 0.4200 | Val: Loss 2.0170 Accuracy : 0.3228\n",
      "\n"
     ]
    },
    {
     "name": "stderr",
     "output_type": "stream",
     "text": [
      " 67%|██████████████████████████████████████████████████████▋                           | 20/30 [02:26<01:26,  8.66s/it]"
     ]
    },
    {
     "name": "stdout",
     "output_type": "stream",
     "text": [
      "| Epoch: 20/30 | Train: Loss 1.6910 Accuracy : 0.4600 | Val: Loss 2.0269 Accuracy : 0.3190\n",
      "\n"
     ]
    },
    {
     "name": "stderr",
     "output_type": "stream",
     "text": [
      " 70%|█████████████████████████████████████████████████████████▍                        | 21/30 [02:35<01:17,  8.59s/it]"
     ]
    },
    {
     "name": "stdout",
     "output_type": "stream",
     "text": [
      "| Epoch: 21/30 | Train: Loss 1.6889 Accuracy : 0.4300 | Val: Loss 2.0330 Accuracy : 0.3185\n",
      "\n"
     ]
    },
    {
     "name": "stderr",
     "output_type": "stream",
     "text": [
      " 73%|████████████████████████████████████████████████████████████▏                     | 22/30 [02:44<01:09,  8.71s/it]"
     ]
    },
    {
     "name": "stdout",
     "output_type": "stream",
     "text": [
      "| Epoch: 22/30 | Train: Loss 1.6753 Accuracy : 0.4400 | Val: Loss 2.0373 Accuracy : 0.3185\n",
      "\n"
     ]
    },
    {
     "name": "stderr",
     "output_type": "stream",
     "text": [
      " 77%|██████████████████████████████████████████████████████████████▊                   | 23/30 [02:53<01:03,  9.07s/it]"
     ]
    },
    {
     "name": "stdout",
     "output_type": "stream",
     "text": [
      "| Epoch: 23/30 | Train: Loss 1.6451 Accuracy : 0.4900 | Val: Loss 2.0395 Accuracy : 0.3219\n",
      "\n"
     ]
    },
    {
     "name": "stderr",
     "output_type": "stream",
     "text": [
      " 80%|█████████████████████████████████████████████████████████████████▌                | 24/30 [03:03<00:56,  9.35s/it]"
     ]
    },
    {
     "name": "stdout",
     "output_type": "stream",
     "text": [
      "| Epoch: 24/30 | Train: Loss 1.6114 Accuracy : 0.4900 | Val: Loss 2.0388 Accuracy : 0.3201\n",
      "\n"
     ]
    },
    {
     "name": "stderr",
     "output_type": "stream",
     "text": [
      " 83%|████████████████████████████████████████████████████████████████████▎             | 25/30 [03:13<00:46,  9.36s/it]"
     ]
    },
    {
     "name": "stdout",
     "output_type": "stream",
     "text": [
      "| Epoch: 25/30 | Train: Loss 1.5744 Accuracy : 0.5000 | Val: Loss 2.0354 Accuracy : 0.3231\n",
      "\n"
     ]
    },
    {
     "name": "stderr",
     "output_type": "stream",
     "text": [
      " 87%|███████████████████████████████████████████████████████████████████████           | 26/30 [03:23<00:38,  9.51s/it]"
     ]
    },
    {
     "name": "stdout",
     "output_type": "stream",
     "text": [
      "| Epoch: 26/30 | Train: Loss 1.5353 Accuracy : 0.5100 | Val: Loss 2.0291 Accuracy : 0.3262\n",
      "\n"
     ]
    },
    {
     "name": "stderr",
     "output_type": "stream",
     "text": [
      " 90%|█████████████████████████████████████████████████████████████████████████▊        | 27/30 [03:32<00:27,  9.33s/it]"
     ]
    },
    {
     "name": "stdout",
     "output_type": "stream",
     "text": [
      "| Epoch: 27/30 | Train: Loss 1.4896 Accuracy : 0.5200 | Val: Loss 2.0200 Accuracy : 0.3297\n",
      "\n"
     ]
    },
    {
     "name": "stderr",
     "output_type": "stream",
     "text": [
      " 93%|████████████████████████████████████████████████████████████████████████████▌     | 28/30 [03:42<00:19,  9.70s/it]"
     ]
    },
    {
     "name": "stdout",
     "output_type": "stream",
     "text": [
      "| Epoch: 28/30 | Train: Loss 1.4404 Accuracy : 0.5600 | Val: Loss 2.0085 Accuracy : 0.3372\n",
      "\n"
     ]
    },
    {
     "name": "stderr",
     "output_type": "stream",
     "text": [
      " 97%|███████████████████████████████████████████████████████████████████████████████▎  | 29/30 [03:51<00:09,  9.52s/it]"
     ]
    },
    {
     "name": "stdout",
     "output_type": "stream",
     "text": [
      "| Epoch: 29/30 | Train: Loss 1.3872 Accuracy : 0.5800 | Val: Loss 1.9959 Accuracy : 0.3429\n",
      "\n"
     ]
    },
    {
     "name": "stderr",
     "output_type": "stream",
     "text": [
      "100%|██████████████████████████████████████████████████████████████████████████████████| 30/30 [04:01<00:00,  8.05s/it]"
     ]
    },
    {
     "name": "stdout",
     "output_type": "stream",
     "text": [
      "| Epoch: 30/30 | Train: Loss 1.3258 Accuracy : 0.6200 | Val: Loss 1.9824 Accuracy : 0.3509\n",
      "\n"
     ]
    },
    {
     "name": "stderr",
     "output_type": "stream",
     "text": [
      "\n"
     ]
    }
   ],
   "source": [
    "optimizer = optim.Adam(resnet.parameters(), lr=0.001)\n",
    "epochs = 30\n",
    "    \n",
    "args_train = {\"train_loader\" : labeledloader,\n",
    "              \"val_loader\" : testloader,\n",
    "              \"model\" : resnet,\n",
    "              \"epochs\" : epochs,\n",
    "              \"optimizer\" : optimizer,\n",
    "              \"criterion\" : criterion}\n",
    "net, (loss_train, acc_train, loss_valid, acc_valid) = train_func(**args_train)"
   ]
  },
  {
   "cell_type": "code",
   "execution_count": 105,
   "metadata": {},
   "outputs": [],
   "source": [
    "import torchvision.models as models\n",
    "vgg16 = models.vgg16(pretrained=True)\n",
    "PATH = './vgg16_trained.pth'\n",
    "torch.save(vgg16.state_dict(), PATH)"
   ]
  },
  {
   "cell_type": "code",
   "execution_count": 107,
   "metadata": {},
   "outputs": [],
   "source": [
    "# We must put all layers 'require_grad' to false first\n",
    "for name, param in vgg16.named_parameters():\n",
    "    param.requires_grad = False"
   ]
  },
  {
   "cell_type": "code",
   "execution_count": 108,
   "metadata": {},
   "outputs": [
    {
     "data": {
      "text/plain": [
       "VGG(\n",
       "  (features): Sequential(\n",
       "    (0): Conv2d(3, 64, kernel_size=(3, 3), stride=(1, 1), padding=(1, 1))\n",
       "    (1): ReLU(inplace=True)\n",
       "    (2): Conv2d(64, 64, kernel_size=(3, 3), stride=(1, 1), padding=(1, 1))\n",
       "    (3): ReLU(inplace=True)\n",
       "    (4): MaxPool2d(kernel_size=2, stride=2, padding=0, dilation=1, ceil_mode=False)\n",
       "    (5): Conv2d(64, 128, kernel_size=(3, 3), stride=(1, 1), padding=(1, 1))\n",
       "    (6): ReLU(inplace=True)\n",
       "    (7): Conv2d(128, 128, kernel_size=(3, 3), stride=(1, 1), padding=(1, 1))\n",
       "    (8): ReLU(inplace=True)\n",
       "    (9): MaxPool2d(kernel_size=2, stride=2, padding=0, dilation=1, ceil_mode=False)\n",
       "    (10): Conv2d(128, 256, kernel_size=(3, 3), stride=(1, 1), padding=(1, 1))\n",
       "    (11): ReLU(inplace=True)\n",
       "    (12): Conv2d(256, 256, kernel_size=(3, 3), stride=(1, 1), padding=(1, 1))\n",
       "    (13): ReLU(inplace=True)\n",
       "    (14): Conv2d(256, 256, kernel_size=(3, 3), stride=(1, 1), padding=(1, 1))\n",
       "    (15): ReLU(inplace=True)\n",
       "    (16): MaxPool2d(kernel_size=2, stride=2, padding=0, dilation=1, ceil_mode=False)\n",
       "    (17): Conv2d(256, 512, kernel_size=(3, 3), stride=(1, 1), padding=(1, 1))\n",
       "    (18): ReLU(inplace=True)\n",
       "    (19): Conv2d(512, 512, kernel_size=(3, 3), stride=(1, 1), padding=(1, 1))\n",
       "    (20): ReLU(inplace=True)\n",
       "    (21): Conv2d(512, 512, kernel_size=(3, 3), stride=(1, 1), padding=(1, 1))\n",
       "    (22): ReLU(inplace=True)\n",
       "    (23): MaxPool2d(kernel_size=2, stride=2, padding=0, dilation=1, ceil_mode=False)\n",
       "    (24): Conv2d(512, 512, kernel_size=(3, 3), stride=(1, 1), padding=(1, 1))\n",
       "    (25): ReLU(inplace=True)\n",
       "    (26): Conv2d(512, 512, kernel_size=(3, 3), stride=(1, 1), padding=(1, 1))\n",
       "    (27): ReLU(inplace=True)\n",
       "    (28): Conv2d(512, 512, kernel_size=(3, 3), stride=(1, 1), padding=(1, 1))\n",
       "    (29): ReLU(inplace=True)\n",
       "    (30): MaxPool2d(kernel_size=2, stride=2, padding=0, dilation=1, ceil_mode=False)\n",
       "  )\n",
       "  (avgpool): AdaptiveAvgPool2d(output_size=(7, 7))\n",
       "  (classifier): Sequential(\n",
       "    (0): Linear(in_features=25088, out_features=4096, bias=True)\n",
       "    (1): ReLU(inplace=True)\n",
       "    (2): Dropout(p=0.5, inplace=False)\n",
       "    (3): Linear(in_features=4096, out_features=4096, bias=True)\n",
       "    (4): ReLU(inplace=True)\n",
       "    (5): Dropout(p=0.5, inplace=False)\n",
       "    (6): Linear(in_features=4096, out_features=1000, bias=True)\n",
       "  )\n",
       ")"
      ]
     },
     "execution_count": 108,
     "metadata": {},
     "output_type": "execute_result"
    }
   ],
   "source": [
    "vgg16"
   ]
  },
  {
   "cell_type": "code",
   "execution_count": 123,
   "metadata": {},
   "outputs": [
    {
     "data": {
      "text/plain": [
       "Linear(in_features=4096, out_features=1000, bias=True)"
      ]
     },
     "execution_count": 123,
     "metadata": {},
     "output_type": "execute_result"
    }
   ],
   "source": [
    "vgg16.classifier[-1]"
   ]
  },
  {
   "cell_type": "code",
   "execution_count": 120,
   "metadata": {},
   "outputs": [
    {
     "name": "stdout",
     "output_type": "stream",
     "text": [
      "Parameter containing:\n",
      "tensor([[-0.0011, -0.0027,  0.0022,  ...,  0.0066, -0.0004, -0.0021],\n",
      "        [ 0.0052,  0.0020,  0.0046,  ..., -0.0054, -0.0045, -0.0019],\n",
      "        [-0.0005,  0.0052,  0.0018,  ...,  0.0068,  0.0005,  0.0091],\n",
      "        ...,\n",
      "        [-0.0075, -0.0096, -0.0025,  ..., -0.0079, -0.0106, -0.0036],\n",
      "        [-0.0004,  0.0014, -0.0019,  ...,  0.0036,  0.0021,  0.0038],\n",
      "        [ 0.0063,  0.0041, -0.0004,  ..., -0.0030,  0.0011,  0.0047]])\n",
      "Parameter containing:\n",
      "tensor([ 0.0341,  0.0021,  0.0217,  ..., -0.0060,  0.0480,  0.0001])\n",
      "Parameter containing:\n",
      "tensor([[-0.0113,  0.0104, -0.0017,  ..., -0.0161,  0.0121,  0.0065],\n",
      "        [-0.0005, -0.0078,  0.0071,  ..., -0.0041,  0.0099, -0.0111],\n",
      "        [-0.0109, -0.0052,  0.0168,  ..., -0.0036,  0.0035, -0.0224],\n",
      "        ...,\n",
      "        [-0.0107, -0.0073, -0.0038,  ..., -0.0025,  0.0083, -0.0054],\n",
      "        [ 0.0054,  0.0081, -0.0136,  ...,  0.0041, -0.0004, -0.0023],\n",
      "        [ 0.0288,  0.0066,  0.0049,  ...,  0.0244,  0.0066, -0.0073]])\n",
      "Parameter containing:\n",
      "tensor([0.0332, 0.0616, 0.0307,  ..., 0.0456, 0.0442, 0.0588])\n",
      "Parameter containing:\n",
      "tensor([[ 1.3450e-02,  4.2154e-02, -2.3040e-03,  ..., -4.9025e-04,\n",
      "          1.8880e-02, -1.4209e-02],\n",
      "        [ 7.6020e-03,  4.7305e-02, -5.0164e-03,  ..., -4.9127e-03,\n",
      "         -5.6295e-03, -1.4197e-02],\n",
      "        [ 2.1238e-03, -1.2520e-02, -1.8903e-02,  ..., -1.0263e-02,\n",
      "          3.0020e-02, -2.8852e-02],\n",
      "        ...,\n",
      "        [-9.8278e-03,  3.2054e-02,  3.5979e-02,  ..., -5.6409e-03,\n",
      "          8.3202e-03, -7.5155e-03],\n",
      "        [ 1.6646e-02, -1.1247e-03,  1.5044e-03,  ..., -9.1578e-03,\n",
      "         -8.6418e-03, -2.0923e-02],\n",
      "        [-6.4900e-06, -2.2274e-02,  5.2750e-04,  ...,  4.4403e-02,\n",
      "         -9.4047e-03, -1.2332e-02]])\n",
      "Parameter containing:\n",
      "tensor([ 2.0239e-02, -2.9844e-02, -6.0355e-03,  5.3569e-03,  2.4703e-02,\n",
      "         9.4541e-04,  7.6767e-03, -1.2997e-02, -1.7257e-02,  2.4917e-03,\n",
      "        -2.9578e-03, -1.2410e-02,  1.9179e-02,  2.2878e-02,  1.6132e-02,\n",
      "        -1.5368e-02,  1.3967e-03,  4.3597e-04,  1.4483e-02,  1.6664e-02,\n",
      "         1.0173e-02,  2.3670e-02, -1.2096e-03,  1.6110e-02, -5.3769e-03,\n",
      "        -1.1735e-02, -1.0727e-02, -2.9511e-02, -7.2404e-03,  3.9187e-02,\n",
      "         1.1590e-02,  2.8063e-03, -5.4244e-03, -4.0255e-03,  1.3839e-04,\n",
      "        -1.1612e-02, -1.8595e-03,  1.5770e-02, -1.7732e-02,  1.0556e-02,\n",
      "         1.2518e-02,  6.8095e-03, -1.2896e-02, -4.4475e-03,  3.5410e-03,\n",
      "        -2.7491e-03,  2.2288e-02,  2.3229e-02,  1.0078e-02,  1.2641e-02,\n",
      "         7.9056e-03,  2.1109e-02, -1.6828e-02,  6.2936e-03, -2.8307e-02,\n",
      "         7.4882e-03, -2.9438e-02,  4.9023e-02,  4.9702e-02,  3.8240e-02,\n",
      "        -6.2107e-02,  1.7567e-02,  1.3668e-02,  5.5128e-02,  6.3641e-02,\n",
      "        -1.5907e-02, -2.1543e-02,  2.4153e-02,  2.9221e-03,  3.6656e-02,\n",
      "        -2.5589e-04,  1.0257e-02,  6.0446e-02, -2.0747e-02, -2.8418e-02,\n",
      "         3.8297e-02,  2.2449e-02,  1.2476e-02, -1.6173e-02, -6.9245e-03,\n",
      "        -1.2505e-02, -5.7967e-03, -1.4107e-02, -3.1422e-02, -1.4501e-02,\n",
      "         2.6878e-02,  8.3460e-04,  6.1786e-02, -2.5483e-02,  4.5734e-02,\n",
      "        -2.3228e-02, -4.4627e-04, -1.7937e-02, -2.0320e-02, -9.1343e-04,\n",
      "        -6.4768e-03,  2.8838e-03,  1.1061e-02, -6.5366e-03, -2.7389e-02,\n",
      "        -6.6679e-05,  1.2584e-02,  1.9082e-02,  3.7356e-02,  5.4718e-03,\n",
      "         3.8678e-02,  6.9227e-03, -2.8615e-02, -6.7014e-03, -4.2353e-02,\n",
      "        -1.1660e-01,  1.1963e-02,  1.0936e-03,  2.6548e-02,  1.8300e-02,\n",
      "        -5.5016e-02, -1.6249e-03,  2.6446e-02, -2.7349e-03, -2.7034e-02,\n",
      "         1.0505e-03, -3.8161e-02,  1.3213e-02, -4.9820e-03, -2.4466e-02,\n",
      "         5.7482e-03, -6.1060e-02,  2.7150e-03,  5.9516e-03,  7.9525e-04,\n",
      "        -6.7904e-02,  8.9988e-03,  4.4904e-02, -4.1445e-03, -4.8999e-02,\n",
      "        -3.8526e-02, -3.0757e-02, -3.0013e-03,  4.4977e-03, -7.2840e-03,\n",
      "         7.6950e-03,  5.5544e-03, -1.5949e-02, -3.3493e-02, -1.2481e-02,\n",
      "        -1.9195e-02,  2.0324e-02,  5.3610e-03,  1.9483e-02,  1.8587e-02,\n",
      "         5.8054e-03,  1.7311e-02, -8.2453e-02,  6.2503e-02, -1.2923e-02,\n",
      "         2.0150e-02,  2.7138e-02, -1.7074e-03, -5.9132e-02,  2.4080e-02,\n",
      "        -6.3872e-03,  3.1647e-02,  7.6580e-02, -3.4454e-04,  3.1730e-02,\n",
      "        -2.8833e-02,  5.7331e-03, -3.9463e-02,  4.0252e-02,  8.9949e-03,\n",
      "         3.5317e-02,  7.2347e-02, -5.3385e-04, -2.8689e-02,  6.2374e-02,\n",
      "        -4.2100e-02,  1.2404e-02,  3.7113e-02,  4.2264e-02, -1.0894e-03,\n",
      "         2.5798e-02,  1.3201e-02,  5.9872e-02,  2.6516e-02, -7.7218e-03,\n",
      "         1.6828e-02,  1.9599e-02,  3.4458e-02, -8.9315e-03,  2.9612e-02,\n",
      "        -1.1887e-02,  3.1144e-02,  3.7925e-02, -6.8350e-03,  2.9055e-02,\n",
      "         7.0744e-02,  3.5352e-02,  4.5257e-03, -6.7377e-03,  4.8965e-02,\n",
      "        -7.1239e-02,  6.5041e-03,  5.8401e-02,  5.3597e-02,  1.7927e-02,\n",
      "         3.6933e-02, -1.9689e-02,  3.3865e-02, -1.3453e-02,  6.9940e-02,\n",
      "         4.4340e-03, -1.8287e-02,  1.5174e-02, -2.2757e-02,  1.6309e-02,\n",
      "         4.5446e-02, -2.8600e-02,  4.9436e-02,  7.5250e-03, -1.0546e-02,\n",
      "        -2.2604e-02, -1.6502e-02,  4.5720e-02,  8.4474e-02, -1.2261e-02,\n",
      "         7.2513e-02,  2.4530e-03,  6.4050e-03, -6.6105e-03,  7.0984e-02,\n",
      "         3.5590e-02, -2.1918e-02,  6.7042e-02,  1.5241e-02,  6.0627e-02,\n",
      "         1.0640e-02,  2.5195e-02,  4.0457e-02,  4.5375e-02,  6.4500e-02,\n",
      "         1.4049e-02, -2.6033e-02,  6.9238e-03,  1.5410e-02,  1.0396e-02,\n",
      "        -2.2500e-03, -2.1743e-02,  2.7361e-02, -4.0054e-03,  3.6920e-03,\n",
      "         4.8795e-02,  2.2010e-02,  2.3484e-02, -3.5672e-02,  5.9931e-02,\n",
      "         3.5723e-03,  1.0215e-02,  7.1785e-02,  1.5093e-02,  1.9409e-02,\n",
      "        -1.0631e-02,  1.0041e-02, -3.5025e-02,  5.1083e-02,  6.7416e-03,\n",
      "         1.5887e-02,  4.2009e-02, -5.0773e-02, -1.7900e-02,  2.7642e-02,\n",
      "         2.0627e-02, -4.6130e-03,  2.1796e-02,  5.9296e-03, -3.2989e-02,\n",
      "        -7.5952e-03,  1.9803e-02,  9.4290e-03, -8.7341e-03,  1.7098e-02,\n",
      "        -2.2270e-02,  1.2361e-01, -3.8207e-02,  1.4395e-03,  5.4520e-02,\n",
      "         4.8118e-02,  3.4782e-02, -4.7019e-03, -1.9831e-02,  3.8845e-02,\n",
      "         6.0850e-03, -1.4381e-02,  4.9491e-02, -2.7058e-02, -2.4787e-02,\n",
      "        -6.3279e-03,  1.4277e-02,  2.2483e-02, -4.9233e-02,  3.8480e-02,\n",
      "        -2.9650e-02, -1.8599e-02, -1.9932e-03, -4.2109e-02, -6.0562e-02,\n",
      "         1.7470e-02,  2.7788e-02, -3.4156e-02, -5.0233e-03, -2.0081e-02,\n",
      "        -5.3831e-02, -7.0464e-03, -4.0125e-02,  5.2068e-02,  5.3731e-03,\n",
      "         9.0153e-03, -3.2561e-05, -3.3795e-02, -2.7959e-02, -2.4056e-02,\n",
      "        -1.0066e-02, -3.8689e-02, -2.3882e-02, -2.8881e-02,  1.9373e-03,\n",
      "        -5.9984e-02, -1.3545e-02, -6.0373e-02, -3.1486e-02, -7.4332e-02,\n",
      "         6.3616e-03, -3.0455e-02,  3.0601e-02,  5.2993e-02,  5.1747e-02,\n",
      "         2.2551e-02,  9.0139e-03, -2.1590e-02, -4.8878e-02,  2.6130e-02,\n",
      "        -1.2450e-03, -3.8225e-02,  6.8278e-03,  1.5274e-02,  2.5427e-02,\n",
      "        -3.3353e-02,  3.3671e-02,  1.6623e-02, -1.6129e-02,  2.3300e-02,\n",
      "         2.6170e-02, -8.3109e-03, -1.3620e-02, -1.0198e-02,  1.2645e-02,\n",
      "        -2.7044e-03, -5.1699e-02, -1.2183e-02, -4.2912e-03,  7.0602e-02,\n",
      "        -1.0591e-02,  3.3304e-02,  1.5505e-03,  2.7523e-02,  3.5229e-02,\n",
      "         2.6252e-02,  4.7357e-02,  2.9449e-02, -1.5236e-02,  4.1031e-02,\n",
      "        -1.1941e-02, -3.8416e-02,  3.4909e-02,  2.5368e-02,  5.3995e-04,\n",
      "         3.2529e-03,  2.0679e-02,  1.6295e-02,  5.9731e-02,  1.5224e-02,\n",
      "        -6.0552e-02, -1.7674e-02,  6.6975e-02,  1.4761e-02, -1.9037e-02,\n",
      "        -3.4594e-03,  3.7793e-02, -5.1098e-03,  5.8897e-03,  1.9403e-02,\n",
      "        -2.3564e-02,  1.9174e-02, -2.2748e-02, -2.0098e-02, -5.0562e-03,\n",
      "         2.3758e-02,  6.6555e-03, -7.3947e-03, -5.6201e-02,  2.3188e-02,\n",
      "         3.3316e-03,  2.4976e-02, -1.3101e-02,  2.4161e-02, -8.5088e-03,\n",
      "         4.9697e-02,  1.0554e-02, -7.4188e-02, -7.5903e-02, -2.4110e-02,\n",
      "         1.1068e-03, -3.4545e-03, -1.6059e-02,  3.6029e-02, -2.8019e-03,\n",
      "        -2.6729e-02,  3.9026e-02, -4.2616e-02, -9.9599e-03, -8.3776e-03,\n",
      "         2.8448e-02, -1.2167e-02, -5.3328e-02,  3.4896e-02,  5.4654e-02,\n",
      "         8.9463e-03, -4.2294e-02, -6.1719e-02,  7.0205e-03, -3.2173e-02,\n",
      "        -3.7807e-03,  5.2077e-02, -2.3974e-02,  1.7426e-02, -6.8874e-02,\n",
      "        -2.6062e-03,  3.0595e-02, -1.5023e-02,  1.4022e-02, -5.0861e-02,\n",
      "         3.7215e-03, -2.6806e-03,  3.5630e-02, -3.0362e-02,  2.2297e-02,\n",
      "         4.9580e-02,  1.2369e-03, -3.4180e-02,  6.0701e-02,  3.3855e-02,\n",
      "         6.1321e-03,  7.2363e-03, -1.6917e-03,  3.6149e-02,  2.1222e-02,\n",
      "        -3.3272e-02,  1.9069e-02, -6.0149e-03, -2.7366e-02,  2.8984e-03,\n",
      "        -3.4129e-03,  1.6887e-02, -3.5749e-03, -6.8191e-02,  2.3846e-02,\n",
      "         1.6106e-02,  4.3023e-02,  1.3928e-02,  2.9887e-02,  1.4960e-02,\n",
      "        -2.2989e-02,  2.0963e-02, -2.8435e-02,  2.0125e-02,  3.3749e-02,\n",
      "         8.2363e-02, -2.5720e-02,  1.0292e-01,  1.2403e-03, -2.7880e-02,\n",
      "         5.2865e-02, -2.4874e-02,  5.8873e-03, -4.3715e-03, -2.7919e-02,\n",
      "         3.2519e-02, -1.7567e-02,  5.1975e-02, -8.3832e-02,  1.4786e-02,\n",
      "        -1.2771e-02,  4.5308e-02,  2.4353e-02, -4.0642e-02, -5.5089e-02,\n",
      "        -2.2368e-02,  3.3539e-02, -7.9810e-02,  2.2758e-02, -1.9840e-02,\n",
      "         9.0427e-03, -2.4242e-02, -9.2313e-02,  1.1919e-02,  2.4050e-02,\n",
      "         3.2105e-02, -8.4704e-02, -1.6657e-02, -3.0554e-03,  4.6309e-03,\n",
      "        -2.3363e-02, -4.5799e-03,  1.5235e-02,  1.2100e-02,  1.2569e-02,\n",
      "         1.6497e-02, -1.9934e-02,  3.3158e-02, -8.1766e-03, -2.0283e-02,\n",
      "        -3.6283e-02, -7.5604e-03,  2.8872e-02,  2.8258e-03,  4.4513e-02,\n",
      "         4.7551e-03,  7.7385e-02,  5.9271e-02, -3.0499e-02, -8.8495e-05,\n",
      "        -1.0404e-02, -1.9523e-02, -8.4611e-04, -2.3710e-02,  1.6756e-02,\n",
      "         3.8044e-02, -2.4882e-02,  2.7985e-02, -2.4580e-03, -2.7513e-03,\n",
      "        -1.4628e-02, -4.4961e-02, -2.0490e-03, -4.6212e-02, -7.0188e-03,\n",
      "        -5.3620e-03, -3.9620e-03, -1.1776e-02,  2.6604e-02,  2.2971e-02,\n",
      "         2.5485e-02,  2.3256e-02, -3.0783e-02, -4.4985e-02, -2.1356e-02,\n",
      "        -1.3835e-02, -3.7883e-02,  1.3674e-02, -3.5847e-02, -6.0238e-02,\n",
      "        -1.6030e-02,  9.9658e-03, -3.9750e-02,  5.1179e-02,  3.4657e-02,\n",
      "        -2.8058e-02,  8.1699e-04, -4.7458e-02, -5.6738e-03,  2.1224e-02,\n",
      "         4.1393e-02, -1.0330e-02, -2.4760e-02, -2.8965e-02,  4.1361e-03,\n",
      "         2.6227e-02,  1.1228e-02,  4.7628e-02, -2.4562e-02,  1.7258e-02,\n",
      "        -4.8839e-02, -2.7126e-02, -7.2327e-02,  4.3933e-02, -3.7270e-02,\n",
      "         2.8985e-03,  2.5128e-02,  2.5233e-02, -9.0966e-03,  3.1926e-02,\n",
      "        -1.4033e-02, -5.3370e-03,  2.5925e-02, -8.3037e-03,  1.8597e-02,\n",
      "        -3.4749e-02, -1.6617e-02,  8.2843e-02,  1.5086e-02, -5.0715e-02,\n",
      "        -3.2014e-02, -3.3381e-03,  9.9305e-04,  3.2323e-02, -9.5939e-03,\n",
      "         1.8850e-02,  3.1632e-02, -5.2701e-02,  8.1888e-03, -2.6958e-03,\n",
      "         3.2904e-02, -2.0901e-02,  3.1157e-03,  2.2588e-02, -2.1898e-02,\n",
      "        -4.5704e-02, -4.8732e-02,  4.9820e-02, -3.4660e-02, -5.2025e-02,\n",
      "         5.6527e-02, -2.0000e-03,  4.7569e-03, -1.0292e-02, -1.2004e-02,\n",
      "        -2.7112e-02, -4.4175e-03,  4.7015e-02,  9.4183e-03, -1.0293e-02,\n",
      "         2.4827e-02, -2.1165e-02, -3.4728e-02,  2.6178e-02,  3.3729e-02,\n",
      "        -1.0051e-02, -2.4959e-02, -4.0963e-02, -6.2759e-02,  7.6392e-03,\n",
      "        -2.4506e-02, -3.5312e-02,  5.4566e-03, -5.4158e-02, -7.5320e-02,\n",
      "        -1.8790e-02, -2.0657e-02, -1.2283e-02,  1.9106e-02,  1.3047e-02,\n",
      "         1.1992e-02,  4.5593e-02, -1.0798e-02,  2.5652e-02,  2.9297e-02,\n",
      "         7.1481e-02,  3.4396e-02,  1.7480e-02, -1.9279e-02, -3.8183e-02,\n",
      "         4.4221e-02,  2.0793e-02,  1.7786e-02, -4.1785e-03,  1.4240e-02,\n",
      "         4.6463e-02, -6.6139e-04,  1.8974e-03,  2.7180e-02,  2.9930e-02,\n",
      "         3.3525e-02,  7.7600e-02,  3.6428e-02,  2.0724e-02,  4.4268e-02,\n",
      "         6.6297e-03, -8.3840e-02,  1.1172e-02,  5.1371e-03, -1.3041e-02,\n",
      "         1.1880e-02,  2.2298e-02,  1.2055e-02, -1.6229e-02, -2.8393e-02,\n",
      "         2.8677e-02, -1.5870e-03,  5.2088e-05, -2.1988e-02, -1.6203e-02,\n",
      "         8.4714e-03,  5.5201e-02, -1.0171e-02, -6.9343e-02, -1.8714e-02,\n",
      "         4.0182e-02,  1.8755e-02,  2.8231e-03, -1.4027e-02, -1.4812e-02,\n",
      "        -2.5366e-02, -2.1691e-02, -3.7325e-02,  1.9513e-02,  4.1396e-02,\n",
      "        -6.7270e-02,  5.4385e-02,  3.6110e-02, -3.2586e-02, -1.5797e-02,\n",
      "        -1.4585e-02, -4.5290e-03, -2.4140e-02,  4.1866e-02, -4.2935e-02,\n",
      "         3.4227e-02,  1.4480e-02,  2.3407e-03, -1.0121e-02,  1.3590e-02,\n",
      "         1.0312e-02, -3.6855e-02, -5.6961e-03, -4.5189e-02, -8.2578e-03,\n",
      "        -2.2380e-05,  5.0056e-02,  6.8531e-03, -6.7496e-03, -3.3575e-02,\n",
      "        -6.2393e-02,  7.9509e-03,  1.4348e-02, -8.3250e-02, -3.0460e-02,\n",
      "        -1.0488e-02, -2.0691e-02, -2.8651e-02,  3.6568e-02,  1.0958e-01,\n",
      "         6.6219e-03, -2.2891e-02,  9.8843e-03,  4.3048e-02, -3.0546e-02,\n",
      "         4.7700e-02, -3.5618e-02,  1.5470e-02, -1.3976e-02,  2.7720e-02,\n",
      "        -2.5930e-02,  1.3437e-03,  2.8364e-02, -1.3526e-02, -6.8687e-02,\n",
      "         1.7460e-02,  5.0171e-02,  1.7448e-02,  3.8029e-02,  9.8575e-03,\n",
      "         2.2886e-02,  1.2857e-02, -2.6916e-02,  4.8951e-02, -9.6445e-03,\n",
      "        -3.5893e-02, -2.6359e-02, -2.0544e-02,  3.6961e-03, -9.1653e-03,\n",
      "         2.1354e-02, -4.2778e-02, -4.1528e-02, -3.8514e-02, -3.1796e-02,\n",
      "         3.4630e-02,  4.7508e-02,  2.4460e-02, -6.2255e-02, -5.2742e-02,\n",
      "         8.7197e-03, -4.4129e-03, -1.8273e-02, -3.5542e-02, -8.3854e-03,\n",
      "         7.8142e-02,  1.6183e-02, -2.9596e-02,  4.5440e-03, -1.6409e-02,\n",
      "        -6.8854e-02,  5.5268e-03, -9.1066e-04,  7.5423e-03,  3.0180e-04,\n",
      "        -4.5678e-02,  2.2746e-02,  1.7497e-03, -3.3456e-02, -9.0392e-03,\n",
      "        -6.2202e-02,  5.3786e-02,  3.8939e-04,  4.0257e-02,  3.1605e-03,\n",
      "        -6.9488e-02, -3.2256e-02,  2.3048e-02,  2.6307e-03, -3.9207e-02,\n",
      "        -5.0876e-02, -4.5844e-02,  3.2221e-02, -2.7124e-02, -7.5084e-03,\n",
      "        -4.4676e-03,  4.1103e-02, -5.6786e-03, -3.9598e-02,  1.4338e-02,\n",
      "         2.3843e-03,  1.4621e-02,  4.6011e-02,  7.8583e-04,  1.3014e-02,\n",
      "         1.4411e-02, -2.8963e-02, -4.4605e-02,  8.5262e-03, -2.8862e-02,\n",
      "        -5.3216e-03,  2.0222e-02,  3.5987e-03,  1.5160e-02,  8.0866e-02,\n",
      "        -1.5476e-02,  4.4872e-02,  6.0198e-04, -1.2368e-02,  8.1617e-03,\n",
      "        -3.7857e-03, -4.2203e-02,  2.6076e-02,  2.1671e-02, -1.6940e-02,\n",
      "         1.3443e-02, -2.6324e-02,  3.6311e-02,  4.8506e-02, -3.7339e-03,\n",
      "         1.4108e-02,  7.7902e-04, -6.0017e-02,  3.7350e-03, -2.6110e-02,\n",
      "         5.0281e-03, -2.4351e-02, -2.7377e-02, -3.7669e-02,  3.8070e-02,\n",
      "         1.0932e-02,  2.8160e-02, -3.5762e-02,  2.3261e-02,  1.9776e-02,\n",
      "        -3.8261e-03, -6.5859e-03, -1.8929e-02, -4.5027e-02, -1.1969e-02,\n",
      "         8.7756e-03, -2.6216e-02, -2.1189e-02,  1.2913e-02, -1.8512e-02,\n",
      "        -2.6655e-02,  4.0894e-03,  1.6387e-03, -1.6818e-02, -1.0804e-02,\n",
      "         3.9582e-02,  1.8490e-02,  2.5662e-02, -4.7438e-02,  1.8842e-02,\n",
      "        -3.9618e-02, -2.2390e-02, -4.7946e-03,  6.2678e-04,  1.4640e-03,\n",
      "        -2.9613e-02, -2.3728e-02,  5.8741e-03,  3.9343e-02, -4.4972e-03,\n",
      "         1.2785e-03,  1.9657e-02,  8.6271e-03,  9.4731e-03, -8.3145e-02,\n",
      "        -9.5304e-03,  5.8406e-03, -2.7983e-02,  1.1320e-02,  5.2982e-03,\n",
      "         2.1871e-02, -8.8594e-04, -3.8309e-03, -5.7810e-02,  3.0410e-03,\n",
      "        -2.1917e-02, -7.4865e-02, -4.3740e-02,  2.0407e-02, -3.4062e-03,\n",
      "         1.8807e-02, -1.7270e-02,  1.7385e-02,  4.7496e-02,  6.6395e-02,\n",
      "        -1.7039e-02, -1.0944e-02,  7.3278e-03,  2.6257e-02, -2.1868e-02,\n",
      "        -1.0651e-02,  2.5665e-02, -3.9925e-02,  9.3388e-03,  6.9712e-02,\n",
      "        -1.0000e-02, -3.2376e-02, -7.8124e-02, -2.6672e-02, -1.0220e-04,\n",
      "         2.9822e-02,  6.2931e-03, -1.5316e-02, -2.4690e-02, -2.3386e-02,\n",
      "        -8.5112e-03, -7.5672e-03, -3.5472e-02,  8.3757e-03, -4.4933e-02,\n",
      "        -2.5905e-02, -3.5467e-02, -7.1374e-02,  9.2666e-03, -7.3159e-02,\n",
      "        -9.6658e-02, -3.1080e-02, -3.5131e-02, -1.6773e-02, -2.2672e-02,\n",
      "         7.4318e-03, -9.8196e-03, -4.4741e-02, -2.3274e-02, -4.2749e-02,\n",
      "        -1.0063e-02,  4.5505e-03, -1.6073e-02, -4.8172e-02, -4.4076e-02,\n",
      "         6.1854e-02, -9.5113e-03,  2.6095e-02, -8.6355e-02,  1.6138e-02,\n",
      "        -8.2407e-03,  5.0933e-02,  1.8536e-03, -5.1323e-02,  2.2101e-02,\n",
      "        -3.0345e-03,  3.6723e-02,  2.7383e-02, -1.4681e-02,  1.0468e-02,\n",
      "         1.5814e-02,  1.8042e-02,  5.9351e-02, -1.9994e-04, -5.2148e-02,\n",
      "        -2.8923e-02, -3.6363e-02, -6.5360e-02, -6.3748e-04, -2.7562e-02,\n",
      "        -4.4246e-02, -4.8769e-02, -4.5221e-02, -5.8486e-02, -3.1612e-02,\n",
      "        -1.4006e-02, -5.0941e-02,  2.0858e-02, -3.2510e-02, -7.1847e-03])\n"
     ]
    }
   ],
   "source": [
    "for p in vgg16.classifier.parameters():\n",
    "    print(p)"
   ]
  },
  {
   "cell_type": "code",
   "execution_count": null,
   "metadata": {},
   "outputs": [],
   "source": []
  },
  {
   "cell_type": "code",
   "execution_count": 116,
   "metadata": {},
   "outputs": [
    {
     "data": {
      "text/plain": [
       "ResNet(\n",
       "  (conv1): Conv2d(3, 64, kernel_size=(7, 7), stride=(2, 2), padding=(3, 3), bias=False)\n",
       "  (bn1): BatchNorm2d(64, eps=1e-05, momentum=0.1, affine=True, track_running_stats=True)\n",
       "  (relu): ReLU(inplace=True)\n",
       "  (maxpool): MaxPool2d(kernel_size=3, stride=2, padding=1, dilation=1, ceil_mode=False)\n",
       "  (layer1): Sequential(\n",
       "    (0): BasicBlock(\n",
       "      (conv1): Conv2d(64, 64, kernel_size=(3, 3), stride=(1, 1), padding=(1, 1), bias=False)\n",
       "      (bn1): BatchNorm2d(64, eps=1e-05, momentum=0.1, affine=True, track_running_stats=True)\n",
       "      (relu): ReLU(inplace=True)\n",
       "      (conv2): Conv2d(64, 64, kernel_size=(3, 3), stride=(1, 1), padding=(1, 1), bias=False)\n",
       "      (bn2): BatchNorm2d(64, eps=1e-05, momentum=0.1, affine=True, track_running_stats=True)\n",
       "    )\n",
       "    (1): BasicBlock(\n",
       "      (conv1): Conv2d(64, 64, kernel_size=(3, 3), stride=(1, 1), padding=(1, 1), bias=False)\n",
       "      (bn1): BatchNorm2d(64, eps=1e-05, momentum=0.1, affine=True, track_running_stats=True)\n",
       "      (relu): ReLU(inplace=True)\n",
       "      (conv2): Conv2d(64, 64, kernel_size=(3, 3), stride=(1, 1), padding=(1, 1), bias=False)\n",
       "      (bn2): BatchNorm2d(64, eps=1e-05, momentum=0.1, affine=True, track_running_stats=True)\n",
       "    )\n",
       "  )\n",
       "  (layer2): Sequential(\n",
       "    (0): BasicBlock(\n",
       "      (conv1): Conv2d(64, 128, kernel_size=(3, 3), stride=(2, 2), padding=(1, 1), bias=False)\n",
       "      (bn1): BatchNorm2d(128, eps=1e-05, momentum=0.1, affine=True, track_running_stats=True)\n",
       "      (relu): ReLU(inplace=True)\n",
       "      (conv2): Conv2d(128, 128, kernel_size=(3, 3), stride=(1, 1), padding=(1, 1), bias=False)\n",
       "      (bn2): BatchNorm2d(128, eps=1e-05, momentum=0.1, affine=True, track_running_stats=True)\n",
       "      (downsample): Sequential(\n",
       "        (0): Conv2d(64, 128, kernel_size=(1, 1), stride=(2, 2), bias=False)\n",
       "        (1): BatchNorm2d(128, eps=1e-05, momentum=0.1, affine=True, track_running_stats=True)\n",
       "      )\n",
       "    )\n",
       "    (1): BasicBlock(\n",
       "      (conv1): Conv2d(128, 128, kernel_size=(3, 3), stride=(1, 1), padding=(1, 1), bias=False)\n",
       "      (bn1): BatchNorm2d(128, eps=1e-05, momentum=0.1, affine=True, track_running_stats=True)\n",
       "      (relu): ReLU(inplace=True)\n",
       "      (conv2): Conv2d(128, 128, kernel_size=(3, 3), stride=(1, 1), padding=(1, 1), bias=False)\n",
       "      (bn2): BatchNorm2d(128, eps=1e-05, momentum=0.1, affine=True, track_running_stats=True)\n",
       "    )\n",
       "  )\n",
       "  (layer3): Sequential(\n",
       "    (0): BasicBlock(\n",
       "      (conv1): Conv2d(128, 256, kernel_size=(3, 3), stride=(2, 2), padding=(1, 1), bias=False)\n",
       "      (bn1): BatchNorm2d(256, eps=1e-05, momentum=0.1, affine=True, track_running_stats=True)\n",
       "      (relu): ReLU(inplace=True)\n",
       "      (conv2): Conv2d(256, 256, kernel_size=(3, 3), stride=(1, 1), padding=(1, 1), bias=False)\n",
       "      (bn2): BatchNorm2d(256, eps=1e-05, momentum=0.1, affine=True, track_running_stats=True)\n",
       "      (downsample): Sequential(\n",
       "        (0): Conv2d(128, 256, kernel_size=(1, 1), stride=(2, 2), bias=False)\n",
       "        (1): BatchNorm2d(256, eps=1e-05, momentum=0.1, affine=True, track_running_stats=True)\n",
       "      )\n",
       "    )\n",
       "    (1): BasicBlock(\n",
       "      (conv1): Conv2d(256, 256, kernel_size=(3, 3), stride=(1, 1), padding=(1, 1), bias=False)\n",
       "      (bn1): BatchNorm2d(256, eps=1e-05, momentum=0.1, affine=True, track_running_stats=True)\n",
       "      (relu): ReLU(inplace=True)\n",
       "      (conv2): Conv2d(256, 256, kernel_size=(3, 3), stride=(1, 1), padding=(1, 1), bias=False)\n",
       "      (bn2): BatchNorm2d(256, eps=1e-05, momentum=0.1, affine=True, track_running_stats=True)\n",
       "    )\n",
       "  )\n",
       "  (layer4): Sequential(\n",
       "    (0): BasicBlock(\n",
       "      (conv1): Conv2d(256, 512, kernel_size=(3, 3), stride=(2, 2), padding=(1, 1), bias=False)\n",
       "      (bn1): BatchNorm2d(512, eps=1e-05, momentum=0.1, affine=True, track_running_stats=True)\n",
       "      (relu): ReLU(inplace=True)\n",
       "      (conv2): Conv2d(512, 512, kernel_size=(3, 3), stride=(1, 1), padding=(1, 1), bias=False)\n",
       "      (bn2): BatchNorm2d(512, eps=1e-05, momentum=0.1, affine=True, track_running_stats=True)\n",
       "      (downsample): Sequential(\n",
       "        (0): Conv2d(256, 512, kernel_size=(1, 1), stride=(2, 2), bias=False)\n",
       "        (1): BatchNorm2d(512, eps=1e-05, momentum=0.1, affine=True, track_running_stats=True)\n",
       "      )\n",
       "    )\n",
       "    (1): BasicBlock(\n",
       "      (conv1): Conv2d(512, 512, kernel_size=(3, 3), stride=(1, 1), padding=(1, 1), bias=False)\n",
       "      (bn1): BatchNorm2d(512, eps=1e-05, momentum=0.1, affine=True, track_running_stats=True)\n",
       "      (relu): ReLU(inplace=True)\n",
       "      (conv2): Conv2d(512, 512, kernel_size=(3, 3), stride=(1, 1), padding=(1, 1), bias=False)\n",
       "      (bn2): BatchNorm2d(512, eps=1e-05, momentum=0.1, affine=True, track_running_stats=True)\n",
       "    )\n",
       "  )\n",
       "  (avgpool): AdaptiveAvgPool2d(output_size=(1, 1))\n",
       "  (fc): Linear(in_features=512, out_features=1000, bias=True)\n",
       ")"
      ]
     },
     "execution_count": 116,
     "metadata": {},
     "output_type": "execute_result"
    }
   ],
   "source": [
    "resnet"
   ]
  },
  {
   "cell_type": "markdown",
   "metadata": {
    "id": "iBm2wWXkgkTA",
    "tags": []
   },
   "source": [
    "# Références \n",
    "\n",
    "https://towardsdatascience.com/data-augmentations-in-torchvision-5d56d70c372e\n",
    "https://towardsdatascience.com/image-data-augmentation-for-deep-learning-77a87fabd2bf\n"
   ]
  },
  {
   "cell_type": "code",
   "execution_count": 17,
   "metadata": {
    "id": "DQjuH8HtgnXO"
   },
   "outputs": [
    {
     "name": "stdout",
     "output_type": "stream",
     "text": [
      "Pour un batch_size égale à 64 on a\n"
     ]
    }
   ],
   "source": []
  }
 ],
 "metadata": {
  "accelerator": "GPU",
  "colab": {
   "provenance": []
  },
  "gpuClass": "standard",
  "kernelspec": {
   "display_name": "Python 3 (ipykernel)",
   "language": "python",
   "name": "python3"
  },
  "language_info": {
   "codemirror_mode": {
    "name": "ipython",
    "version": 3
   },
   "file_extension": ".py",
   "mimetype": "text/x-python",
   "name": "python",
   "nbconvert_exporter": "python",
   "pygments_lexer": "ipython3",
   "version": "3.8.15"
  },
  "widgets": {
   "application/vnd.jupyter.widget-state+json": {
    "0134b71117a14f7a8f2eab54773da497": {
     "model_module": "@jupyter-widgets/controls",
     "model_module_version": "1.5.0",
     "model_name": "FloatProgressModel",
     "state": {
      "_dom_classes": [],
      "_model_module": "@jupyter-widgets/controls",
      "_model_module_version": "1.5.0",
      "_model_name": "FloatProgressModel",
      "_view_count": null,
      "_view_module": "@jupyter-widgets/controls",
      "_view_module_version": "1.5.0",
      "_view_name": "ProgressView",
      "bar_style": "success",
      "description": "",
      "description_tooltip": null,
      "layout": "IPY_MODEL_ff469311cc544a87b7a3551286d58d1c",
      "max": 1648877,
      "min": 0,
      "orientation": "horizontal",
      "style": "IPY_MODEL_89ac60fa63634c61b57fac55336d1517",
      "value": 1648877
     }
    },
    "02b87f6c26f543cf94bf2f96ff66a955": {
     "model_module": "@jupyter-widgets/controls",
     "model_module_version": "1.5.0",
     "model_name": "DescriptionStyleModel",
     "state": {
      "_model_module": "@jupyter-widgets/controls",
      "_model_module_version": "1.5.0",
      "_model_name": "DescriptionStyleModel",
      "_view_count": null,
      "_view_module": "@jupyter-widgets/base",
      "_view_module_version": "1.2.0",
      "_view_name": "StyleView",
      "description_width": ""
     }
    },
    "09d9a48af0ab4a24a707271590cfbb91": {
     "model_module": "@jupyter-widgets/controls",
     "model_module_version": "1.5.0",
     "model_name": "HBoxModel",
     "state": {
      "_dom_classes": [],
      "_model_module": "@jupyter-widgets/controls",
      "_model_module_version": "1.5.0",
      "_model_name": "HBoxModel",
      "_view_count": null,
      "_view_module": "@jupyter-widgets/controls",
      "_view_module_version": "1.5.0",
      "_view_name": "HBoxView",
      "box_style": "",
      "children": [
       "IPY_MODEL_db18d03b9c974039a6ff3d3a8cb89e26",
       "IPY_MODEL_b1e07f168f1c4b6ea71218b65319a89f",
       "IPY_MODEL_86310708636c46b0a7ba62d2a071fafa"
      ],
      "layout": "IPY_MODEL_ac9f3c6d030445a986a4c85a99b3ba5c"
     }
    },
    "15610c025065423caae41872fc94ad84": {
     "model_module": "@jupyter-widgets/controls",
     "model_module_version": "1.5.0",
     "model_name": "DescriptionStyleModel",
     "state": {
      "_model_module": "@jupyter-widgets/controls",
      "_model_module_version": "1.5.0",
      "_model_name": "DescriptionStyleModel",
      "_view_count": null,
      "_view_module": "@jupyter-widgets/base",
      "_view_module_version": "1.2.0",
      "_view_name": "StyleView",
      "description_width": ""
     }
    },
    "1de95514e6e44e1cad7e4db4c32955e8": {
     "model_module": "@jupyter-widgets/base",
     "model_module_version": "1.2.0",
     "model_name": "LayoutModel",
     "state": {
      "_model_module": "@jupyter-widgets/base",
      "_model_module_version": "1.2.0",
      "_model_name": "LayoutModel",
      "_view_count": null,
      "_view_module": "@jupyter-widgets/base",
      "_view_module_version": "1.2.0",
      "_view_name": "LayoutView",
      "align_content": null,
      "align_items": null,
      "align_self": null,
      "border": null,
      "bottom": null,
      "display": null,
      "flex": null,
      "flex_flow": null,
      "grid_area": null,
      "grid_auto_columns": null,
      "grid_auto_flow": null,
      "grid_auto_rows": null,
      "grid_column": null,
      "grid_gap": null,
      "grid_row": null,
      "grid_template_areas": null,
      "grid_template_columns": null,
      "grid_template_rows": null,
      "height": null,
      "justify_content": null,
      "justify_items": null,
      "left": null,
      "margin": null,
      "max_height": null,
      "max_width": null,
      "min_height": null,
      "min_width": null,
      "object_fit": null,
      "object_position": null,
      "order": null,
      "overflow": null,
      "overflow_x": null,
      "overflow_y": null,
      "padding": null,
      "right": null,
      "top": null,
      "visibility": null,
      "width": null
     }
    },
    "238ce3210faa4043bfff406cda224826": {
     "model_module": "@jupyter-widgets/controls",
     "model_module_version": "1.5.0",
     "model_name": "DescriptionStyleModel",
     "state": {
      "_model_module": "@jupyter-widgets/controls",
      "_model_module_version": "1.5.0",
      "_model_name": "DescriptionStyleModel",
      "_view_count": null,
      "_view_module": "@jupyter-widgets/base",
      "_view_module_version": "1.2.0",
      "_view_name": "StyleView",
      "description_width": ""
     }
    },
    "27d25a9d4af041a5a85bde74e254b841": {
     "model_module": "@jupyter-widgets/base",
     "model_module_version": "1.2.0",
     "model_name": "LayoutModel",
     "state": {
      "_model_module": "@jupyter-widgets/base",
      "_model_module_version": "1.2.0",
      "_model_name": "LayoutModel",
      "_view_count": null,
      "_view_module": "@jupyter-widgets/base",
      "_view_module_version": "1.2.0",
      "_view_name": "LayoutView",
      "align_content": null,
      "align_items": null,
      "align_self": null,
      "border": null,
      "bottom": null,
      "display": null,
      "flex": null,
      "flex_flow": null,
      "grid_area": null,
      "grid_auto_columns": null,
      "grid_auto_flow": null,
      "grid_auto_rows": null,
      "grid_column": null,
      "grid_gap": null,
      "grid_row": null,
      "grid_template_areas": null,
      "grid_template_columns": null,
      "grid_template_rows": null,
      "height": null,
      "justify_content": null,
      "justify_items": null,
      "left": null,
      "margin": null,
      "max_height": null,
      "max_width": null,
      "min_height": null,
      "min_width": null,
      "object_fit": null,
      "object_position": null,
      "order": null,
      "overflow": null,
      "overflow_x": null,
      "overflow_y": null,
      "padding": null,
      "right": null,
      "top": null,
      "visibility": null,
      "width": null
     }
    },
    "2cde7d27ad9f4c9591de9377daa1060e": {
     "model_module": "@jupyter-widgets/controls",
     "model_module_version": "1.5.0",
     "model_name": "HBoxModel",
     "state": {
      "_dom_classes": [],
      "_model_module": "@jupyter-widgets/controls",
      "_model_module_version": "1.5.0",
      "_model_name": "HBoxModel",
      "_view_count": null,
      "_view_module": "@jupyter-widgets/controls",
      "_view_module_version": "1.5.0",
      "_view_name": "HBoxView",
      "box_style": "",
      "children": [
       "IPY_MODEL_68c6d3fed8374f388246bd7ff1f439c4",
       "IPY_MODEL_0134b71117a14f7a8f2eab54773da497",
       "IPY_MODEL_54c5c137597b45eaa51835a061930534"
      ],
      "layout": "IPY_MODEL_ba16d1be2ccf43d582f51a50813e23c6"
     }
    },
    "3080f0a7b3d14dbeae0818cef0e2c359": {
     "model_module": "@jupyter-widgets/controls",
     "model_module_version": "1.5.0",
     "model_name": "DescriptionStyleModel",
     "state": {
      "_model_module": "@jupyter-widgets/controls",
      "_model_module_version": "1.5.0",
      "_model_name": "DescriptionStyleModel",
      "_view_count": null,
      "_view_module": "@jupyter-widgets/base",
      "_view_module_version": "1.2.0",
      "_view_name": "StyleView",
      "description_width": ""
     }
    },
    "338d9174edb24a4194964aa7e20376bf": {
     "model_module": "@jupyter-widgets/controls",
     "model_module_version": "1.5.0",
     "model_name": "DescriptionStyleModel",
     "state": {
      "_model_module": "@jupyter-widgets/controls",
      "_model_module_version": "1.5.0",
      "_model_name": "DescriptionStyleModel",
      "_view_count": null,
      "_view_module": "@jupyter-widgets/base",
      "_view_module_version": "1.2.0",
      "_view_name": "StyleView",
      "description_width": ""
     }
    },
    "351720002b6d4d4bafbc6ce516eceaab": {
     "model_module": "@jupyter-widgets/controls",
     "model_module_version": "1.5.0",
     "model_name": "HTMLModel",
     "state": {
      "_dom_classes": [],
      "_model_module": "@jupyter-widgets/controls",
      "_model_module_version": "1.5.0",
      "_model_name": "HTMLModel",
      "_view_count": null,
      "_view_module": "@jupyter-widgets/controls",
      "_view_module_version": "1.5.0",
      "_view_name": "HTMLView",
      "description": "",
      "description_tooltip": null,
      "layout": "IPY_MODEL_1de95514e6e44e1cad7e4db4c32955e8",
      "placeholder": "​",
      "style": "IPY_MODEL_15610c025065423caae41872fc94ad84",
      "value": "100%"
     }
    },
    "3598bef66d124f22bd50ff82ebf3062f": {
     "model_module": "@jupyter-widgets/controls",
     "model_module_version": "1.5.0",
     "model_name": "DescriptionStyleModel",
     "state": {
      "_model_module": "@jupyter-widgets/controls",
      "_model_module_version": "1.5.0",
      "_model_name": "DescriptionStyleModel",
      "_view_count": null,
      "_view_module": "@jupyter-widgets/base",
      "_view_module_version": "1.2.0",
      "_view_name": "StyleView",
      "description_width": ""
     }
    },
    "3967c0c728e8428a9e75eb7336bfd5b5": {
     "model_module": "@jupyter-widgets/controls",
     "model_module_version": "1.5.0",
     "model_name": "HTMLModel",
     "state": {
      "_dom_classes": [],
      "_model_module": "@jupyter-widgets/controls",
      "_model_module_version": "1.5.0",
      "_model_name": "HTMLModel",
      "_view_count": null,
      "_view_module": "@jupyter-widgets/controls",
      "_view_module_version": "1.5.0",
      "_view_name": "HTMLView",
      "description": "",
      "description_tooltip": null,
      "layout": "IPY_MODEL_baa31ed35b0b480c99f0033217e8721d",
      "placeholder": "​",
      "style": "IPY_MODEL_6dab1426535f493c93674a02836ecb1c",
      "value": " 28881/28881 [00:00&lt;00:00, 1248808.71it/s]"
     }
    },
    "47e43892f5a94d3997395b215f7bcae2": {
     "model_module": "@jupyter-widgets/controls",
     "model_module_version": "1.5.0",
     "model_name": "FloatProgressModel",
     "state": {
      "_dom_classes": [],
      "_model_module": "@jupyter-widgets/controls",
      "_model_module_version": "1.5.0",
      "_model_name": "FloatProgressModel",
      "_view_count": null,
      "_view_module": "@jupyter-widgets/controls",
      "_view_module_version": "1.5.0",
      "_view_name": "ProgressView",
      "bar_style": "success",
      "description": "",
      "description_tooltip": null,
      "layout": "IPY_MODEL_27d25a9d4af041a5a85bde74e254b841",
      "max": 9912422,
      "min": 0,
      "orientation": "horizontal",
      "style": "IPY_MODEL_77df4a92b4db413caa857bf48ceb04fb",
      "value": 9912422
     }
    },
    "4f573211f68b4f5393595d26a1f1c713": {
     "model_module": "@jupyter-widgets/controls",
     "model_module_version": "1.5.0",
     "model_name": "DescriptionStyleModel",
     "state": {
      "_model_module": "@jupyter-widgets/controls",
      "_model_module_version": "1.5.0",
      "_model_name": "DescriptionStyleModel",
      "_view_count": null,
      "_view_module": "@jupyter-widgets/base",
      "_view_module_version": "1.2.0",
      "_view_name": "StyleView",
      "description_width": ""
     }
    },
    "504d7b3687454afa86c9394ffc2887ea": {
     "model_module": "@jupyter-widgets/base",
     "model_module_version": "1.2.0",
     "model_name": "LayoutModel",
     "state": {
      "_model_module": "@jupyter-widgets/base",
      "_model_module_version": "1.2.0",
      "_model_name": "LayoutModel",
      "_view_count": null,
      "_view_module": "@jupyter-widgets/base",
      "_view_module_version": "1.2.0",
      "_view_name": "LayoutView",
      "align_content": null,
      "align_items": null,
      "align_self": null,
      "border": null,
      "bottom": null,
      "display": null,
      "flex": null,
      "flex_flow": null,
      "grid_area": null,
      "grid_auto_columns": null,
      "grid_auto_flow": null,
      "grid_auto_rows": null,
      "grid_column": null,
      "grid_gap": null,
      "grid_row": null,
      "grid_template_areas": null,
      "grid_template_columns": null,
      "grid_template_rows": null,
      "height": null,
      "justify_content": null,
      "justify_items": null,
      "left": null,
      "margin": null,
      "max_height": null,
      "max_width": null,
      "min_height": null,
      "min_width": null,
      "object_fit": null,
      "object_position": null,
      "order": null,
      "overflow": null,
      "overflow_x": null,
      "overflow_y": null,
      "padding": null,
      "right": null,
      "top": null,
      "visibility": null,
      "width": null
     }
    },
    "52ffc2e3e82c46debd116513a6c5ab36": {
     "model_module": "@jupyter-widgets/base",
     "model_module_version": "1.2.0",
     "model_name": "LayoutModel",
     "state": {
      "_model_module": "@jupyter-widgets/base",
      "_model_module_version": "1.2.0",
      "_model_name": "LayoutModel",
      "_view_count": null,
      "_view_module": "@jupyter-widgets/base",
      "_view_module_version": "1.2.0",
      "_view_name": "LayoutView",
      "align_content": null,
      "align_items": null,
      "align_self": null,
      "border": null,
      "bottom": null,
      "display": null,
      "flex": null,
      "flex_flow": null,
      "grid_area": null,
      "grid_auto_columns": null,
      "grid_auto_flow": null,
      "grid_auto_rows": null,
      "grid_column": null,
      "grid_gap": null,
      "grid_row": null,
      "grid_template_areas": null,
      "grid_template_columns": null,
      "grid_template_rows": null,
      "height": null,
      "justify_content": null,
      "justify_items": null,
      "left": null,
      "margin": null,
      "max_height": null,
      "max_width": null,
      "min_height": null,
      "min_width": null,
      "object_fit": null,
      "object_position": null,
      "order": null,
      "overflow": null,
      "overflow_x": null,
      "overflow_y": null,
      "padding": null,
      "right": null,
      "top": null,
      "visibility": null,
      "width": null
     }
    },
    "54c5c137597b45eaa51835a061930534": {
     "model_module": "@jupyter-widgets/controls",
     "model_module_version": "1.5.0",
     "model_name": "HTMLModel",
     "state": {
      "_dom_classes": [],
      "_model_module": "@jupyter-widgets/controls",
      "_model_module_version": "1.5.0",
      "_model_name": "HTMLModel",
      "_view_count": null,
      "_view_module": "@jupyter-widgets/controls",
      "_view_module_version": "1.5.0",
      "_view_name": "HTMLView",
      "description": "",
      "description_tooltip": null,
      "layout": "IPY_MODEL_ae810cb2a0b04368b165c1837859f5aa",
      "placeholder": "​",
      "style": "IPY_MODEL_02b87f6c26f543cf94bf2f96ff66a955",
      "value": " 1648877/1648877 [00:00&lt;00:00, 48031693.34it/s]"
     }
    },
    "5cb368d2e58b4d08a7645461b17a4f59": {
     "model_module": "@jupyter-widgets/base",
     "model_module_version": "1.2.0",
     "model_name": "LayoutModel",
     "state": {
      "_model_module": "@jupyter-widgets/base",
      "_model_module_version": "1.2.0",
      "_model_name": "LayoutModel",
      "_view_count": null,
      "_view_module": "@jupyter-widgets/base",
      "_view_module_version": "1.2.0",
      "_view_name": "LayoutView",
      "align_content": null,
      "align_items": null,
      "align_self": null,
      "border": null,
      "bottom": null,
      "display": null,
      "flex": null,
      "flex_flow": null,
      "grid_area": null,
      "grid_auto_columns": null,
      "grid_auto_flow": null,
      "grid_auto_rows": null,
      "grid_column": null,
      "grid_gap": null,
      "grid_row": null,
      "grid_template_areas": null,
      "grid_template_columns": null,
      "grid_template_rows": null,
      "height": null,
      "justify_content": null,
      "justify_items": null,
      "left": null,
      "margin": null,
      "max_height": null,
      "max_width": null,
      "min_height": null,
      "min_width": null,
      "object_fit": null,
      "object_position": null,
      "order": null,
      "overflow": null,
      "overflow_x": null,
      "overflow_y": null,
      "padding": null,
      "right": null,
      "top": null,
      "visibility": null,
      "width": null
     }
    },
    "60225ae08ed844e8a59047f84ae9ca63": {
     "model_module": "@jupyter-widgets/controls",
     "model_module_version": "1.5.0",
     "model_name": "HBoxModel",
     "state": {
      "_dom_classes": [],
      "_model_module": "@jupyter-widgets/controls",
      "_model_module_version": "1.5.0",
      "_model_name": "HBoxModel",
      "_view_count": null,
      "_view_module": "@jupyter-widgets/controls",
      "_view_module_version": "1.5.0",
      "_view_name": "HBoxView",
      "box_style": "",
      "children": [
       "IPY_MODEL_d5521377e94c49dc84a9ea9636dca033",
       "IPY_MODEL_a7449b0d128041059b665f7ce467b569",
       "IPY_MODEL_3967c0c728e8428a9e75eb7336bfd5b5"
      ],
      "layout": "IPY_MODEL_66c69bc6e79446158ffce41fc0aad3ef"
     }
    },
    "66c69bc6e79446158ffce41fc0aad3ef": {
     "model_module": "@jupyter-widgets/base",
     "model_module_version": "1.2.0",
     "model_name": "LayoutModel",
     "state": {
      "_model_module": "@jupyter-widgets/base",
      "_model_module_version": "1.2.0",
      "_model_name": "LayoutModel",
      "_view_count": null,
      "_view_module": "@jupyter-widgets/base",
      "_view_module_version": "1.2.0",
      "_view_name": "LayoutView",
      "align_content": null,
      "align_items": null,
      "align_self": null,
      "border": null,
      "bottom": null,
      "display": null,
      "flex": null,
      "flex_flow": null,
      "grid_area": null,
      "grid_auto_columns": null,
      "grid_auto_flow": null,
      "grid_auto_rows": null,
      "grid_column": null,
      "grid_gap": null,
      "grid_row": null,
      "grid_template_areas": null,
      "grid_template_columns": null,
      "grid_template_rows": null,
      "height": null,
      "justify_content": null,
      "justify_items": null,
      "left": null,
      "margin": null,
      "max_height": null,
      "max_width": null,
      "min_height": null,
      "min_width": null,
      "object_fit": null,
      "object_position": null,
      "order": null,
      "overflow": null,
      "overflow_x": null,
      "overflow_y": null,
      "padding": null,
      "right": null,
      "top": null,
      "visibility": null,
      "width": null
     }
    },
    "68c6d3fed8374f388246bd7ff1f439c4": {
     "model_module": "@jupyter-widgets/controls",
     "model_module_version": "1.5.0",
     "model_name": "HTMLModel",
     "state": {
      "_dom_classes": [],
      "_model_module": "@jupyter-widgets/controls",
      "_model_module_version": "1.5.0",
      "_model_name": "HTMLModel",
      "_view_count": null,
      "_view_module": "@jupyter-widgets/controls",
      "_view_module_version": "1.5.0",
      "_view_name": "HTMLView",
      "description": "",
      "description_tooltip": null,
      "layout": "IPY_MODEL_f537051a60b7441486ac9b9633e23c35",
      "placeholder": "​",
      "style": "IPY_MODEL_4f573211f68b4f5393595d26a1f1c713",
      "value": "100%"
     }
    },
    "6dab1426535f493c93674a02836ecb1c": {
     "model_module": "@jupyter-widgets/controls",
     "model_module_version": "1.5.0",
     "model_name": "DescriptionStyleModel",
     "state": {
      "_model_module": "@jupyter-widgets/controls",
      "_model_module_version": "1.5.0",
      "_model_name": "DescriptionStyleModel",
      "_view_count": null,
      "_view_module": "@jupyter-widgets/base",
      "_view_module_version": "1.2.0",
      "_view_name": "StyleView",
      "description_width": ""
     }
    },
    "77df4a92b4db413caa857bf48ceb04fb": {
     "model_module": "@jupyter-widgets/controls",
     "model_module_version": "1.5.0",
     "model_name": "ProgressStyleModel",
     "state": {
      "_model_module": "@jupyter-widgets/controls",
      "_model_module_version": "1.5.0",
      "_model_name": "ProgressStyleModel",
      "_view_count": null,
      "_view_module": "@jupyter-widgets/base",
      "_view_module_version": "1.2.0",
      "_view_name": "StyleView",
      "bar_color": null,
      "description_width": ""
     }
    },
    "86310708636c46b0a7ba62d2a071fafa": {
     "model_module": "@jupyter-widgets/controls",
     "model_module_version": "1.5.0",
     "model_name": "HTMLModel",
     "state": {
      "_dom_classes": [],
      "_model_module": "@jupyter-widgets/controls",
      "_model_module_version": "1.5.0",
      "_model_name": "HTMLModel",
      "_view_count": null,
      "_view_module": "@jupyter-widgets/controls",
      "_view_module_version": "1.5.0",
      "_view_name": "HTMLView",
      "description": "",
      "description_tooltip": null,
      "layout": "IPY_MODEL_5cb368d2e58b4d08a7645461b17a4f59",
      "placeholder": "​",
      "style": "IPY_MODEL_3080f0a7b3d14dbeae0818cef0e2c359",
      "value": " 4542/4542 [00:00&lt;00:00, 301991.48it/s]"
     }
    },
    "86d30cb5e4674bbf9cc3e9598b1b7bf0": {
     "model_module": "@jupyter-widgets/base",
     "model_module_version": "1.2.0",
     "model_name": "LayoutModel",
     "state": {
      "_model_module": "@jupyter-widgets/base",
      "_model_module_version": "1.2.0",
      "_model_name": "LayoutModel",
      "_view_count": null,
      "_view_module": "@jupyter-widgets/base",
      "_view_module_version": "1.2.0",
      "_view_name": "LayoutView",
      "align_content": null,
      "align_items": null,
      "align_self": null,
      "border": null,
      "bottom": null,
      "display": null,
      "flex": null,
      "flex_flow": null,
      "grid_area": null,
      "grid_auto_columns": null,
      "grid_auto_flow": null,
      "grid_auto_rows": null,
      "grid_column": null,
      "grid_gap": null,
      "grid_row": null,
      "grid_template_areas": null,
      "grid_template_columns": null,
      "grid_template_rows": null,
      "height": null,
      "justify_content": null,
      "justify_items": null,
      "left": null,
      "margin": null,
      "max_height": null,
      "max_width": null,
      "min_height": null,
      "min_width": null,
      "object_fit": null,
      "object_position": null,
      "order": null,
      "overflow": null,
      "overflow_x": null,
      "overflow_y": null,
      "padding": null,
      "right": null,
      "top": null,
      "visibility": null,
      "width": null
     }
    },
    "89ac60fa63634c61b57fac55336d1517": {
     "model_module": "@jupyter-widgets/controls",
     "model_module_version": "1.5.0",
     "model_name": "ProgressStyleModel",
     "state": {
      "_model_module": "@jupyter-widgets/controls",
      "_model_module_version": "1.5.0",
      "_model_name": "ProgressStyleModel",
      "_view_count": null,
      "_view_module": "@jupyter-widgets/base",
      "_view_module_version": "1.2.0",
      "_view_name": "StyleView",
      "bar_color": null,
      "description_width": ""
     }
    },
    "92bc9fbc26bd433096b0deccb284252c": {
     "model_module": "@jupyter-widgets/base",
     "model_module_version": "1.2.0",
     "model_name": "LayoutModel",
     "state": {
      "_model_module": "@jupyter-widgets/base",
      "_model_module_version": "1.2.0",
      "_model_name": "LayoutModel",
      "_view_count": null,
      "_view_module": "@jupyter-widgets/base",
      "_view_module_version": "1.2.0",
      "_view_name": "LayoutView",
      "align_content": null,
      "align_items": null,
      "align_self": null,
      "border": null,
      "bottom": null,
      "display": null,
      "flex": null,
      "flex_flow": null,
      "grid_area": null,
      "grid_auto_columns": null,
      "grid_auto_flow": null,
      "grid_auto_rows": null,
      "grid_column": null,
      "grid_gap": null,
      "grid_row": null,
      "grid_template_areas": null,
      "grid_template_columns": null,
      "grid_template_rows": null,
      "height": null,
      "justify_content": null,
      "justify_items": null,
      "left": null,
      "margin": null,
      "max_height": null,
      "max_width": null,
      "min_height": null,
      "min_width": null,
      "object_fit": null,
      "object_position": null,
      "order": null,
      "overflow": null,
      "overflow_x": null,
      "overflow_y": null,
      "padding": null,
      "right": null,
      "top": null,
      "visibility": null,
      "width": null
     }
    },
    "a7449b0d128041059b665f7ce467b569": {
     "model_module": "@jupyter-widgets/controls",
     "model_module_version": "1.5.0",
     "model_name": "FloatProgressModel",
     "state": {
      "_dom_classes": [],
      "_model_module": "@jupyter-widgets/controls",
      "_model_module_version": "1.5.0",
      "_model_name": "FloatProgressModel",
      "_view_count": null,
      "_view_module": "@jupyter-widgets/controls",
      "_view_module_version": "1.5.0",
      "_view_name": "ProgressView",
      "bar_style": "success",
      "description": "",
      "description_tooltip": null,
      "layout": "IPY_MODEL_e5a0c0913ace4ae880f5bc2bab6c2944",
      "max": 28881,
      "min": 0,
      "orientation": "horizontal",
      "style": "IPY_MODEL_e134af209509487d997e2ef474bdee42",
      "value": 28881
     }
    },
    "a929a5bbfebe4d1ca893f6af96d5c365": {
     "model_module": "@jupyter-widgets/controls",
     "model_module_version": "1.5.0",
     "model_name": "ProgressStyleModel",
     "state": {
      "_model_module": "@jupyter-widgets/controls",
      "_model_module_version": "1.5.0",
      "_model_name": "ProgressStyleModel",
      "_view_count": null,
      "_view_module": "@jupyter-widgets/base",
      "_view_module_version": "1.2.0",
      "_view_name": "StyleView",
      "bar_color": null,
      "description_width": ""
     }
    },
    "ac9f3c6d030445a986a4c85a99b3ba5c": {
     "model_module": "@jupyter-widgets/base",
     "model_module_version": "1.2.0",
     "model_name": "LayoutModel",
     "state": {
      "_model_module": "@jupyter-widgets/base",
      "_model_module_version": "1.2.0",
      "_model_name": "LayoutModel",
      "_view_count": null,
      "_view_module": "@jupyter-widgets/base",
      "_view_module_version": "1.2.0",
      "_view_name": "LayoutView",
      "align_content": null,
      "align_items": null,
      "align_self": null,
      "border": null,
      "bottom": null,
      "display": null,
      "flex": null,
      "flex_flow": null,
      "grid_area": null,
      "grid_auto_columns": null,
      "grid_auto_flow": null,
      "grid_auto_rows": null,
      "grid_column": null,
      "grid_gap": null,
      "grid_row": null,
      "grid_template_areas": null,
      "grid_template_columns": null,
      "grid_template_rows": null,
      "height": null,
      "justify_content": null,
      "justify_items": null,
      "left": null,
      "margin": null,
      "max_height": null,
      "max_width": null,
      "min_height": null,
      "min_width": null,
      "object_fit": null,
      "object_position": null,
      "order": null,
      "overflow": null,
      "overflow_x": null,
      "overflow_y": null,
      "padding": null,
      "right": null,
      "top": null,
      "visibility": null,
      "width": null
     }
    },
    "ace67590cc10450a910332cbf78b7227": {
     "model_module": "@jupyter-widgets/controls",
     "model_module_version": "1.5.0",
     "model_name": "HTMLModel",
     "state": {
      "_dom_classes": [],
      "_model_module": "@jupyter-widgets/controls",
      "_model_module_version": "1.5.0",
      "_model_name": "HTMLModel",
      "_view_count": null,
      "_view_module": "@jupyter-widgets/controls",
      "_view_module_version": "1.5.0",
      "_view_name": "HTMLView",
      "description": "",
      "description_tooltip": null,
      "layout": "IPY_MODEL_52ffc2e3e82c46debd116513a6c5ab36",
      "placeholder": "​",
      "style": "IPY_MODEL_238ce3210faa4043bfff406cda224826",
      "value": " 9912422/9912422 [00:00&lt;00:00, 177026395.94it/s]"
     }
    },
    "ae810cb2a0b04368b165c1837859f5aa": {
     "model_module": "@jupyter-widgets/base",
     "model_module_version": "1.2.0",
     "model_name": "LayoutModel",
     "state": {
      "_model_module": "@jupyter-widgets/base",
      "_model_module_version": "1.2.0",
      "_model_name": "LayoutModel",
      "_view_count": null,
      "_view_module": "@jupyter-widgets/base",
      "_view_module_version": "1.2.0",
      "_view_name": "LayoutView",
      "align_content": null,
      "align_items": null,
      "align_self": null,
      "border": null,
      "bottom": null,
      "display": null,
      "flex": null,
      "flex_flow": null,
      "grid_area": null,
      "grid_auto_columns": null,
      "grid_auto_flow": null,
      "grid_auto_rows": null,
      "grid_column": null,
      "grid_gap": null,
      "grid_row": null,
      "grid_template_areas": null,
      "grid_template_columns": null,
      "grid_template_rows": null,
      "height": null,
      "justify_content": null,
      "justify_items": null,
      "left": null,
      "margin": null,
      "max_height": null,
      "max_width": null,
      "min_height": null,
      "min_width": null,
      "object_fit": null,
      "object_position": null,
      "order": null,
      "overflow": null,
      "overflow_x": null,
      "overflow_y": null,
      "padding": null,
      "right": null,
      "top": null,
      "visibility": null,
      "width": null
     }
    },
    "b10115e4e59e4b70b64acdebc39bcfeb": {
     "model_module": "@jupyter-widgets/controls",
     "model_module_version": "1.5.0",
     "model_name": "HBoxModel",
     "state": {
      "_dom_classes": [],
      "_model_module": "@jupyter-widgets/controls",
      "_model_module_version": "1.5.0",
      "_model_name": "HBoxModel",
      "_view_count": null,
      "_view_module": "@jupyter-widgets/controls",
      "_view_module_version": "1.5.0",
      "_view_name": "HBoxView",
      "box_style": "",
      "children": [
       "IPY_MODEL_351720002b6d4d4bafbc6ce516eceaab",
       "IPY_MODEL_47e43892f5a94d3997395b215f7bcae2",
       "IPY_MODEL_ace67590cc10450a910332cbf78b7227"
      ],
      "layout": "IPY_MODEL_86d30cb5e4674bbf9cc3e9598b1b7bf0"
     }
    },
    "b1e07f168f1c4b6ea71218b65319a89f": {
     "model_module": "@jupyter-widgets/controls",
     "model_module_version": "1.5.0",
     "model_name": "FloatProgressModel",
     "state": {
      "_dom_classes": [],
      "_model_module": "@jupyter-widgets/controls",
      "_model_module_version": "1.5.0",
      "_model_name": "FloatProgressModel",
      "_view_count": null,
      "_view_module": "@jupyter-widgets/controls",
      "_view_module_version": "1.5.0",
      "_view_name": "ProgressView",
      "bar_style": "success",
      "description": "",
      "description_tooltip": null,
      "layout": "IPY_MODEL_504d7b3687454afa86c9394ffc2887ea",
      "max": 4542,
      "min": 0,
      "orientation": "horizontal",
      "style": "IPY_MODEL_a929a5bbfebe4d1ca893f6af96d5c365",
      "value": 4542
     }
    },
    "ba16d1be2ccf43d582f51a50813e23c6": {
     "model_module": "@jupyter-widgets/base",
     "model_module_version": "1.2.0",
     "model_name": "LayoutModel",
     "state": {
      "_model_module": "@jupyter-widgets/base",
      "_model_module_version": "1.2.0",
      "_model_name": "LayoutModel",
      "_view_count": null,
      "_view_module": "@jupyter-widgets/base",
      "_view_module_version": "1.2.0",
      "_view_name": "LayoutView",
      "align_content": null,
      "align_items": null,
      "align_self": null,
      "border": null,
      "bottom": null,
      "display": null,
      "flex": null,
      "flex_flow": null,
      "grid_area": null,
      "grid_auto_columns": null,
      "grid_auto_flow": null,
      "grid_auto_rows": null,
      "grid_column": null,
      "grid_gap": null,
      "grid_row": null,
      "grid_template_areas": null,
      "grid_template_columns": null,
      "grid_template_rows": null,
      "height": null,
      "justify_content": null,
      "justify_items": null,
      "left": null,
      "margin": null,
      "max_height": null,
      "max_width": null,
      "min_height": null,
      "min_width": null,
      "object_fit": null,
      "object_position": null,
      "order": null,
      "overflow": null,
      "overflow_x": null,
      "overflow_y": null,
      "padding": null,
      "right": null,
      "top": null,
      "visibility": null,
      "width": null
     }
    },
    "baa31ed35b0b480c99f0033217e8721d": {
     "model_module": "@jupyter-widgets/base",
     "model_module_version": "1.2.0",
     "model_name": "LayoutModel",
     "state": {
      "_model_module": "@jupyter-widgets/base",
      "_model_module_version": "1.2.0",
      "_model_name": "LayoutModel",
      "_view_count": null,
      "_view_module": "@jupyter-widgets/base",
      "_view_module_version": "1.2.0",
      "_view_name": "LayoutView",
      "align_content": null,
      "align_items": null,
      "align_self": null,
      "border": null,
      "bottom": null,
      "display": null,
      "flex": null,
      "flex_flow": null,
      "grid_area": null,
      "grid_auto_columns": null,
      "grid_auto_flow": null,
      "grid_auto_rows": null,
      "grid_column": null,
      "grid_gap": null,
      "grid_row": null,
      "grid_template_areas": null,
      "grid_template_columns": null,
      "grid_template_rows": null,
      "height": null,
      "justify_content": null,
      "justify_items": null,
      "left": null,
      "margin": null,
      "max_height": null,
      "max_width": null,
      "min_height": null,
      "min_width": null,
      "object_fit": null,
      "object_position": null,
      "order": null,
      "overflow": null,
      "overflow_x": null,
      "overflow_y": null,
      "padding": null,
      "right": null,
      "top": null,
      "visibility": null,
      "width": null
     }
    },
    "cb74399075c044adaf752d33d27802c1": {
     "model_module": "@jupyter-widgets/base",
     "model_module_version": "1.2.0",
     "model_name": "LayoutModel",
     "state": {
      "_model_module": "@jupyter-widgets/base",
      "_model_module_version": "1.2.0",
      "_model_name": "LayoutModel",
      "_view_count": null,
      "_view_module": "@jupyter-widgets/base",
      "_view_module_version": "1.2.0",
      "_view_name": "LayoutView",
      "align_content": null,
      "align_items": null,
      "align_self": null,
      "border": null,
      "bottom": null,
      "display": null,
      "flex": null,
      "flex_flow": null,
      "grid_area": null,
      "grid_auto_columns": null,
      "grid_auto_flow": null,
      "grid_auto_rows": null,
      "grid_column": null,
      "grid_gap": null,
      "grid_row": null,
      "grid_template_areas": null,
      "grid_template_columns": null,
      "grid_template_rows": null,
      "height": null,
      "justify_content": null,
      "justify_items": null,
      "left": null,
      "margin": null,
      "max_height": null,
      "max_width": null,
      "min_height": null,
      "min_width": null,
      "object_fit": null,
      "object_position": null,
      "order": null,
      "overflow": null,
      "overflow_x": null,
      "overflow_y": null,
      "padding": null,
      "right": null,
      "top": null,
      "visibility": null,
      "width": null
     }
    },
    "d5521377e94c49dc84a9ea9636dca033": {
     "model_module": "@jupyter-widgets/controls",
     "model_module_version": "1.5.0",
     "model_name": "HTMLModel",
     "state": {
      "_dom_classes": [],
      "_model_module": "@jupyter-widgets/controls",
      "_model_module_version": "1.5.0",
      "_model_name": "HTMLModel",
      "_view_count": null,
      "_view_module": "@jupyter-widgets/controls",
      "_view_module_version": "1.5.0",
      "_view_name": "HTMLView",
      "description": "",
      "description_tooltip": null,
      "layout": "IPY_MODEL_cb74399075c044adaf752d33d27802c1",
      "placeholder": "​",
      "style": "IPY_MODEL_338d9174edb24a4194964aa7e20376bf",
      "value": "100%"
     }
    },
    "db18d03b9c974039a6ff3d3a8cb89e26": {
     "model_module": "@jupyter-widgets/controls",
     "model_module_version": "1.5.0",
     "model_name": "HTMLModel",
     "state": {
      "_dom_classes": [],
      "_model_module": "@jupyter-widgets/controls",
      "_model_module_version": "1.5.0",
      "_model_name": "HTMLModel",
      "_view_count": null,
      "_view_module": "@jupyter-widgets/controls",
      "_view_module_version": "1.5.0",
      "_view_name": "HTMLView",
      "description": "",
      "description_tooltip": null,
      "layout": "IPY_MODEL_92bc9fbc26bd433096b0deccb284252c",
      "placeholder": "​",
      "style": "IPY_MODEL_3598bef66d124f22bd50ff82ebf3062f",
      "value": "100%"
     }
    },
    "e134af209509487d997e2ef474bdee42": {
     "model_module": "@jupyter-widgets/controls",
     "model_module_version": "1.5.0",
     "model_name": "ProgressStyleModel",
     "state": {
      "_model_module": "@jupyter-widgets/controls",
      "_model_module_version": "1.5.0",
      "_model_name": "ProgressStyleModel",
      "_view_count": null,
      "_view_module": "@jupyter-widgets/base",
      "_view_module_version": "1.2.0",
      "_view_name": "StyleView",
      "bar_color": null,
      "description_width": ""
     }
    },
    "e5a0c0913ace4ae880f5bc2bab6c2944": {
     "model_module": "@jupyter-widgets/base",
     "model_module_version": "1.2.0",
     "model_name": "LayoutModel",
     "state": {
      "_model_module": "@jupyter-widgets/base",
      "_model_module_version": "1.2.0",
      "_model_name": "LayoutModel",
      "_view_count": null,
      "_view_module": "@jupyter-widgets/base",
      "_view_module_version": "1.2.0",
      "_view_name": "LayoutView",
      "align_content": null,
      "align_items": null,
      "align_self": null,
      "border": null,
      "bottom": null,
      "display": null,
      "flex": null,
      "flex_flow": null,
      "grid_area": null,
      "grid_auto_columns": null,
      "grid_auto_flow": null,
      "grid_auto_rows": null,
      "grid_column": null,
      "grid_gap": null,
      "grid_row": null,
      "grid_template_areas": null,
      "grid_template_columns": null,
      "grid_template_rows": null,
      "height": null,
      "justify_content": null,
      "justify_items": null,
      "left": null,
      "margin": null,
      "max_height": null,
      "max_width": null,
      "min_height": null,
      "min_width": null,
      "object_fit": null,
      "object_position": null,
      "order": null,
      "overflow": null,
      "overflow_x": null,
      "overflow_y": null,
      "padding": null,
      "right": null,
      "top": null,
      "visibility": null,
      "width": null
     }
    },
    "f537051a60b7441486ac9b9633e23c35": {
     "model_module": "@jupyter-widgets/base",
     "model_module_version": "1.2.0",
     "model_name": "LayoutModel",
     "state": {
      "_model_module": "@jupyter-widgets/base",
      "_model_module_version": "1.2.0",
      "_model_name": "LayoutModel",
      "_view_count": null,
      "_view_module": "@jupyter-widgets/base",
      "_view_module_version": "1.2.0",
      "_view_name": "LayoutView",
      "align_content": null,
      "align_items": null,
      "align_self": null,
      "border": null,
      "bottom": null,
      "display": null,
      "flex": null,
      "flex_flow": null,
      "grid_area": null,
      "grid_auto_columns": null,
      "grid_auto_flow": null,
      "grid_auto_rows": null,
      "grid_column": null,
      "grid_gap": null,
      "grid_row": null,
      "grid_template_areas": null,
      "grid_template_columns": null,
      "grid_template_rows": null,
      "height": null,
      "justify_content": null,
      "justify_items": null,
      "left": null,
      "margin": null,
      "max_height": null,
      "max_width": null,
      "min_height": null,
      "min_width": null,
      "object_fit": null,
      "object_position": null,
      "order": null,
      "overflow": null,
      "overflow_x": null,
      "overflow_y": null,
      "padding": null,
      "right": null,
      "top": null,
      "visibility": null,
      "width": null
     }
    },
    "ff469311cc544a87b7a3551286d58d1c": {
     "model_module": "@jupyter-widgets/base",
     "model_module_version": "1.2.0",
     "model_name": "LayoutModel",
     "state": {
      "_model_module": "@jupyter-widgets/base",
      "_model_module_version": "1.2.0",
      "_model_name": "LayoutModel",
      "_view_count": null,
      "_view_module": "@jupyter-widgets/base",
      "_view_module_version": "1.2.0",
      "_view_name": "LayoutView",
      "align_content": null,
      "align_items": null,
      "align_self": null,
      "border": null,
      "bottom": null,
      "display": null,
      "flex": null,
      "flex_flow": null,
      "grid_area": null,
      "grid_auto_columns": null,
      "grid_auto_flow": null,
      "grid_auto_rows": null,
      "grid_column": null,
      "grid_gap": null,
      "grid_row": null,
      "grid_template_areas": null,
      "grid_template_columns": null,
      "grid_template_rows": null,
      "height": null,
      "justify_content": null,
      "justify_items": null,
      "left": null,
      "margin": null,
      "max_height": null,
      "max_width": null,
      "min_height": null,
      "min_width": null,
      "object_fit": null,
      "object_position": null,
      "order": null,
      "overflow": null,
      "overflow_x": null,
      "overflow_y": null,
      "padding": null,
      "right": null,
      "top": null,
      "visibility": null,
      "width": null
     }
    }
   }
  }
 },
 "nbformat": 4,
 "nbformat_minor": 4
}
