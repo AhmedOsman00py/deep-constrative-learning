{
 "cells": [
  {
   "attachments": {},
   "cell_type": "markdown",
   "metadata": {},
   "source": [
    "Not pre entrained"
   ]
  },
  {
   "cell_type": "code",
   "execution_count": 1,
   "metadata": {},
   "outputs": [],
   "source": [
    "from utils import *\n",
    "from training import training\n",
    "import matplotlib.pyplot as plt\n",
    "import torch.nn as nn"
   ]
  },
  {
   "cell_type": "code",
   "execution_count": 2,
   "metadata": {},
   "outputs": [],
   "source": [
    "from torchvision import models"
   ]
  },
  {
   "cell_type": "code",
   "execution_count": 3,
   "metadata": {},
   "outputs": [
    {
     "name": "stderr",
     "output_type": "stream",
     "text": [
      "c:\\Users\\skinz\\anaconda3\\envs\\Deep_learning_course\\lib\\site-packages\\torchvision\\models\\_utils.py:208: UserWarning: The parameter 'pretrained' is deprecated since 0.13 and may be removed in the future, please use 'weights' instead.\n",
      "  warnings.warn(\n",
      "c:\\Users\\skinz\\anaconda3\\envs\\Deep_learning_course\\lib\\site-packages\\torchvision\\models\\_utils.py:223: UserWarning: Arguments other than a weight enum or `None` for 'weights' are deprecated since 0.13 and may be removed in the future. The current behavior is equivalent to passing `weights=None`.\n",
      "  warnings.warn(msg)\n"
     ]
    }
   ],
   "source": [
    "model = models.resnet50(pretrained =False)"
   ]
  },
  {
   "cell_type": "code",
   "execution_count": 4,
   "metadata": {},
   "outputs": [],
   "source": [
    "model.conv1 = nn.Conv2d(1, 64, kernel_size=(7, 7), stride=(2, 2), padding=(3, 3), bias=False)\n",
    "model.fc = nn.Linear(2048, 10, bias=True)"
   ]
  },
  {
   "cell_type": "code",
   "execution_count": 5,
   "metadata": {},
   "outputs": [],
   "source": [
    "train_data, test_data = get_data()\n",
    "train_unlabeled_loader, train_labeled_loader, test_loader = get_loader(train_data, test_data, batch_size=50)"
   ]
  },
  {
   "cell_type": "code",
   "execution_count": 6,
   "metadata": {},
   "outputs": [
    {
     "name": "stdout",
     "output_type": "stream",
     "text": [
      " <function is_available at 0x0000019CED171EE0> and can be used by 1 devices\n",
      "The device used is NVIDIA GeForce GTX 1050\n"
     ]
    }
   ],
   "source": [
    "train_class = training(train_loader=train_labeled_loader, val_loader=test_loader)"
   ]
  },
  {
   "cell_type": "code",
   "execution_count": 7,
   "metadata": {},
   "outputs": [],
   "source": [
    "import torch.optim as optim\n",
    "\n",
    "\n",
    "output_fn = torch.nn.Softmax(dim=1)\n",
    "criterion = nn.CrossEntropyLoss()\n",
    "optimizer = optim.Adam(model.parameters(), lr=0.05)"
   ]
  },
  {
   "cell_type": "code",
   "execution_count": 8,
   "metadata": {},
   "outputs": [
    {
     "name": "stderr",
     "output_type": "stream",
     "text": [
      "  2%|▏         | 1/60 [00:19<19:12, 19.54s/it]"
     ]
    },
    {
     "name": "stdout",
     "output_type": "stream",
     "text": [
      "| Epoch: 1/60 | Train: Loss 219144220542665089993408512.0000 Accuracy : 0.1000 | Val: Loss 225155071438729999951069184.0000 Accuracy : 0.0974\n",
      "\n"
     ]
    },
    {
     "name": "stderr",
     "output_type": "stream",
     "text": [
      "  3%|▎         | 2/60 [00:28<12:52, 13.32s/it]"
     ]
    },
    {
     "name": "stdout",
     "output_type": "stream",
     "text": [
      "| Epoch: 2/60 | Train: Loss 870638413238054682624.0000 Accuracy : 0.1000 | Val: Loss 896264481641275588608.0000 Accuracy : 0.1009\n",
      "\n"
     ]
    },
    {
     "name": "stderr",
     "output_type": "stream",
     "text": [
      "  5%|▌         | 3/60 [00:37<10:45, 11.32s/it]"
     ]
    },
    {
     "name": "stdout",
     "output_type": "stream",
     "text": [
      "| Epoch: 3/60 | Train: Loss 267541192269365248.0000 Accuracy : 0.1000 | Val: Loss 273944079692621408.0000 Accuracy : 0.1010\n",
      "\n"
     ]
    },
    {
     "name": "stderr",
     "output_type": "stream",
     "text": [
      "  7%|▋         | 4/60 [00:46<09:47, 10.49s/it]"
     ]
    },
    {
     "name": "stdout",
     "output_type": "stream",
     "text": [
      "| Epoch: 4/60 | Train: Loss 1673119341215744.0000 Accuracy : 0.1000 | Val: Loss 1705996065292943.2500 Accuracy : 0.1009\n",
      "\n"
     ]
    },
    {
     "name": "stderr",
     "output_type": "stream",
     "text": [
      "  8%|▊         | 5/60 [00:56<09:25, 10.28s/it]"
     ]
    },
    {
     "name": "stdout",
     "output_type": "stream",
     "text": [
      "| Epoch: 5/60 | Train: Loss 40014564032512.0000 Accuracy : 0.1000 | Val: Loss 40586992513187.8438 Accuracy : 0.1009\n",
      "\n"
     ]
    },
    {
     "name": "stderr",
     "output_type": "stream",
     "text": [
      " 10%|█         | 6/60 [01:07<09:29, 10.55s/it]"
     ]
    },
    {
     "name": "stdout",
     "output_type": "stream",
     "text": [
      "| Epoch: 6/60 | Train: Loss 1889439252480.0000 Accuracy : 0.1000 | Val: Loss 1917151746457.6001 Accuracy : 0.0974\n",
      "\n"
     ]
    },
    {
     "name": "stderr",
     "output_type": "stream",
     "text": [
      " 12%|█▏        | 7/60 [01:20<09:51, 11.16s/it]"
     ]
    },
    {
     "name": "stdout",
     "output_type": "stream",
     "text": [
      "| Epoch: 7/60 | Train: Loss 168912109568.0000 Accuracy : 0.1000 | Val: Loss 171406734008.3200 Accuracy : 0.0974\n",
      "\n"
     ]
    },
    {
     "name": "stderr",
     "output_type": "stream",
     "text": [
      " 13%|█▎        | 8/60 [01:35<10:52, 12.55s/it]"
     ]
    },
    {
     "name": "stdout",
     "output_type": "stream",
     "text": [
      "| Epoch: 8/60 | Train: Loss 23162533888.0000 Accuracy : 0.1000 | Val: Loss 23498752040.9600 Accuracy : 0.1009\n",
      "\n"
     ]
    },
    {
     "name": "stderr",
     "output_type": "stream",
     "text": [
      " 15%|█▌        | 9/60 [01:50<11:17, 13.29s/it]"
     ]
    },
    {
     "name": "stdout",
     "output_type": "stream",
     "text": [
      "| Epoch: 9/60 | Train: Loss 4208191360.0000 Accuracy : 0.1000 | Val: Loss 4273378307.8400 Accuracy : 0.1009\n",
      "\n"
     ]
    },
    {
     "name": "stderr",
     "output_type": "stream",
     "text": [
      " 17%|█▋        | 10/60 [02:03<11:01, 13.22s/it]"
     ]
    },
    {
     "name": "stdout",
     "output_type": "stream",
     "text": [
      "| Epoch: 10/60 | Train: Loss 890988736.0000 Accuracy : 0.1000 | Val: Loss 907880138.5600 Accuracy : 0.1009\n",
      "\n"
     ]
    },
    {
     "name": "stderr",
     "output_type": "stream",
     "text": [
      " 18%|█▊        | 11/60 [02:15<10:26, 12.78s/it]"
     ]
    },
    {
     "name": "stdout",
     "output_type": "stream",
     "text": [
      "| Epoch: 11/60 | Train: Loss 255562232.0000 Accuracy : 0.1000 | Val: Loss 260861486.8000 Accuracy : 0.0974\n",
      "\n"
     ]
    },
    {
     "name": "stderr",
     "output_type": "stream",
     "text": [
      " 20%|██        | 12/60 [02:26<09:53, 12.36s/it]"
     ]
    },
    {
     "name": "stdout",
     "output_type": "stream",
     "text": [
      "| Epoch: 12/60 | Train: Loss 80830184.0000 Accuracy : 0.1000 | Val: Loss 82724140.6000 Accuracy : 0.0974\n",
      "\n"
     ]
    },
    {
     "name": "stderr",
     "output_type": "stream",
     "text": [
      " 22%|██▏       | 13/60 [02:38<09:29, 12.12s/it]"
     ]
    },
    {
     "name": "stdout",
     "output_type": "stream",
     "text": [
      "| Epoch: 13/60 | Train: Loss 28120252.0000 Accuracy : 0.1000 | Val: Loss 28906740.7500 Accuracy : 0.1008\n",
      "\n"
     ]
    },
    {
     "name": "stderr",
     "output_type": "stream",
     "text": [
      " 23%|██▎       | 14/60 [02:49<09:10, 11.98s/it]"
     ]
    },
    {
     "name": "stdout",
     "output_type": "stream",
     "text": [
      "| Epoch: 14/60 | Train: Loss 11306177.0000 Accuracy : 0.1000 | Val: Loss 11677012.1700 Accuracy : 0.1011\n",
      "\n"
     ]
    },
    {
     "name": "stderr",
     "output_type": "stream",
     "text": [
      " 25%|██▌       | 15/60 [03:01<08:54, 11.87s/it]"
     ]
    },
    {
     "name": "stdout",
     "output_type": "stream",
     "text": [
      "| Epoch: 15/60 | Train: Loss 4478181.6250 Accuracy : 0.1000 | Val: Loss 4667699.3275 Accuracy : 0.0985\n",
      "\n"
     ]
    },
    {
     "name": "stderr",
     "output_type": "stream",
     "text": [
      " 27%|██▋       | 16/60 [03:13<08:48, 12.01s/it]"
     ]
    },
    {
     "name": "stdout",
     "output_type": "stream",
     "text": [
      "| Epoch: 16/60 | Train: Loss 1982075.6250 Accuracy : 0.1000 | Val: Loss 2090746.2494 Accuracy : 0.0996\n",
      "\n"
     ]
    },
    {
     "name": "stderr",
     "output_type": "stream",
     "text": [
      " 28%|██▊       | 17/60 [03:25<08:35, 12.00s/it]"
     ]
    },
    {
     "name": "stdout",
     "output_type": "stream",
     "text": [
      "| Epoch: 17/60 | Train: Loss 915890.4375 Accuracy : 0.1000 | Val: Loss 986183.4967 Accuracy : 0.1003\n",
      "\n"
     ]
    },
    {
     "name": "stderr",
     "output_type": "stream",
     "text": [
      " 30%|███       | 18/60 [03:39<08:43, 12.46s/it]"
     ]
    },
    {
     "name": "stdout",
     "output_type": "stream",
     "text": [
      "| Epoch: 18/60 | Train: Loss 402333.1406 Accuracy : 0.1000 | Val: Loss 452969.1515 Accuracy : 0.0978\n",
      "\n"
     ]
    },
    {
     "name": "stderr",
     "output_type": "stream",
     "text": [
      " 32%|███▏      | 19/60 [03:53<08:55, 13.05s/it]"
     ]
    },
    {
     "name": "stdout",
     "output_type": "stream",
     "text": [
      "| Epoch: 19/60 | Train: Loss 171985.7734 Accuracy : 0.1100 | Val: Loss 208047.1733 Accuracy : 0.1221\n",
      "\n"
     ]
    },
    {
     "name": "stderr",
     "output_type": "stream",
     "text": [
      " 33%|███▎      | 20/60 [04:11<09:40, 14.51s/it]"
     ]
    },
    {
     "name": "stdout",
     "output_type": "stream",
     "text": [
      "| Epoch: 20/60 | Train: Loss 71977.9395 Accuracy : 0.1100 | Val: Loss 95134.4980 Accuracy : 0.1013\n",
      "\n"
     ]
    },
    {
     "name": "stderr",
     "output_type": "stream",
     "text": [
      " 35%|███▌      | 21/60 [04:31<10:22, 15.96s/it]"
     ]
    },
    {
     "name": "stdout",
     "output_type": "stream",
     "text": [
      "| Epoch: 21/60 | Train: Loss 30809.3955 Accuracy : 0.1000 | Val: Loss 45191.7991 Accuracy : 0.1172\n",
      "\n"
     ]
    },
    {
     "name": "stderr",
     "output_type": "stream",
     "text": [
      " 37%|███▋      | 22/60 [04:47<10:10, 16.06s/it]"
     ]
    },
    {
     "name": "stdout",
     "output_type": "stream",
     "text": [
      "| Epoch: 22/60 | Train: Loss 11534.0098 Accuracy : 0.1300 | Val: Loss 20056.9741 Accuracy : 0.1064\n",
      "\n"
     ]
    },
    {
     "name": "stderr",
     "output_type": "stream",
     "text": [
      " 38%|███▊      | 23/60 [05:06<10:24, 16.89s/it]"
     ]
    },
    {
     "name": "stdout",
     "output_type": "stream",
     "text": [
      "| Epoch: 23/60 | Train: Loss 4207.5522 Accuracy : 0.1200 | Val: Loss 8733.0430 Accuracy : 0.1139\n",
      "\n"
     ]
    },
    {
     "name": "stderr",
     "output_type": "stream",
     "text": [
      " 40%|████      | 24/60 [05:23<10:11, 16.99s/it]"
     ]
    },
    {
     "name": "stdout",
     "output_type": "stream",
     "text": [
      "| Epoch: 24/60 | Train: Loss 1809.5746 Accuracy : 0.1600 | Val: Loss 3716.0489 Accuracy : 0.1319\n",
      "\n"
     ]
    },
    {
     "name": "stderr",
     "output_type": "stream",
     "text": [
      " 42%|████▏     | 25/60 [05:39<09:41, 16.60s/it]"
     ]
    },
    {
     "name": "stdout",
     "output_type": "stream",
     "text": [
      "| Epoch: 25/60 | Train: Loss 951.6626 Accuracy : 0.1100 | Val: Loss 1644.5729 Accuracy : 0.1182\n",
      "\n"
     ]
    },
    {
     "name": "stderr",
     "output_type": "stream",
     "text": [
      " 43%|████▎     | 26/60 [05:54<09:10, 16.19s/it]"
     ]
    },
    {
     "name": "stdout",
     "output_type": "stream",
     "text": [
      "| Epoch: 26/60 | Train: Loss 461.2788 Accuracy : 0.2000 | Val: Loss 659.1162 Accuracy : 0.1969\n",
      "\n"
     ]
    },
    {
     "name": "stderr",
     "output_type": "stream",
     "text": [
      " 45%|████▌     | 27/60 [06:13<09:21, 17.01s/it]"
     ]
    },
    {
     "name": "stdout",
     "output_type": "stream",
     "text": [
      "| Epoch: 27/60 | Train: Loss 178.8380 Accuracy : 0.2300 | Val: Loss 264.6307 Accuracy : 0.2206\n",
      "\n"
     ]
    },
    {
     "name": "stderr",
     "output_type": "stream",
     "text": [
      " 47%|████▋     | 28/60 [06:31<09:18, 17.44s/it]"
     ]
    },
    {
     "name": "stdout",
     "output_type": "stream",
     "text": [
      "| Epoch: 28/60 | Train: Loss 26.9128 Accuracy : 0.2600 | Val: Loss 103.7333 Accuracy : 0.2316\n",
      "\n"
     ]
    },
    {
     "name": "stderr",
     "output_type": "stream",
     "text": [
      " 48%|████▊     | 29/60 [06:47<08:45, 16.95s/it]"
     ]
    },
    {
     "name": "stdout",
     "output_type": "stream",
     "text": [
      "| Epoch: 29/60 | Train: Loss 11.0777 Accuracy : 0.2800 | Val: Loss 45.9469 Accuracy : 0.2267\n",
      "\n"
     ]
    },
    {
     "name": "stderr",
     "output_type": "stream",
     "text": [
      " 50%|█████     | 30/60 [07:06<08:49, 17.65s/it]"
     ]
    },
    {
     "name": "stdout",
     "output_type": "stream",
     "text": [
      "| Epoch: 30/60 | Train: Loss 4.2305 Accuracy : 0.2400 | Val: Loss 18.7177 Accuracy : 0.2207\n",
      "\n"
     ]
    },
    {
     "name": "stderr",
     "output_type": "stream",
     "text": [
      " 52%|█████▏    | 31/60 [07:19<07:48, 16.15s/it]"
     ]
    },
    {
     "name": "stdout",
     "output_type": "stream",
     "text": [
      "| Epoch: 31/60 | Train: Loss 2.1829 Accuracy : 0.2100 | Val: Loss 9.0291 Accuracy : 0.2113\n",
      "\n"
     ]
    },
    {
     "name": "stderr",
     "output_type": "stream",
     "text": [
      " 53%|█████▎    | 32/60 [07:33<07:13, 15.47s/it]"
     ]
    },
    {
     "name": "stdout",
     "output_type": "stream",
     "text": [
      "| Epoch: 32/60 | Train: Loss 1.8992 Accuracy : 0.2200 | Val: Loss 4.1452 Accuracy : 0.2102\n",
      "\n"
     ]
    },
    {
     "name": "stderr",
     "output_type": "stream",
     "text": [
      " 55%|█████▌    | 33/60 [07:45<06:33, 14.58s/it]"
     ]
    },
    {
     "name": "stdout",
     "output_type": "stream",
     "text": [
      "| Epoch: 33/60 | Train: Loss 9.9766 Accuracy : 0.2100 | Val: Loss 37.0466 Accuracy : 0.1413\n",
      "\n"
     ]
    },
    {
     "name": "stderr",
     "output_type": "stream",
     "text": [
      " 57%|█████▋    | 34/60 [07:57<05:59, 13.82s/it]"
     ]
    },
    {
     "name": "stdout",
     "output_type": "stream",
     "text": [
      "| Epoch: 34/60 | Train: Loss 31.2846 Accuracy : 0.1400 | Val: Loss 608.8306 Accuracy : 0.1157\n",
      "\n"
     ]
    },
    {
     "name": "stderr",
     "output_type": "stream",
     "text": [
      " 58%|█████▊    | 35/60 [08:11<05:41, 13.66s/it]"
     ]
    },
    {
     "name": "stdout",
     "output_type": "stream",
     "text": [
      "| Epoch: 35/60 | Train: Loss 433.7152 Accuracy : 0.0700 | Val: Loss 1215.4698 Accuracy : 0.0802\n",
      "\n"
     ]
    },
    {
     "name": "stderr",
     "output_type": "stream",
     "text": [
      " 60%|██████    | 36/60 [08:21<05:01, 12.56s/it]"
     ]
    },
    {
     "name": "stdout",
     "output_type": "stream",
     "text": [
      "| Epoch: 36/60 | Train: Loss 608.4750 Accuracy : 0.0800 | Val: Loss 1108.3456 Accuracy : 0.0806\n",
      "\n"
     ]
    },
    {
     "name": "stderr",
     "output_type": "stream",
     "text": [
      " 62%|██████▏   | 37/60 [08:31<04:31, 11.80s/it]"
     ]
    },
    {
     "name": "stdout",
     "output_type": "stream",
     "text": [
      "| Epoch: 37/60 | Train: Loss 114.8768 Accuracy : 0.0900 | Val: Loss 320.6131 Accuracy : 0.0816\n",
      "\n"
     ]
    },
    {
     "name": "stderr",
     "output_type": "stream",
     "text": [
      " 63%|██████▎   | 38/60 [08:41<04:10, 11.39s/it]"
     ]
    },
    {
     "name": "stdout",
     "output_type": "stream",
     "text": [
      "| Epoch: 38/60 | Train: Loss 3.8378 Accuracy : 0.1000 | Val: Loss 65.4762 Accuracy : 0.0888\n",
      "\n"
     ]
    },
    {
     "name": "stderr",
     "output_type": "stream",
     "text": [
      " 65%|██████▌   | 39/60 [08:52<03:52, 11.09s/it]"
     ]
    },
    {
     "name": "stdout",
     "output_type": "stream",
     "text": [
      "| Epoch: 39/60 | Train: Loss 3.1006 Accuracy : 0.1400 | Val: Loss 14.3475 Accuracy : 0.1083\n",
      "\n"
     ]
    },
    {
     "name": "stderr",
     "output_type": "stream",
     "text": [
      " 67%|██████▋   | 40/60 [09:02<03:37, 10.89s/it]"
     ]
    },
    {
     "name": "stdout",
     "output_type": "stream",
     "text": [
      "| Epoch: 40/60 | Train: Loss 2.9473 Accuracy : 0.1700 | Val: Loss 5.4241 Accuracy : 0.1385\n",
      "\n"
     ]
    },
    {
     "name": "stderr",
     "output_type": "stream",
     "text": [
      " 68%|██████▊   | 41/60 [09:12<03:23, 10.69s/it]"
     ]
    },
    {
     "name": "stdout",
     "output_type": "stream",
     "text": [
      "| Epoch: 41/60 | Train: Loss 2.8157 Accuracy : 0.1700 | Val: Loss 3.8335 Accuracy : 0.1351\n",
      "\n"
     ]
    },
    {
     "name": "stderr",
     "output_type": "stream",
     "text": [
      " 70%|███████   | 42/60 [09:22<03:09, 10.51s/it]"
     ]
    },
    {
     "name": "stdout",
     "output_type": "stream",
     "text": [
      "| Epoch: 42/60 | Train: Loss 2.8051 Accuracy : 0.1800 | Val: Loss 3.5695 Accuracy : 0.1309\n",
      "\n"
     ]
    },
    {
     "name": "stderr",
     "output_type": "stream",
     "text": [
      " 72%|███████▏  | 43/60 [09:33<02:57, 10.46s/it]"
     ]
    },
    {
     "name": "stdout",
     "output_type": "stream",
     "text": [
      "| Epoch: 43/60 | Train: Loss 2.5660 Accuracy : 0.1900 | Val: Loss 3.1366 Accuracy : 0.1373\n",
      "\n"
     ]
    },
    {
     "name": "stderr",
     "output_type": "stream",
     "text": [
      " 73%|███████▎  | 44/60 [09:43<02:45, 10.36s/it]"
     ]
    },
    {
     "name": "stdout",
     "output_type": "stream",
     "text": [
      "| Epoch: 44/60 | Train: Loss 2.1880 Accuracy : 0.2200 | Val: Loss 2.7073 Accuracy : 0.1483\n",
      "\n"
     ]
    },
    {
     "name": "stderr",
     "output_type": "stream",
     "text": [
      " 75%|███████▌  | 45/60 [09:53<02:34, 10.32s/it]"
     ]
    },
    {
     "name": "stdout",
     "output_type": "stream",
     "text": [
      "| Epoch: 45/60 | Train: Loss 2.0210 Accuracy : 0.2700 | Val: Loss 2.5358 Accuracy : 0.1880\n",
      "\n"
     ]
    },
    {
     "name": "stderr",
     "output_type": "stream",
     "text": [
      " 77%|███████▋  | 46/60 [10:04<02:25, 10.40s/it]"
     ]
    },
    {
     "name": "stdout",
     "output_type": "stream",
     "text": [
      "| Epoch: 46/60 | Train: Loss 2.2160 Accuracy : 0.2500 | Val: Loss 2.6648 Accuracy : 0.1616\n",
      "\n"
     ]
    },
    {
     "name": "stderr",
     "output_type": "stream",
     "text": [
      " 78%|███████▊  | 47/60 [10:14<02:17, 10.54s/it]"
     ]
    },
    {
     "name": "stdout",
     "output_type": "stream",
     "text": [
      "| Epoch: 47/60 | Train: Loss 2.1883 Accuracy : 0.2500 | Val: Loss 2.7110 Accuracy : 0.1505\n",
      "\n"
     ]
    },
    {
     "name": "stderr",
     "output_type": "stream",
     "text": [
      " 80%|████████  | 48/60 [10:25<02:07, 10.65s/it]"
     ]
    },
    {
     "name": "stdout",
     "output_type": "stream",
     "text": [
      "| Epoch: 48/60 | Train: Loss 1.9859 Accuracy : 0.2600 | Val: Loss 2.5347 Accuracy : 0.1830\n",
      "\n"
     ]
    },
    {
     "name": "stderr",
     "output_type": "stream",
     "text": [
      " 82%|████████▏ | 49/60 [10:45<02:26, 13.32s/it]"
     ]
    },
    {
     "name": "stdout",
     "output_type": "stream",
     "text": [
      "| Epoch: 49/60 | Train: Loss 1.5969 Accuracy : 0.3600 | Val: Loss 2.1407 Accuracy : 0.2734\n",
      "\n"
     ]
    },
    {
     "name": "stderr",
     "output_type": "stream",
     "text": [
      " 83%|████████▎ | 50/60 [11:01<02:21, 14.12s/it]"
     ]
    },
    {
     "name": "stdout",
     "output_type": "stream",
     "text": [
      "| Epoch: 50/60 | Train: Loss 2.2318 Accuracy : 0.4200 | Val: Loss 2.0432 Accuracy : 0.2956\n",
      "\n"
     ]
    },
    {
     "name": "stderr",
     "output_type": "stream",
     "text": [
      " 85%|████████▌ | 51/60 [11:18<02:15, 15.11s/it]"
     ]
    },
    {
     "name": "stdout",
     "output_type": "stream",
     "text": [
      "| Epoch: 51/60 | Train: Loss 1.3486 Accuracy : 0.4300 | Val: Loss 2.0222 Accuracy : 0.3072\n",
      "\n"
     ]
    },
    {
     "name": "stderr",
     "output_type": "stream",
     "text": [
      " 87%|████████▋ | 52/60 [11:30<01:51, 14.00s/it]"
     ]
    },
    {
     "name": "stdout",
     "output_type": "stream",
     "text": [
      "| Epoch: 52/60 | Train: Loss 1.2266 Accuracy : 0.5100 | Val: Loss 1.9748 Accuracy : 0.3310\n",
      "\n"
     ]
    },
    {
     "name": "stderr",
     "output_type": "stream",
     "text": [
      " 88%|████████▊ | 53/60 [11:43<01:36, 13.82s/it]"
     ]
    },
    {
     "name": "stdout",
     "output_type": "stream",
     "text": [
      "| Epoch: 53/60 | Train: Loss 2.0701 Accuracy : 0.5000 | Val: Loss 1.9377 Accuracy : 0.3474\n",
      "\n"
     ]
    },
    {
     "name": "stderr",
     "output_type": "stream",
     "text": [
      " 90%|█████████ | 54/60 [12:01<01:30, 15.16s/it]"
     ]
    },
    {
     "name": "stdout",
     "output_type": "stream",
     "text": [
      "| Epoch: 54/60 | Train: Loss 1.1342 Accuracy : 0.6100 | Val: Loss 2.0383 Accuracy : 0.3506\n",
      "\n"
     ]
    },
    {
     "name": "stderr",
     "output_type": "stream",
     "text": [
      " 92%|█████████▏| 55/60 [12:15<01:13, 14.76s/it]"
     ]
    },
    {
     "name": "stdout",
     "output_type": "stream",
     "text": [
      "| Epoch: 55/60 | Train: Loss 1.1489 Accuracy : 0.5900 | Val: Loss 2.1006 Accuracy : 0.3490\n",
      "\n"
     ]
    },
    {
     "name": "stderr",
     "output_type": "stream",
     "text": [
      " 93%|█████████▎| 56/60 [12:27<00:55, 13.89s/it]"
     ]
    },
    {
     "name": "stdout",
     "output_type": "stream",
     "text": [
      "| Epoch: 56/60 | Train: Loss 1.4470 Accuracy : 0.6000 | Val: Loss 2.1158 Accuracy : 0.3668\n",
      "\n"
     ]
    },
    {
     "name": "stderr",
     "output_type": "stream",
     "text": [
      " 95%|█████████▌| 57/60 [12:37<00:38, 12.79s/it]"
     ]
    },
    {
     "name": "stdout",
     "output_type": "stream",
     "text": [
      "| Epoch: 57/60 | Train: Loss 0.9012 Accuracy : 0.6700 | Val: Loss 2.0628 Accuracy : 0.4004\n",
      "\n"
     ]
    },
    {
     "name": "stderr",
     "output_type": "stream",
     "text": [
      " 97%|█████████▋| 58/60 [12:47<00:23, 11.83s/it]"
     ]
    },
    {
     "name": "stdout",
     "output_type": "stream",
     "text": [
      "| Epoch: 58/60 | Train: Loss 0.8848 Accuracy : 0.7000 | Val: Loss 2.1196 Accuracy : 0.3954\n",
      "\n"
     ]
    },
    {
     "name": "stderr",
     "output_type": "stream",
     "text": [
      " 98%|█████████▊| 59/60 [12:56<00:11, 11.14s/it]"
     ]
    },
    {
     "name": "stdout",
     "output_type": "stream",
     "text": [
      "| Epoch: 59/60 | Train: Loss 1.0239 Accuracy : 0.6700 | Val: Loss 2.2826 Accuracy : 0.3666\n",
      "\n"
     ]
    },
    {
     "name": "stderr",
     "output_type": "stream",
     "text": [
      "100%|██████████| 60/60 [13:15<00:00, 13.26s/it]"
     ]
    },
    {
     "name": "stdout",
     "output_type": "stream",
     "text": [
      "| Epoch: 60/60 | Train: Loss 0.8082 Accuracy : 0.7200 | Val: Loss 2.1864 Accuracy : 0.4004\n",
      "\n"
     ]
    },
    {
     "name": "stderr",
     "output_type": "stream",
     "text": [
      "\n"
     ]
    }
   ],
   "source": [
    "epochs = 60\n",
    "train_class.train(model=model, epochs=epochs, optimizer=optimizer, criterion=criterion, output_fn=output_fn, patience_LR=5, patience_earlystop=25)"
   ]
  },
  {
   "cell_type": "code",
   "execution_count": 9,
   "metadata": {},
   "outputs": [],
   "source": [
    "PATH = './resnet_50_weighted.pth'\n",
    "torch.save(model.state_dict(), PATH)"
   ]
  },
  {
   "cell_type": "code",
   "execution_count": 10,
   "metadata": {},
   "outputs": [
    {
     "data": {
      "image/png": "[encoded data removed]",
      "text/plain": [
       "<Figure size 1600x800 with 2 Axes>"
      ]
     },
     "metadata": {},
     "output_type": "display_data"
    }
   ],
   "source": [
    "plt.figure(figsize=(16,8))\n",
    "\n",
    "plt.subplot(1,2,1)\n",
    "plt.plot(range(1,epochs + 1), train_class.loss_train, label=\"train loss\" )\n",
    "plt.plot(range(1, epochs +1), train_class.loss_valid, label=\"valid loss\")\n",
    "plt.xlabel(\"epochs\")\n",
    "plt.ylabel(\"Loss\")\n",
    "plt.title(\"Loss functions\")\n",
    "plt.legend()\n",
    "\n",
    "plt.subplot(1,2,2)\n",
    "plt.plot(range(1,epochs + 1), train_class.acc_train, label=\"train accuracy\" )\n",
    "plt.plot(range(1, epochs +1), train_class.acc_valid, label=\"valid accuracy\")\n",
    "plt.xlabel(\"epochs\")\n",
    "plt.ylabel(\"accuracy\")\n",
    "plt.title(\"Accuracy functions\")\n",
    "plt.legend()\n",
    "\n",
    "#plt.savefig(\"Metrics functins basic model.png\")\n",
    "plt.show()"
   ]
  }
 ],
 "metadata": {
  "kernelspec": {
   "display_name": "Deep_learning_course",
   "language": "python",
   "name": "python3"
  },
  "language_info": {
   "codemirror_mode": {
    "name": "ipython",
    "version": 3
   },
   "file_extension": ".py",
   "mimetype": "text/x-python",
   "name": "python",
   "nbconvert_exporter": "python",
   "pygments_lexer": "ipython3",
   "version": "3.8.15"
  },
  "orig_nbformat": 4
 },
 "nbformat": 4,
 "nbformat_minor": 2
}
