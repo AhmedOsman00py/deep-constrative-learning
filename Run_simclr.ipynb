{
 "cells": [
  {
   "cell_type": "code",
   "execution_count": 1,
   "metadata": {},
   "outputs": [],
   "source": [
    "import os\n",
    "import torch\n",
    "import torch.nn as nn \n",
    "from torchvision import datasets, transforms\n",
    "import matplotlib.pyplot as plt\n",
    "import torch.optim as optim\n",
    "\n",
    "from baseline.utils import *\n",
    "from baseline.training import training\n",
    "\n",
    "from baseline.models.encoder import Encoder\n",
    "from baseline.models.linear_classifier import LinearClassifier, TwoLayersClassifier\n",
    "from baseline.models.simclr import SupCon\n"
   ]
  },
  {
   "cell_type": "code",
   "execution_count": 2,
   "metadata": {},
   "outputs": [
    {
     "name": "stdout",
     "output_type": "stream",
     "text": [
      " <function is_available at 0x0000026D0F1B2E50> and can be used by 1 devices\n",
      "The device used is NVIDIA GeForce GTX 1050\n"
     ]
    }
   ],
   "source": [
    "train_data, test_data = get_data()\n",
    "train_unlabeled_loader, train_labeled_loader, test_loader = get_loader(train_data, test_data, batch_size=50)\n",
    "device = get_device()"
   ]
  },
  {
   "cell_type": "code",
   "execution_count": 3,
   "metadata": {},
   "outputs": [
    {
     "data": {
      "text/plain": [
       "<All keys matched successfully>"
      ]
     },
     "execution_count": 3,
     "metadata": {},
     "output_type": "execute_result"
    }
   ],
   "source": [
    "encoder = Encoder()\n",
    "model = SupCon(encoder, head='mlp', feat_dim=128)\n",
    "PATH = './SIMCLR/batch_size_64/pre_trained_supcon_64.pth'\n",
    "model.load_state_dict(torch.load(PATH))"
   ]
  },
  {
   "cell_type": "code",
   "execution_count": 4,
   "metadata": {},
   "outputs": [],
   "source": [
    "for name, param in model.named_parameters():\n",
    "    param.requires_grad = False"
   ]
  },
  {
   "cell_type": "code",
   "execution_count": 5,
   "metadata": {},
   "outputs": [
    {
     "name": "stdout",
     "output_type": "stream",
     "text": [
      "encoder.layer1.0.weight False\n",
      "encoder.layer1.0.bias False\n",
      "encoder.layer1.1.weight False\n",
      "encoder.layer1.1.bias False\n",
      "encoder.layer2.0.weight False\n",
      "encoder.layer2.0.bias False\n",
      "encoder.layer2.1.weight False\n",
      "encoder.layer2.1.bias False\n",
      "encoder.layer3.0.weight False\n",
      "encoder.layer3.0.bias False\n",
      "encoder.layer3.1.weight False\n",
      "encoder.layer3.1.bias False\n",
      "head.0.weight False\n",
      "head.0.bias False\n",
      "head.2.weight False\n",
      "head.2.bias False\n"
     ]
    }
   ],
   "source": [
    "for name, param in model.named_parameters():print(name, param.requires_grad)"
   ]
  },
  {
   "cell_type": "code",
   "execution_count": 6,
   "metadata": {},
   "outputs": [],
   "source": [
    "classifier = LinearClassifier()\n",
    "#classifier = TwoLayersClassifier()\n",
    "model.head = classifier"
   ]
  },
  {
   "cell_type": "code",
   "execution_count": 7,
   "metadata": {},
   "outputs": [],
   "source": [
    "output_fn = torch.nn.Softmax(dim=1)\n",
    "criterion = nn.CrossEntropyLoss()\n",
    "optimizer = optim.Adam(model.parameters(), lr=1e-3, betas=(0.9, 0.999), eps=1e-08, weight_decay=1e-3)"
   ]
  },
  {
   "cell_type": "code",
   "execution_count": 8,
   "metadata": {},
   "outputs": [
    {
     "name": "stderr",
     "output_type": "stream",
     "text": [
      "  4%|▍         | 1/25 [00:16<06:46, 16.93s/it]"
     ]
    },
    {
     "name": "stdout",
     "output_type": "stream",
     "text": [
      "| Epoch: 1/25 | Train: Loss 1.9922 Accuracy : 0.4700 | Val: Loss 2.0618 Accuracy : 0.3836\n",
      "\n"
     ]
    },
    {
     "name": "stderr",
     "output_type": "stream",
     "text": [
      "  8%|▊         | 2/25 [00:23<04:10, 10.90s/it]"
     ]
    },
    {
     "name": "stdout",
     "output_type": "stream",
     "text": [
      "| Epoch: 2/25 | Train: Loss 1.8081 Accuracy : 0.7600 | Val: Loss 1.9033 Accuracy : 0.6186\n",
      "\n"
     ]
    },
    {
     "name": "stderr",
     "output_type": "stream",
     "text": [
      " 12%|█▏        | 3/25 [00:29<03:09,  8.60s/it]"
     ]
    },
    {
     "name": "stdout",
     "output_type": "stream",
     "text": [
      "| Epoch: 3/25 | Train: Loss 1.7114 Accuracy : 0.9000 | Val: Loss 1.8150 Accuracy : 0.7293\n",
      "\n"
     ]
    },
    {
     "name": "stderr",
     "output_type": "stream",
     "text": [
      " 16%|█▌        | 4/25 [00:35<02:41,  7.68s/it]"
     ]
    },
    {
     "name": "stdout",
     "output_type": "stream",
     "text": [
      "| Epoch: 4/25 | Train: Loss 1.6534 Accuracy : 0.9300 | Val: Loss 1.7621 Accuracy : 0.7974\n",
      "\n"
     ]
    },
    {
     "name": "stderr",
     "output_type": "stream",
     "text": [
      " 20%|██        | 5/25 [00:41<02:22,  7.14s/it]"
     ]
    },
    {
     "name": "stdout",
     "output_type": "stream",
     "text": [
      "| Epoch: 5/25 | Train: Loss 1.6203 Accuracy : 0.9700 | Val: Loss 1.7328 Accuracy : 0.8340\n",
      "\n"
     ]
    },
    {
     "name": "stderr",
     "output_type": "stream",
     "text": [
      " 24%|██▍       | 6/25 [00:48<02:10,  6.88s/it]"
     ]
    },
    {
     "name": "stdout",
     "output_type": "stream",
     "text": [
      "| Epoch: 6/25 | Train: Loss 1.5902 Accuracy : 0.9900 | Val: Loss 1.7056 Accuracy : 0.8599\n",
      "\n"
     ]
    },
    {
     "name": "stderr",
     "output_type": "stream",
     "text": [
      " 28%|██▊       | 7/25 [00:54<02:00,  6.72s/it]"
     ]
    },
    {
     "name": "stdout",
     "output_type": "stream",
     "text": [
      "| Epoch: 7/25 | Train: Loss 1.5667 Accuracy : 0.9900 | Val: Loss 1.6841 Accuracy : 0.8821\n",
      "\n"
     ]
    },
    {
     "name": "stderr",
     "output_type": "stream",
     "text": [
      " 32%|███▏      | 8/25 [01:00<01:50,  6.49s/it]"
     ]
    },
    {
     "name": "stdout",
     "output_type": "stream",
     "text": [
      "| Epoch: 8/25 | Train: Loss 1.5512 Accuracy : 0.9900 | Val: Loss 1.6706 Accuracy : 0.8922\n",
      "\n"
     ]
    },
    {
     "name": "stderr",
     "output_type": "stream",
     "text": [
      " 36%|███▌      | 9/25 [01:07<01:45,  6.60s/it]"
     ]
    },
    {
     "name": "stdout",
     "output_type": "stream",
     "text": [
      "| Epoch: 9/25 | Train: Loss 1.5391 Accuracy : 0.9900 | Val: Loss 1.6611 Accuracy : 0.9010\n",
      "\n"
     ]
    },
    {
     "name": "stderr",
     "output_type": "stream",
     "text": [
      " 40%|████      | 10/25 [01:14<01:41,  6.74s/it]"
     ]
    },
    {
     "name": "stdout",
     "output_type": "stream",
     "text": [
      "| Epoch: 10/25 | Train: Loss 1.5284 Accuracy : 0.9900 | Val: Loss 1.6534 Accuracy : 0.9055\n",
      "\n"
     ]
    },
    {
     "name": "stderr",
     "output_type": "stream",
     "text": [
      " 44%|████▍     | 11/25 [01:21<01:34,  6.77s/it]"
     ]
    },
    {
     "name": "stdout",
     "output_type": "stream",
     "text": [
      "| Epoch: 11/25 | Train: Loss 1.5197 Accuracy : 0.9900 | Val: Loss 1.6476 Accuracy : 0.9079\n",
      "\n"
     ]
    },
    {
     "name": "stderr",
     "output_type": "stream",
     "text": [
      " 48%|████▊     | 12/25 [01:28<01:28,  6.82s/it]"
     ]
    },
    {
     "name": "stdout",
     "output_type": "stream",
     "text": [
      "| Epoch: 12/25 | Train: Loss 1.5122 Accuracy : 0.9900 | Val: Loss 1.6425 Accuracy : 0.9100\n",
      "\n"
     ]
    },
    {
     "name": "stderr",
     "output_type": "stream",
     "text": [
      " 52%|█████▏    | 13/25 [01:34<01:21,  6.77s/it]"
     ]
    },
    {
     "name": "stdout",
     "output_type": "stream",
     "text": [
      "| Epoch: 13/25 | Train: Loss 1.5056 Accuracy : 1.0000 | Val: Loss 1.6375 Accuracy : 0.9118\n",
      "\n"
     ]
    },
    {
     "name": "stderr",
     "output_type": "stream",
     "text": [
      " 56%|█████▌    | 14/25 [01:41<01:12,  6.59s/it]"
     ]
    },
    {
     "name": "stdout",
     "output_type": "stream",
     "text": [
      "| Epoch: 14/25 | Train: Loss 1.4989 Accuracy : 1.0000 | Val: Loss 1.6326 Accuracy : 0.9133\n",
      "\n"
     ]
    },
    {
     "name": "stderr",
     "output_type": "stream",
     "text": [
      " 60%|██████    | 15/25 [01:47<01:04,  6.45s/it]"
     ]
    },
    {
     "name": "stdout",
     "output_type": "stream",
     "text": [
      "| Epoch: 15/25 | Train: Loss 1.4913 Accuracy : 1.0000 | Val: Loss 1.6272 Accuracy : 0.9149\n",
      "\n"
     ]
    },
    {
     "name": "stderr",
     "output_type": "stream",
     "text": [
      " 64%|██████▍   | 16/25 [01:53<00:57,  6.37s/it]"
     ]
    },
    {
     "name": "stdout",
     "output_type": "stream",
     "text": [
      "| Epoch: 16/25 | Train: Loss 1.4856 Accuracy : 1.0000 | Val: Loss 1.6239 Accuracy : 0.9156\n",
      "\n"
     ]
    },
    {
     "name": "stderr",
     "output_type": "stream",
     "text": [
      " 68%|██████▊   | 17/25 [01:59<00:50,  6.32s/it]"
     ]
    },
    {
     "name": "stdout",
     "output_type": "stream",
     "text": [
      "| Epoch: 17/25 | Train: Loss 1.4817 Accuracy : 1.0000 | Val: Loss 1.6227 Accuracy : 0.9158\n",
      "\n"
     ]
    },
    {
     "name": "stderr",
     "output_type": "stream",
     "text": [
      " 72%|███████▏  | 18/25 [02:05<00:43,  6.28s/it]"
     ]
    },
    {
     "name": "stdout",
     "output_type": "stream",
     "text": [
      "| Epoch: 18/25 | Train: Loss 1.4787 Accuracy : 1.0000 | Val: Loss 1.6219 Accuracy : 0.9162\n",
      "\n"
     ]
    },
    {
     "name": "stderr",
     "output_type": "stream",
     "text": [
      " 76%|███████▌  | 19/25 [02:12<00:37,  6.25s/it]"
     ]
    },
    {
     "name": "stdout",
     "output_type": "stream",
     "text": [
      "| Epoch: 19/25 | Train: Loss 1.4764 Accuracy : 1.0000 | Val: Loss 1.6216 Accuracy : 0.9175\n",
      "\n"
     ]
    },
    {
     "name": "stderr",
     "output_type": "stream",
     "text": [
      " 80%|████████  | 20/25 [02:18<00:31,  6.33s/it]"
     ]
    },
    {
     "name": "stdout",
     "output_type": "stream",
     "text": [
      "| Epoch: 20/25 | Train: Loss 1.4731 Accuracy : 1.0000 | Val: Loss 1.6196 Accuracy : 0.9185\n",
      "\n"
     ]
    },
    {
     "name": "stderr",
     "output_type": "stream",
     "text": [
      " 84%|████████▍ | 21/25 [02:26<00:26,  6.67s/it]"
     ]
    },
    {
     "name": "stdout",
     "output_type": "stream",
     "text": [
      "| Epoch: 21/25 | Train: Loss 1.4687 Accuracy : 1.0000 | Val: Loss 1.6167 Accuracy : 0.9193\n",
      "\n"
     ]
    },
    {
     "name": "stderr",
     "output_type": "stream",
     "text": [
      " 88%|████████▊ | 22/25 [02:32<00:19,  6.58s/it]"
     ]
    },
    {
     "name": "stdout",
     "output_type": "stream",
     "text": [
      "| Epoch: 22/25 | Train: Loss 1.4649 Accuracy : 1.0000 | Val: Loss 1.6144 Accuracy : 0.9192\n",
      "\n"
     ]
    },
    {
     "name": "stderr",
     "output_type": "stream",
     "text": [
      " 92%|█████████▏| 23/25 [02:38<00:12,  6.37s/it]"
     ]
    },
    {
     "name": "stdout",
     "output_type": "stream",
     "text": [
      "| Epoch: 23/25 | Train: Loss 1.4624 Accuracy : 1.0000 | Val: Loss 1.6134 Accuracy : 0.9170\n",
      "\n"
     ]
    },
    {
     "name": "stderr",
     "output_type": "stream",
     "text": [
      " 96%|█████████▌| 24/25 [02:43<00:06,  6.16s/it]"
     ]
    },
    {
     "name": "stdout",
     "output_type": "stream",
     "text": [
      "| Epoch: 24/25 | Train: Loss 1.4596 Accuracy : 1.0000 | Val: Loss 1.6122 Accuracy : 0.9162\n",
      "\n"
     ]
    },
    {
     "name": "stderr",
     "output_type": "stream",
     "text": [
      "100%|██████████| 25/25 [02:50<00:00,  6.83s/it]"
     ]
    },
    {
     "name": "stdout",
     "output_type": "stream",
     "text": [
      "| Epoch: 25/25 | Train: Loss 1.4570 Accuracy : 1.0000 | Val: Loss 1.6112 Accuracy : 0.9173\n",
      "\n"
     ]
    },
    {
     "name": "stderr",
     "output_type": "stream",
     "text": [
      "\n"
     ]
    }
   ],
   "source": [
    "epochs = 25\n",
    "train_class = training(train_loader=train_labeled_loader, val_loader=test_loader, metric=get_accuracy, device=device)\n",
    "train_class.train(model=model, epochs=epochs, optimizer=optimizer, criterion=criterion, output_fn=output_fn, RGB = False, patience_LR = 3, patience_earlystop = 5)"
   ]
  },
  {
   "cell_type": "code",
   "execution_count": 9,
   "metadata": {},
   "outputs": [
    {
     "data": {
      "text/plain": [
       "1.6112340235710143"
      ]
     },
     "execution_count": 9,
     "metadata": {},
     "output_type": "execute_result"
    }
   ],
   "source": [
    "train_class.loss_valid[epochs-1]"
   ]
  },
  {
   "cell_type": "code",
   "execution_count": 10,
   "metadata": {},
   "outputs": [
    {
     "data": {
      "image/png": "[encoded data removed]",
      "text/plain": [
       "<Figure size 800x800 with 1 Axes>"
      ]
     },
     "metadata": {},
     "output_type": "display_data"
    }
   ],
   "source": [
    "plt.figure(figsize=(8,8))\n",
    "\n",
    "plt.plot(range(1,epochs + 1), train_class.loss_train, label=\"train loss\" )\n",
    "plt.plot(range(1, epochs +1), train_class.loss_valid, label=\"valid loss\")\n",
    "plt.xlabel(\"epochs\")\n",
    "plt.ylabel(\"Loss\")\n",
    "plt.title(\"Loss functions one hidden layer, BS=64\")\n",
    "plt.legend()\n",
    "\n",
    "plt.savefig(\"Loss function OWL BS=64.png\")\n",
    "plt.show()"
   ]
  },
  {
   "cell_type": "code",
   "execution_count": 11,
   "metadata": {},
   "outputs": [
    {
     "data": {
      "image/png": "[encoded data removed]",
      "text/plain": [
       "<Figure size 800x800 with 1 Axes>"
      ]
     },
     "metadata": {},
     "output_type": "display_data"
    }
   ],
   "source": [
    "plt.figure(figsize=(8,8))\n",
    "\n",
    "plt.plot(range(1,epochs + 1), train_class.acc_train, label=\"train accuracy\" )\n",
    "plt.plot(range(1, epochs +1), train_class.acc_valid, label=\"valid accuracy\")\n",
    "plt.xlabel(\"epochs\")\n",
    "plt.ylabel(\"accuracy\")\n",
    "plt.title(\"Accuracy functions one hidden layer, BS=64\")\n",
    "plt.legend()\n",
    "\n",
    "plt.savefig(\"Accuracy function OWL BS=64.png\")"
   ]
  },
  {
   "cell_type": "code",
   "execution_count": 12,
   "metadata": {},
   "outputs": [
    {
     "name": "stderr",
     "output_type": "stream",
     "text": [
      "  4%|▍         | 1/25 [00:06<02:29,  6.25s/it]"
     ]
    },
    {
     "name": "stdout",
     "output_type": "stream",
     "text": [
      "| Epoch: 1/25 | Train: Loss 2.1542 Accuracy : 0.3500 | Val: Loss 2.1834 Accuracy : 0.2643\n",
      "\n"
     ]
    },
    {
     "name": "stderr",
     "output_type": "stream",
     "text": [
      "  8%|▊         | 2/25 [00:11<02:14,  5.83s/it]"
     ]
    },
    {
     "name": "stdout",
     "output_type": "stream",
     "text": [
      "| Epoch: 2/25 | Train: Loss 1.9063 Accuracy : 0.6000 | Val: Loss 1.9833 Accuracy : 0.4984\n",
      "\n"
     ]
    },
    {
     "name": "stderr",
     "output_type": "stream",
     "text": [
      " 12%|█▏        | 3/25 [00:17<02:04,  5.64s/it]"
     ]
    },
    {
     "name": "stdout",
     "output_type": "stream",
     "text": [
      "| Epoch: 3/25 | Train: Loss 1.7395 Accuracy : 0.8600 | Val: Loss 1.8429 Accuracy : 0.6782\n",
      "\n"
     ]
    },
    {
     "name": "stderr",
     "output_type": "stream",
     "text": [
      " 16%|█▌        | 4/25 [00:22<01:52,  5.37s/it]"
     ]
    },
    {
     "name": "stdout",
     "output_type": "stream",
     "text": [
      "| Epoch: 4/25 | Train: Loss 1.6743 Accuracy : 0.9600 | Val: Loss 1.7831 Accuracy : 0.7875\n",
      "\n"
     ]
    },
    {
     "name": "stderr",
     "output_type": "stream",
     "text": [
      " 20%|██        | 5/25 [00:27<01:48,  5.41s/it]"
     ]
    },
    {
     "name": "stdout",
     "output_type": "stream",
     "text": [
      "| Epoch: 5/25 | Train: Loss 1.6358 Accuracy : 0.9800 | Val: Loss 1.7479 Accuracy : 0.8301\n",
      "\n"
     ]
    },
    {
     "name": "stderr",
     "output_type": "stream",
     "text": [
      " 24%|██▍       | 6/25 [00:32<01:42,  5.39s/it]"
     ]
    },
    {
     "name": "stdout",
     "output_type": "stream",
     "text": [
      "| Epoch: 6/25 | Train: Loss 1.6108 Accuracy : 0.9800 | Val: Loss 1.7274 Accuracy : 0.8454\n",
      "\n"
     ]
    },
    {
     "name": "stderr",
     "output_type": "stream",
     "text": [
      " 28%|██▊       | 7/25 [00:38<01:37,  5.39s/it]"
     ]
    },
    {
     "name": "stdout",
     "output_type": "stream",
     "text": [
      "| Epoch: 7/25 | Train: Loss 1.5923 Accuracy : 0.9700 | Val: Loss 1.7128 Accuracy : 0.8481\n",
      "\n"
     ]
    },
    {
     "name": "stderr",
     "output_type": "stream",
     "text": [
      " 32%|███▏      | 8/25 [00:43<01:31,  5.39s/it]"
     ]
    },
    {
     "name": "stdout",
     "output_type": "stream",
     "text": [
      "| Epoch: 8/25 | Train: Loss 1.5726 Accuracy : 0.9700 | Val: Loss 1.6966 Accuracy : 0.8558\n",
      "\n"
     ]
    },
    {
     "name": "stderr",
     "output_type": "stream",
     "text": [
      " 36%|███▌      | 9/25 [00:49<01:27,  5.47s/it]"
     ]
    },
    {
     "name": "stdout",
     "output_type": "stream",
     "text": [
      "| Epoch: 9/25 | Train: Loss 1.5530 Accuracy : 0.9800 | Val: Loss 1.6790 Accuracy : 0.8673\n",
      "\n"
     ]
    },
    {
     "name": "stderr",
     "output_type": "stream",
     "text": [
      " 40%|████      | 10/25 [00:55<01:24,  5.62s/it]"
     ]
    },
    {
     "name": "stdout",
     "output_type": "stream",
     "text": [
      "| Epoch: 10/25 | Train: Loss 1.5360 Accuracy : 0.9800 | Val: Loss 1.6635 Accuracy : 0.8822\n",
      "\n"
     ]
    },
    {
     "name": "stderr",
     "output_type": "stream",
     "text": [
      " 44%|████▍     | 11/25 [01:00<01:14,  5.34s/it]"
     ]
    },
    {
     "name": "stdout",
     "output_type": "stream",
     "text": [
      "| Epoch: 11/25 | Train: Loss 1.5232 Accuracy : 0.9800 | Val: Loss 1.6510 Accuracy : 0.8954\n",
      "\n"
     ]
    },
    {
     "name": "stderr",
     "output_type": "stream",
     "text": [
      " 48%|████▊     | 12/25 [01:04<01:06,  5.15s/it]"
     ]
    },
    {
     "name": "stdout",
     "output_type": "stream",
     "text": [
      "| Epoch: 12/25 | Train: Loss 1.5151 Accuracy : 0.9800 | Val: Loss 1.6429 Accuracy : 0.9040\n",
      "\n"
     ]
    },
    {
     "name": "stderr",
     "output_type": "stream",
     "text": [
      " 52%|█████▏    | 13/25 [01:09<01:00,  5.06s/it]"
     ]
    },
    {
     "name": "stdout",
     "output_type": "stream",
     "text": [
      "| Epoch: 13/25 | Train: Loss 1.5107 Accuracy : 0.9800 | Val: Loss 1.6389 Accuracy : 0.9096\n",
      "\n"
     ]
    },
    {
     "name": "stderr",
     "output_type": "stream",
     "text": [
      " 56%|█████▌    | 14/25 [01:14<00:54,  4.96s/it]"
     ]
    },
    {
     "name": "stdout",
     "output_type": "stream",
     "text": [
      "| Epoch: 14/25 | Train: Loss 1.5063 Accuracy : 0.9900 | Val: Loss 1.6358 Accuracy : 0.9137\n",
      "\n"
     ]
    },
    {
     "name": "stderr",
     "output_type": "stream",
     "text": [
      " 60%|██████    | 15/25 [01:18<00:48,  4.83s/it]"
     ]
    },
    {
     "name": "stdout",
     "output_type": "stream",
     "text": [
      "| Epoch: 15/25 | Train: Loss 1.5009 Accuracy : 0.9900 | Val: Loss 1.6329 Accuracy : 0.9145\n",
      "\n"
     ]
    },
    {
     "name": "stderr",
     "output_type": "stream",
     "text": [
      " 64%|██████▍   | 16/25 [01:23<00:42,  4.73s/it]"
     ]
    },
    {
     "name": "stdout",
     "output_type": "stream",
     "text": [
      "| Epoch: 16/25 | Train: Loss 1.4946 Accuracy : 0.9900 | Val: Loss 1.6293 Accuracy : 0.9147\n",
      "\n"
     ]
    },
    {
     "name": "stderr",
     "output_type": "stream",
     "text": [
      " 68%|██████▊   | 17/25 [01:27<00:37,  4.67s/it]"
     ]
    },
    {
     "name": "stdout",
     "output_type": "stream",
     "text": [
      "| Epoch: 17/25 | Train: Loss 1.4874 Accuracy : 0.9900 | Val: Loss 1.6250 Accuracy : 0.9152\n",
      "\n"
     ]
    },
    {
     "name": "stderr",
     "output_type": "stream",
     "text": [
      " 72%|███████▏  | 18/25 [01:32<00:32,  4.64s/it]"
     ]
    },
    {
     "name": "stdout",
     "output_type": "stream",
     "text": [
      "| Epoch: 18/25 | Train: Loss 1.4817 Accuracy : 0.9900 | Val: Loss 1.6218 Accuracy : 0.9171\n",
      "\n"
     ]
    },
    {
     "name": "stderr",
     "output_type": "stream",
     "text": [
      " 76%|███████▌  | 19/25 [01:37<00:29,  4.88s/it]"
     ]
    },
    {
     "name": "stdout",
     "output_type": "stream",
     "text": [
      "| Epoch: 19/25 | Train: Loss 1.4773 Accuracy : 1.0000 | Val: Loss 1.6194 Accuracy : 0.9186\n",
      "\n"
     ]
    },
    {
     "name": "stderr",
     "output_type": "stream",
     "text": [
      " 80%|████████  | 20/25 [01:44<00:26,  5.35s/it]"
     ]
    },
    {
     "name": "stdout",
     "output_type": "stream",
     "text": [
      "| Epoch: 20/25 | Train: Loss 1.4740 Accuracy : 1.0000 | Val: Loss 1.6177 Accuracy : 0.9200\n",
      "\n"
     ]
    },
    {
     "name": "stderr",
     "output_type": "stream",
     "text": [
      " 84%|████████▍ | 21/25 [01:49<00:21,  5.34s/it]"
     ]
    },
    {
     "name": "stdout",
     "output_type": "stream",
     "text": [
      "| Epoch: 21/25 | Train: Loss 1.4711 Accuracy : 1.0000 | Val: Loss 1.6159 Accuracy : 0.9213\n",
      "\n"
     ]
    },
    {
     "name": "stderr",
     "output_type": "stream",
     "text": [
      " 88%|████████▊ | 22/25 [01:54<00:15,  5.32s/it]"
     ]
    },
    {
     "name": "stdout",
     "output_type": "stream",
     "text": [
      "| Epoch: 22/25 | Train: Loss 1.4691 Accuracy : 1.0000 | Val: Loss 1.6148 Accuracy : 0.9206\n",
      "\n"
     ]
    },
    {
     "name": "stderr",
     "output_type": "stream",
     "text": [
      " 92%|█████████▏| 23/25 [02:00<00:10,  5.33s/it]"
     ]
    },
    {
     "name": "stdout",
     "output_type": "stream",
     "text": [
      "| Epoch: 23/25 | Train: Loss 1.4674 Accuracy : 1.0000 | Val: Loss 1.6143 Accuracy : 0.9210\n",
      "\n"
     ]
    },
    {
     "name": "stderr",
     "output_type": "stream",
     "text": [
      " 96%|█████████▌| 24/25 [02:05<00:05,  5.30s/it]"
     ]
    },
    {
     "name": "stdout",
     "output_type": "stream",
     "text": [
      "| Epoch: 24/25 | Train: Loss 1.4653 Accuracy : 1.0000 | Val: Loss 1.6138 Accuracy : 0.9233\n",
      "\n"
     ]
    },
    {
     "name": "stderr",
     "output_type": "stream",
     "text": [
      "100%|██████████| 25/25 [02:10<00:00,  5.23s/it]\n"
     ]
    },
    {
     "name": "stdout",
     "output_type": "stream",
     "text": [
      "| Epoch: 25/25 | Train: Loss 1.4623 Accuracy : 1.0000 | Val: Loss 1.6121 Accuracy : 0.9237\n",
      "\n"
     ]
    },
    {
     "name": "stderr",
     "output_type": "stream",
     "text": [
      "  4%|▍         | 1/25 [00:05<02:05,  5.24s/it]"
     ]
    },
    {
     "name": "stdout",
     "output_type": "stream",
     "text": [
      "| Epoch: 1/25 | Train: Loss 2.0255 Accuracy : 0.4400 | Val: Loss 2.0794 Accuracy : 0.3573\n",
      "\n"
     ]
    },
    {
     "name": "stderr",
     "output_type": "stream",
     "text": [
      "  8%|▊         | 2/25 [00:10<01:59,  5.18s/it]"
     ]
    },
    {
     "name": "stdout",
     "output_type": "stream",
     "text": [
      "| Epoch: 2/25 | Train: Loss 1.8397 Accuracy : 0.7400 | Val: Loss 1.9285 Accuracy : 0.6129\n",
      "\n"
     ]
    },
    {
     "name": "stderr",
     "output_type": "stream",
     "text": [
      " 12%|█▏        | 3/25 [00:15<01:53,  5.14s/it]"
     ]
    },
    {
     "name": "stdout",
     "output_type": "stream",
     "text": [
      "| Epoch: 3/25 | Train: Loss 1.7298 Accuracy : 0.9100 | Val: Loss 1.8349 Accuracy : 0.7318\n",
      "\n"
     ]
    },
    {
     "name": "stderr",
     "output_type": "stream",
     "text": [
      " 16%|█▌        | 4/25 [00:20<01:47,  5.13s/it]"
     ]
    },
    {
     "name": "stdout",
     "output_type": "stream",
     "text": [
      "| Epoch: 4/25 | Train: Loss 1.6705 Accuracy : 0.9600 | Val: Loss 1.7803 Accuracy : 0.8043\n",
      "\n"
     ]
    },
    {
     "name": "stderr",
     "output_type": "stream",
     "text": [
      " 20%|██        | 5/25 [00:25<01:42,  5.12s/it]"
     ]
    },
    {
     "name": "stdout",
     "output_type": "stream",
     "text": [
      "| Epoch: 5/25 | Train: Loss 1.6320 Accuracy : 0.9600 | Val: Loss 1.7448 Accuracy : 0.8443\n",
      "\n"
     ]
    },
    {
     "name": "stderr",
     "output_type": "stream",
     "text": [
      " 24%|██▍       | 6/25 [00:30<01:37,  5.11s/it]"
     ]
    },
    {
     "name": "stdout",
     "output_type": "stream",
     "text": [
      "| Epoch: 6/25 | Train: Loss 1.5974 Accuracy : 0.9900 | Val: Loss 1.7140 Accuracy : 0.8706\n",
      "\n"
     ]
    },
    {
     "name": "stderr",
     "output_type": "stream",
     "text": [
      " 28%|██▊       | 7/25 [00:36<01:35,  5.31s/it]"
     ]
    },
    {
     "name": "stdout",
     "output_type": "stream",
     "text": [
      "| Epoch: 7/25 | Train: Loss 1.5732 Accuracy : 0.9900 | Val: Loss 1.6925 Accuracy : 0.8833\n",
      "\n"
     ]
    },
    {
     "name": "stderr",
     "output_type": "stream",
     "text": [
      " 32%|███▏      | 8/25 [00:41<01:29,  5.27s/it]"
     ]
    },
    {
     "name": "stdout",
     "output_type": "stream",
     "text": [
      "| Epoch: 8/25 | Train: Loss 1.5584 Accuracy : 0.9900 | Val: Loss 1.6797 Accuracy : 0.8932\n",
      "\n"
     ]
    },
    {
     "name": "stderr",
     "output_type": "stream",
     "text": [
      " 36%|███▌      | 9/25 [00:46<01:23,  5.21s/it]"
     ]
    },
    {
     "name": "stdout",
     "output_type": "stream",
     "text": [
      "| Epoch: 9/25 | Train: Loss 1.5471 Accuracy : 0.9900 | Val: Loss 1.6700 Accuracy : 0.8966\n",
      "\n"
     ]
    },
    {
     "name": "stderr",
     "output_type": "stream",
     "text": [
      " 40%|████      | 10/25 [00:51<01:17,  5.20s/it]"
     ]
    },
    {
     "name": "stdout",
     "output_type": "stream",
     "text": [
      "| Epoch: 10/25 | Train: Loss 1.5365 Accuracy : 0.9900 | Val: Loss 1.6614 Accuracy : 0.8991\n",
      "\n"
     ]
    },
    {
     "name": "stderr",
     "output_type": "stream",
     "text": [
      " 44%|████▍     | 11/25 [00:57<01:16,  5.45s/it]"
     ]
    },
    {
     "name": "stdout",
     "output_type": "stream",
     "text": [
      "| Epoch: 11/25 | Train: Loss 1.5267 Accuracy : 1.0000 | Val: Loss 1.6538 Accuracy : 0.9024\n",
      "\n"
     ]
    },
    {
     "name": "stderr",
     "output_type": "stream",
     "text": [
      " 48%|████▊     | 12/25 [01:03<01:11,  5.52s/it]"
     ]
    },
    {
     "name": "stdout",
     "output_type": "stream",
     "text": [
      "| Epoch: 12/25 | Train: Loss 1.5174 Accuracy : 1.0000 | Val: Loss 1.6473 Accuracy : 0.9040\n",
      "\n"
     ]
    },
    {
     "name": "stderr",
     "output_type": "stream",
     "text": [
      " 52%|█████▏    | 13/25 [01:09<01:07,  5.60s/it]"
     ]
    },
    {
     "name": "stdout",
     "output_type": "stream",
     "text": [
      "| Epoch: 13/25 | Train: Loss 1.5081 Accuracy : 1.0000 | Val: Loss 1.6409 Accuracy : 0.9070\n",
      "\n"
     ]
    },
    {
     "name": "stderr",
     "output_type": "stream",
     "text": [
      " 56%|█████▌    | 14/25 [01:15<01:02,  5.65s/it]"
     ]
    },
    {
     "name": "stdout",
     "output_type": "stream",
     "text": [
      "| Epoch: 14/25 | Train: Loss 1.4991 Accuracy : 1.0000 | Val: Loss 1.6351 Accuracy : 0.9104\n",
      "\n"
     ]
    },
    {
     "name": "stderr",
     "output_type": "stream",
     "text": [
      " 60%|██████    | 15/25 [01:21<00:58,  5.87s/it]"
     ]
    },
    {
     "name": "stdout",
     "output_type": "stream",
     "text": [
      "| Epoch: 15/25 | Train: Loss 1.4918 Accuracy : 1.0000 | Val: Loss 1.6305 Accuracy : 0.9129\n",
      "\n"
     ]
    },
    {
     "name": "stderr",
     "output_type": "stream",
     "text": [
      " 64%|██████▍   | 16/25 [01:27<00:53,  5.89s/it]"
     ]
    },
    {
     "name": "stdout",
     "output_type": "stream",
     "text": [
      "| Epoch: 16/25 | Train: Loss 1.4874 Accuracy : 1.0000 | Val: Loss 1.6282 Accuracy : 0.9146\n",
      "\n"
     ]
    },
    {
     "name": "stderr",
     "output_type": "stream",
     "text": [
      " 68%|██████▊   | 17/25 [01:33<00:47,  6.00s/it]"
     ]
    },
    {
     "name": "stdout",
     "output_type": "stream",
     "text": [
      "| Epoch: 17/25 | Train: Loss 1.4842 Accuracy : 1.0000 | Val: Loss 1.6269 Accuracy : 0.9122\n",
      "\n"
     ]
    },
    {
     "name": "stderr",
     "output_type": "stream",
     "text": [
      " 72%|███████▏  | 18/25 [01:39<00:41,  5.94s/it]"
     ]
    },
    {
     "name": "stdout",
     "output_type": "stream",
     "text": [
      "| Epoch: 18/25 | Train: Loss 1.4803 Accuracy : 1.0000 | Val: Loss 1.6250 Accuracy : 0.9119\n",
      "\n"
     ]
    },
    {
     "name": "stderr",
     "output_type": "stream",
     "text": [
      " 76%|███████▌  | 19/25 [01:45<00:35,  5.91s/it]"
     ]
    },
    {
     "name": "stdout",
     "output_type": "stream",
     "text": [
      "| Epoch: 19/25 | Train: Loss 1.4759 Accuracy : 1.0000 | Val: Loss 1.6229 Accuracy : 0.9141\n",
      "\n"
     ]
    },
    {
     "name": "stderr",
     "output_type": "stream",
     "text": [
      " 80%|████████  | 20/25 [01:51<00:29,  5.83s/it]"
     ]
    },
    {
     "name": "stdout",
     "output_type": "stream",
     "text": [
      "| Epoch: 20/25 | Train: Loss 1.4712 Accuracy : 1.0000 | Val: Loss 1.6206 Accuracy : 0.9166\n",
      "\n"
     ]
    },
    {
     "name": "stderr",
     "output_type": "stream",
     "text": [
      " 84%|████████▍ | 21/25 [01:57<00:23,  6.00s/it]"
     ]
    },
    {
     "name": "stdout",
     "output_type": "stream",
     "text": [
      "| Epoch: 21/25 | Train: Loss 1.4677 Accuracy : 1.0000 | Val: Loss 1.6195 Accuracy : 0.9169\n",
      "\n"
     ]
    },
    {
     "name": "stderr",
     "output_type": "stream",
     "text": [
      " 88%|████████▊ | 22/25 [02:03<00:17,  5.98s/it]"
     ]
    },
    {
     "name": "stdout",
     "output_type": "stream",
     "text": [
      "| Epoch: 22/25 | Train: Loss 1.4644 Accuracy : 1.0000 | Val: Loss 1.6180 Accuracy : 0.9178\n",
      "\n"
     ]
    },
    {
     "name": "stderr",
     "output_type": "stream",
     "text": [
      " 92%|█████████▏| 23/25 [02:09<00:11,  5.93s/it]"
     ]
    },
    {
     "name": "stdout",
     "output_type": "stream",
     "text": [
      "| Epoch: 23/25 | Train: Loss 1.4610 Accuracy : 1.0000 | Val: Loss 1.6162 Accuracy : 0.9184\n",
      "\n"
     ]
    },
    {
     "name": "stderr",
     "output_type": "stream",
     "text": [
      " 96%|█████████▌| 24/25 [02:14<00:05,  5.86s/it]"
     ]
    },
    {
     "name": "stdout",
     "output_type": "stream",
     "text": [
      "| Epoch: 24/25 | Train: Loss 1.4585 Accuracy : 1.0000 | Val: Loss 1.6150 Accuracy : 0.9170\n",
      "\n"
     ]
    },
    {
     "name": "stderr",
     "output_type": "stream",
     "text": [
      "100%|██████████| 25/25 [02:21<00:00,  5.65s/it]"
     ]
    },
    {
     "name": "stdout",
     "output_type": "stream",
     "text": [
      "| Epoch: 25/25 | Train: Loss 1.4569 Accuracy : 1.0000 | Val: Loss 1.6143 Accuracy : 0.9173\n",
      "\n"
     ]
    },
    {
     "name": "stderr",
     "output_type": "stream",
     "text": [
      "\n"
     ]
    }
   ],
   "source": [
    "\n",
    "accuracy_list = [train_class.acc_valid[epochs-1]]\n",
    "for k in range(2):\n",
    "    encoder = Encoder()\n",
    "    model = SupCon(encoder, head='mlp', feat_dim=128)\n",
    "    PATH = './SIMCLR/batch_size_64/pre_trained_supcon_64.pth'\n",
    "    model.load_state_dict(torch.load(PATH))\n",
    "    for name, param in model.named_parameters():\n",
    "        param.requires_grad = False\n",
    "    classifier = LinearClassifier()\n",
    "    #classifier = TwoLayersClassifier()\n",
    "    model.head = classifier\n",
    "    output_fn = torch.nn.Softmax(dim=1)\n",
    "    criterion = nn.CrossEntropyLoss()\n",
    "    optimizer = optim.Adam(model.parameters(), lr=1e-3, betas=(0.9, 0.999), eps=1e-08, weight_decay=1e-3)\n",
    "    epochs = 25\n",
    "    train_class = training(train_loader=train_labeled_loader, val_loader=test_loader, metric=get_accuracy, device=device)\n",
    "    train_class.train(model=model, epochs=epochs, optimizer=optimizer, criterion=criterion, output_fn=output_fn, RGB = False, patience_LR = 3, patience_earlystop = 5)\n",
    "    accuracy_list.append(train_class.acc_valid[epochs-1])\n",
    "    "
   ]
  },
  {
   "cell_type": "code",
   "execution_count": 13,
   "metadata": {},
   "outputs": [
    {
     "name": "stdout",
     "output_type": "stream",
     "text": [
      "the mean is 0.9194333333333334\n",
      "the std is 0.0030169889330625846\n"
     ]
    }
   ],
   "source": [
    "print(f\"the mean is {np.mean(accuracy_list)}\")\n",
    "print(f\"the std is {np.std(accuracy_list)}\")"
   ]
  },
  {
   "cell_type": "code",
   "execution_count": null,
   "metadata": {},
   "outputs": [],
   "source": []
  }
 ],
 "metadata": {
  "kernelspec": {
   "display_name": "Deep_learning_course",
   "language": "python",
   "name": "python3"
  },
  "language_info": {
   "codemirror_mode": {
    "name": "ipython",
    "version": 3
   },
   "file_extension": ".py",
   "mimetype": "text/x-python",
   "name": "python",
   "nbconvert_exporter": "python",
   "pygments_lexer": "ipython3",
   "version": "3.8.15"
  },
  "orig_nbformat": 4
 },
 "nbformat": 4,
 "nbformat_minor": 2
}
