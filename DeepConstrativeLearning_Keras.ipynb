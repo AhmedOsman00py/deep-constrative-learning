{
  "nbformat": 4,
  "nbformat_minor": 0,
  "metadata": {
    "colab": {
      "provenance": [],
      "authorship_tag": "ABX9TyPpEQcb5nMrCPH2Ptt5qoAQ",
      "include_colab_link": true
    },
    "kernelspec": {
      "name": "python3",
      "display_name": "Python 3"
    },
    "language_info": {
      "name": "python"
    }
  },
  "cells": [
    {
      "cell_type": "markdown",
      "metadata": {
        "id": "view-in-github",
        "colab_type": "text"
      },
      "source": [
        "<a href=\"https://colab.research.google.com/github/AhmedOsman00py/deep-constrative-learning/blob/main/DeepConstrativeLearning_Keras.ipynb\" target=\"_parent\"><img src=\"https://colab.research.google.com/assets/colab-badge.svg\" alt=\"Open In Colab\"/></a>"
      ]
    },
    {
      "cell_type": "code",
      "source": [
        "from keras.models import Sequential\n",
        "from keras.layers import Conv2D, MaxPooling2D, Flatten, Dense\n",
        "from keras.preprocessing.image import ImageDataGenerator\n",
        "\n",
        "# define the model architecture\n",
        "model = Sequential()\n",
        "model.add(Conv2D(32, kernel_size=(5, 5), activation='relu', input_shape=(28, 28, 1)))\n",
        "model.add(MaxPooling2D(pool_size=(2, 2)))\n",
        "\n",
        "model.add(Conv2D(64, kernel_size=(5, 5), activation='relu'))\n",
        "model.add(MaxPooling2D(pool_size=(2, 2)))\n",
        "\n",
        "model.add(Flatten())\n",
        "model.add(Dense(128, activation='relu'))\n",
        "model.add(Dense(10, activation='softmax'))\n",
        "\n",
        "# compile the model\n",
        "model.compile(loss='categorical_crossentropy', optimizer='adam', metrics=['accuracy'])\n",
        "\n",
        "# define data augmentation generator\n",
        "datagen = ImageDataGenerator(rotation_range=10, zoom_range=0.1, width_shift_range=0.1, height_shift_range=0.1)\n",
        "\n",
        "# load the MNIST dataset\n",
        "from keras.datasets import mnist\n",
        "(x_train, y_train), (x_test, y_test) = mnist.load_data()\n",
        "\n",
        "# reshape and normalize the input data\n",
        "x_train = x_train.reshape(x_train.shape[0], 28, 28, 1) / 255.0\n",
        "x_test = x_test.reshape(x_test.shape[0], 28, 28, 1) / 255.0\n",
        "\n",
        "# convert the labels to one-hot encoding\n",
        "from keras.utils import to_categorical\n",
        "y_train = to_categorical(y_train)\n",
        "y_test = to_categorical(y_test)\n",
        "\n",
        "# train the model with data augmentation\n",
        "history = model.fit_generator(datagen.flow(x_train, y_train, batch_size=32), \n",
        "                              steps_per_epoch=len(x_train)/32, epochs=10, validation_data=(x_test, y_test))"
      ],
      "metadata": {
        "colab": {
          "base_uri": "https://localhost:8080/"
        },
        "id": "t-qi_xceNqL1",
        "outputId": "34fd5347-fa30-417b-d8cf-3ddececd6230"
      },
      "execution_count": null,
      "outputs": [
        {
          "output_type": "stream",
          "name": "stdout",
          "text": [
            "Downloading data from https://storage.googleapis.com/tensorflow/tf-keras-datasets/mnist.npz\n",
            "11490434/11490434 [==============================] - 2s 0us/step\n"
          ]
        },
        {
          "output_type": "stream",
          "name": "stderr",
          "text": [
            "<ipython-input-3-a864417cf6ae>:35: UserWarning: `Model.fit_generator` is deprecated and will be removed in a future version. Please use `Model.fit`, which supports generators.\n",
            "  history = model.fit_generator(datagen.flow(x_train, y_train, batch_size=32),\n"
          ]
        },
        {
          "output_type": "stream",
          "name": "stdout",
          "text": [
            "Epoch 1/10\n",
            "1875/1875 [==============================] - 39s 15ms/step - loss: 0.2175 - accuracy: 0.9320 - val_loss: 0.0322 - val_accuracy: 0.9884\n",
            "Epoch 2/10\n",
            "1875/1875 [==============================] - 28s 15ms/step - loss: 0.0723 - accuracy: 0.9774 - val_loss: 0.0371 - val_accuracy: 0.9879\n",
            "Epoch 3/10\n",
            "1875/1875 [==============================] - 28s 15ms/step - loss: 0.0549 - accuracy: 0.9825 - val_loss: 0.0219 - val_accuracy: 0.9927\n",
            "Epoch 4/10\n",
            "1875/1875 [==============================] - 27s 14ms/step - loss: 0.0461 - accuracy: 0.9854 - val_loss: 0.0229 - val_accuracy: 0.9924\n",
            "Epoch 5/10\n",
            "1875/1875 [==============================] - 27s 15ms/step - loss: 0.0397 - accuracy: 0.9878 - val_loss: 0.0263 - val_accuracy: 0.9917\n",
            "Epoch 6/10\n",
            "1875/1875 [==============================] - 27s 15ms/step - loss: 0.0382 - accuracy: 0.9884 - val_loss: 0.0245 - val_accuracy: 0.9915\n",
            "Epoch 7/10\n",
            "1875/1875 [==============================] - 27s 14ms/step - loss: 0.0349 - accuracy: 0.9887 - val_loss: 0.0226 - val_accuracy: 0.9929\n",
            "Epoch 8/10\n",
            "1875/1875 [==============================] - 26s 14ms/step - loss: 0.0331 - accuracy: 0.9899 - val_loss: 0.0208 - val_accuracy: 0.9936\n",
            "Epoch 9/10\n",
            "1875/1875 [==============================] - 27s 14ms/step - loss: 0.0303 - accuracy: 0.9905 - val_loss: 0.0161 - val_accuracy: 0.9945\n",
            "Epoch 10/10\n",
            "1875/1875 [==============================] - 27s 14ms/step - loss: 0.0282 - accuracy: 0.9912 - val_loss: 0.0382 - val_accuracy: 0.9881\n"
          ]
        }
      ]
    },
    {
      "cell_type": "code",
      "source": [
        "# load the test data\n",
        "_, (test_images, test_labels) = mnist.load_data()\n",
        "\n",
        "# preprocess the test data\n",
        "test_images = test_images.reshape((-1, 28, 28, 1))\n",
        "test_images = test_images.astype('float32') / 255.0\n",
        "test_labels = to_categorical(test_labels)\n",
        "\n",
        "# evaluate the model on the test data\n",
        "test_loss, test_acc = model.evaluate(test_images, test_labels)\n",
        "print('Test loss:', test_loss)\n",
        "print('Test accuracy:', test_acc)"
      ],
      "metadata": {
        "colab": {
          "base_uri": "https://localhost:8080/"
        },
        "id": "A7l9QtIgOEoV",
        "outputId": "f74dce02-d234-4cd1-f2dd-25d1dc493624"
      },
      "execution_count": null,
      "outputs": [
        {
          "output_type": "stream",
          "name": "stdout",
          "text": [
            "313/313 [==============================] - 1s 3ms/step - loss: 0.0382 - accuracy: 0.9881\n",
            "Test loss: 0.038206495344638824\n",
            "Test accuracy: 0.988099992275238\n"
          ]
        }
      ]
    },
    {
      "cell_type": "code",
      "source": [
        "import matplotlib.pyplot as plt\n",
        "\n",
        "# plot the training and validation accuracy\n",
        "plt.plot(history.history['accuracy'])\n",
        "plt.plot(history.history['val_accuracy'])\n",
        "plt.title('Model Accuracy')\n",
        "plt.ylabel('Accuracy')\n",
        "plt.xlabel('Epoch')\n",
        "plt.legend(['train', 'val'], loc='upper left')\n",
        "plt.show()\n",
        "\n",
        "# plot the training and validation loss\n",
        "plt.plot(history.history['loss'])\n",
        "plt.plot(history.history['val_loss'])\n",
        "plt.title('Model Loss')\n",
        "plt.ylabel('Loss')\n",
        "plt.xlabel('Epoch')\n",
        "plt.legend(['train', 'val'], loc='upper right')\n",
        "plt.show()"
      ],
      "metadata": {
        "colab": {
          "base_uri": "https://localhost:8080/",
          "height": 573
        },
        "id": "7MtiqjE9O0_S",
        "outputId": "93cdc97c-771b-4da6-e344-5b4d353fe370"
      },
      "execution_count": null,
      "outputs": [
        {
          "output_type": "display_data",
          "data": {
            "text/plain": [
              "<Figure size 432x288 with 1 Axes>"
            ],
            "image/png": "[encoded data removed]"
          },
          "metadata": {
            "needs_background": "light"
          }
        },
        {
          "output_type": "display_data",
          "data": {
            "text/plain": [
              "<Figure size 432x288 with 1 Axes>"
            ],
            "image/png": "[encoded data removed]"
          },
          "metadata": {
            "needs_background": "light"
          }
        }
      ]
    }
  ]
}