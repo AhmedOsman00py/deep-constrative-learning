{
 "cells": [
  {
   "cell_type": "code",
   "execution_count": 30,
   "metadata": {},
   "outputs": [],
   "source": [
    "import os\n",
    "import torch\n",
    "from torchvision import datasets, transforms\n",
    "import matplotlib.pyplot as plt\n",
    "import torch.nn as nn\n",
    "import torch.nn.functional as F\n",
    "from collections import defaultdict"
   ]
  },
  {
   "attachments": {},
   "cell_type": "markdown",
   "metadata": {},
   "source": [
    "## Assemblage modèles\n",
    "\n"
   ]
  },
  {
   "cell_type": "code",
   "execution_count": 31,
   "metadata": {},
   "outputs": [],
   "source": [
    "class SupCon(nn.Module):\n",
    "    \"\"\"backbone + projection head\"\"\"\n",
    "    def __init__(self, model, head='mlp', feat_dim=128):\n",
    "        super(SupCon, self).__init__()\n",
    "        \n",
    "        self.dim_in = model._to_linear\n",
    "        self.encoder = model\n",
    "        \n",
    "        if head == 'linear':\n",
    "            self.head = nn.Linear(self.dim_in, feat_dim)\n",
    "        elif head == 'mlp':\n",
    "            self.head = nn.Sequential(\n",
    "                nn.Linear(self.dim_in, self.dim_in),\n",
    "                nn.ReLU(inplace=True),\n",
    "                nn.Linear(self.dim_in, feat_dim)\n",
    "            )\n",
    "        else:\n",
    "            raise NotImplementedError('Head not supported: {}'.format(head))\n",
    "\n",
    "    def forward(self, x):\n",
    "        feat = self.encoder(x)\n",
    "        feat = F.normalize(self.head(feat), dim=1)\n",
    "        return feat"
   ]
  },
  {
   "attachments": {},
   "cell_type": "markdown",
   "metadata": {},
   "source": [
    "## Constrative loss"
   ]
  },
  {
   "cell_type": "code",
   "execution_count": 32,
   "metadata": {},
   "outputs": [],
   "source": [
    "class SupConLoss(nn.Module):\n",
    "    \"\"\"Supervised Contrastive Learning: https://arxiv.org/pdf/2004.11362.pdf.\n",
    "    It also supports the unsupervised contrastive loss in SimCLR\"\"\"\n",
    "    def __init__(self, temperature=0.07, contrast_mode='all',\n",
    "                 base_temperature=0.07):\n",
    "        super(SupConLoss, self).__init__()\n",
    "        self.temperature = temperature\n",
    "        self.contrast_mode = contrast_mode\n",
    "        self.base_temperature = base_temperature\n",
    "\n",
    "    def forward(self, features, labels=None, mask=None):\n",
    "        \"\"\"Compute loss for model. If both `labels` and `mask` are None,\n",
    "        it degenerates to SimCLR unsupervised loss:\n",
    "        https://arxiv.org/pdf/2002.05709.pdf\n",
    "        Args:\n",
    "            features: hidden vector of shape [bsz, n_views, ...].\n",
    "            labels: ground truth of shape [bsz].\n",
    "            mask: contrastive mask of shape [bsz, bsz], mask_{i,j}=1 if sample j\n",
    "                has the same class as sample i. Can be asymmetric.\n",
    "        Returns:\n",
    "            A loss scalar.\n",
    "        \"\"\"\n",
    "        device = (torch.device('cuda')\n",
    "                  if features.is_cuda\n",
    "                  else torch.device('cpu'))\n",
    "\n",
    "        if len(features.shape) < 3:\n",
    "            raise ValueError('`features` needs to be [bsz, n_views, ...],'\n",
    "                             'at least 3 dimensions are required')\n",
    "        if len(features.shape) > 3:\n",
    "            features = features.view(features.shape[0], features.shape[1], -1)\n",
    "\n",
    "        batch_size = features.shape[0]\n",
    "        if labels is not None and mask is not None:\n",
    "            raise ValueError('Cannot define both `labels` and `mask`')\n",
    "        elif labels is None and mask is None:\n",
    "            mask = torch.eye(batch_size, dtype=torch.float32).to(device)\n",
    "        elif labels is not None:\n",
    "            labels = labels.contiguous().view(-1, 1)\n",
    "            if labels.shape[0] != batch_size:\n",
    "                raise ValueError('Num of labels does not match num of features')\n",
    "            mask = torch.eq(labels, labels.T).float().to(device)\n",
    "        else:\n",
    "            mask = mask.float().to(device)\n",
    "\n",
    "        contrast_count = features.shape[1]\n",
    "        contrast_feature = torch.cat(torch.unbind(features, dim=1), dim=0)\n",
    "        if self.contrast_mode == 'one':\n",
    "            anchor_feature = features[:, 0]\n",
    "            anchor_count = 1\n",
    "        elif self.contrast_mode == 'all':\n",
    "            anchor_feature = contrast_feature\n",
    "            anchor_count = contrast_count\n",
    "        else:\n",
    "            raise ValueError('Unknown mode: {}'.format(self.contrast_mode))\n",
    "\n",
    "        # compute logits\n",
    "        anchor_dot_contrast = torch.div(\n",
    "            torch.matmul(anchor_feature, contrast_feature.T),\n",
    "            self.temperature)\n",
    "        # for numerical stability\n",
    "        logits_max, _ = torch.max(anchor_dot_contrast, dim=1, keepdim=True)\n",
    "        logits = anchor_dot_contrast - logits_max.detach()\n",
    "\n",
    "        # tile mask\n",
    "        mask = mask.repeat(anchor_count, contrast_count)\n",
    "        # mask-out self-contrast cases\n",
    "        logits_mask = torch.scatter(\n",
    "            torch.ones_like(mask),\n",
    "            1,\n",
    "            torch.arange(batch_size * anchor_count).view(-1, 1).to(device),\n",
    "            0\n",
    "        )\n",
    "        mask = mask * logits_mask\n",
    "\n",
    "        # compute log_prob\n",
    "        exp_logits = torch.exp(logits) * logits_mask\n",
    "        log_prob = logits - torch.log(exp_logits.sum(1, keepdim=True))\n",
    "\n",
    "        # compute mean of log-likelihood over positive\n",
    "        mean_log_prob_pos = (mask * log_prob).sum(1) / mask.sum(1)\n",
    "\n",
    "        # loss\n",
    "        loss = - (self.temperature / self.base_temperature) * mean_log_prob_pos\n",
    "        loss = loss.view(anchor_count, batch_size).mean()\n",
    "\n",
    "        return loss"
   ]
  },
  {
   "cell_type": "code",
   "execution_count": 33,
   "metadata": {},
   "outputs": [],
   "source": [
    "class MetricMonitor:\n",
    "    def __init__(self, float_precision=4):\n",
    "        self.float_precision = float_precision\n",
    "        self.reset()\n",
    "\n",
    "    def reset(self):\n",
    "        self.metrics = defaultdict(lambda: {\"val\": 0, \"count\": 0, \"avg\": 0})\n",
    "\n",
    "    def update(self, metric_name, val):\n",
    "        metric = self.metrics[metric_name]\n",
    "\n",
    "        metric[\"val\"] += val\n",
    "        metric[\"count\"] += 1\n",
    "        metric[\"avg\"] = metric[\"val\"] / metric[\"count\"]\n",
    "\n",
    "    def __str__(self):\n",
    "        return \" | \".join(\n",
    "            [\n",
    "                \"{metric_name}: {avg:.{float_precision}f}\".format(\n",
    "                    metric_name=metric_name, avg=metric[\"avg\"], float_precision=self.float_precision\n",
    "                )\n",
    "                for (metric_name, metric) in self.metrics.items()\n",
    "            ]\n",
    "        )"
   ]
  },
  {
   "attachments": {},
   "cell_type": "markdown",
   "metadata": {},
   "source": [
    "# Class encoder"
   ]
  },
  {
   "cell_type": "code",
   "execution_count": 34,
   "metadata": {},
   "outputs": [],
   "source": [
    "class Encoder(torch.nn.Module):\n",
    "    \"Encoder network\"\n",
    "    def __init__(self):\n",
    "        super(Encoder, self).__init__()\n",
    "        # L1 (?, 28, 28, 1) -> (?, 28, 28, 32) -> (?, 14, 14, 32)\n",
    "        self.layer1 = torch.nn.Sequential(\n",
    "            torch.nn.Conv2d(1, 32, kernel_size=3, stride=1, padding=1),\n",
    "            torch.nn.BatchNorm2d(32),\n",
    "            torch.nn.ReLU(),\n",
    "            torch.nn.MaxPool2d(kernel_size=2, stride=2),\n",
    "            torch.nn.Dropout(p=0.2)\n",
    "            )\n",
    "        # L2 (?, 14, 14, 32) -> (?, 14, 14, 64) -> (?, 7, 7, 64)\n",
    "        self.layer2 = torch.nn.Sequential(\n",
    "            torch.nn.Conv2d(32, 64, kernel_size=3, stride=1, padding=1),\n",
    "            torch.nn.BatchNorm2d(64),\n",
    "            torch.nn.ReLU(),\n",
    "            torch.nn.MaxPool2d(kernel_size=2, stride=2),\n",
    "            torch.nn.Dropout(p=0.2)\n",
    "            )\n",
    "        # L3 (?, 7, 7, 64) -> (?, 7, 7, 128) -> (?, 4, 4, 128)\n",
    "        self.layer3 = torch.nn.Sequential(\n",
    "            torch.nn.Conv2d(64, 128, kernel_size=3, stride=1, padding=1),\n",
    "            torch.nn.BatchNorm2d(128),\n",
    "            torch.nn.ReLU(),\n",
    "            torch.nn.MaxPool2d(kernel_size=2, stride=2, padding=1),\n",
    "            torch.nn.Dropout(p=0.2)\n",
    "            )\n",
    "        self._to_linear = 4 * 4 * 128\n",
    "\n",
    "    def forward(self, x):\n",
    "        x = self.layer1(x)\n",
    "        x = self.layer2(x)\n",
    "        x = self.layer3(x)\n",
    "        x = x.view(x.size(0), -1) # Flatten them for FC\n",
    "        return x"
   ]
  },
  {
   "cell_type": "code",
   "execution_count": 35,
   "metadata": {},
   "outputs": [],
   "source": [
    "class TwoCropTransform:\n",
    "    \"\"\"Create two crops of the same image\"\"\"\n",
    "    def __init__(self, transform):\n",
    "        self.transform = transform\n",
    "\n",
    "    def __call__(self, x):\n",
    "        return [self.transform(x), self.transform(x)]"
   ]
  },
  {
   "cell_type": "code",
   "execution_count": 36,
   "metadata": {},
   "outputs": [],
   "source": [
    "def calculate_accuracy(output, target):\n",
    "    \"Calculates accuracy\"\n",
    "    output = output.data.max(dim=1,keepdim=True)[1]\n",
    "    output = output == 1.0\n",
    "    output = torch.flatten(output)\n",
    "    target = target == 1.0\n",
    "    target = torch.flatten(target)\n",
    "    return torch.true_divide((target == output).sum(dim=0), output.size(0)).item() "
   ]
  },
  {
   "cell_type": "code",
   "execution_count": 37,
   "metadata": {},
   "outputs": [],
   "source": [
    "def pretraining(epoch, model, contrastive_loader, optimizer, criterion, method='SimCLR'):\n",
    "    \"Contrastive pre-training over an epoch\"\n",
    "    metric_monitor = MetricMonitor()\n",
    "    model.train()\n",
    "    for batch_idx, (data,labels) in enumerate(contrastive_loader):\n",
    "        data = torch.cat([data[0], data[1]], dim=0)\n",
    "        if torch.cuda.is_available():\n",
    "            data,labels = data.cuda(), labels.cuda()\n",
    "        data, labels = torch.autograd.Variable(data,False), torch.autograd.Variable(labels)\n",
    "        bsz = labels.shape[0]\n",
    "        features = model(data)\n",
    "        f1, f2 = torch.split(features, [bsz, bsz], dim=0)\n",
    "        features = torch.cat([f1.unsqueeze(1), f2.unsqueeze(1)], dim=1)\n",
    "        if method == 'SupCon':\n",
    "            loss = criterion(features, labels)\n",
    "        elif method == 'SimCLR':\n",
    "            loss = criterion(features)\n",
    "        else:\n",
    "            raise ValueError('contrastive method not supported: {}'.format(method))\n",
    "        metric_monitor.update(\"Loss\", loss.item())\n",
    "        metric_monitor.update(\"Learning Rate\", optimizer.param_groups[0]['lr'])\n",
    "        optimizer.zero_grad()\n",
    "        loss.backward()\n",
    "        optimizer.step()\n",
    "    print(\"[Epoch: {epoch:03d}] Contrastive Pre-train | {metric_monitor}\".format(epoch=epoch, metric_monitor=metric_monitor))\n",
    "    return metric_monitor.metrics['Loss']['avg'], metric_monitor.metrics['Learning Rate']['avg']"
   ]
  },
  {
   "cell_type": "code",
   "execution_count": 40,
   "metadata": {},
   "outputs": [],
   "source": [
    "num_epochs = 100\n",
    "use_early_stopping = True\n",
    "use_scheduler = True\n",
    "head_type = 'mlp' # choose among 'mlp' and 'linear\"\n",
    "method = 'SimCLR' # choose among 'SimCLR' and 'SupCon'"
   ]
  },
  {
   "cell_type": "code",
   "execution_count": 41,
   "metadata": {},
   "outputs": [],
   "source": [
    "contrastive_transform = transforms.Compose([\n",
    "                                       transforms.RandomHorizontalFlip(),\n",
    "                                       transforms.RandomResizedCrop(size=28, scale=(0.2, 1.)),\n",
    "                                       transforms.ToTensor(),\n",
    "                                       transforms.Normalize((0.5,), (0.5,)),\n",
    "                                       ])"
   ]
  },
  {
   "cell_type": "code",
   "execution_count": 42,
   "metadata": {},
   "outputs": [],
   "source": [
    "contrastive_set = datasets.MNIST('./data', download=True, train=True, transform=TwoCropTransform(contrastive_transform))"
   ]
  },
  {
   "cell_type": "code",
   "execution_count": 43,
   "metadata": {},
   "outputs": [],
   "source": [
    "contrastive_loader = torch.utils.data.DataLoader(contrastive_set, batch_size=64, shuffle=True)"
   ]
  },
  {
   "cell_type": "code",
   "execution_count": 44,
   "metadata": {},
   "outputs": [
    {
     "ename": "AttributeError",
     "evalue": "'MetricMonitor' object has no attribute 'reset'",
     "output_type": "error",
     "traceback": [
      "\u001b[1;31m---------------------------------------------------------------------------\u001b[0m",
      "\u001b[1;31mAttributeError\u001b[0m                            Traceback (most recent call last)",
      "Cell \u001b[1;32mIn[44], line 13\u001b[0m\n\u001b[0;32m     10\u001b[0m contrastive_loss, contrastive_lr \u001b[39m=\u001b[39m [], []\n\u001b[0;32m     12\u001b[0m \u001b[39mfor\u001b[39;00m epoch \u001b[39min\u001b[39;00m \u001b[39mrange\u001b[39m(\u001b[39m1\u001b[39m, num_epochs\u001b[39m+\u001b[39m\u001b[39m1\u001b[39m):\n\u001b[1;32m---> 13\u001b[0m     loss, lr \u001b[39m=\u001b[39m pretraining(epoch, model, contrastive_loader, optimizer, criterion, method\u001b[39m=\u001b[39;49mmethod)\n\u001b[0;32m     14\u001b[0m     \u001b[39mif\u001b[39;00m use_scheduler:\n\u001b[0;32m     15\u001b[0m         scheduler\u001b[39m.\u001b[39mstep()\n",
      "Cell \u001b[1;32mIn[37], line 3\u001b[0m, in \u001b[0;36mpretraining\u001b[1;34m(epoch, model, contrastive_loader, optimizer, criterion, method)\u001b[0m\n\u001b[0;32m      1\u001b[0m \u001b[39mdef\u001b[39;00m \u001b[39mpretraining\u001b[39m(epoch, model, contrastive_loader, optimizer, criterion, method\u001b[39m=\u001b[39m\u001b[39m'\u001b[39m\u001b[39mSimCLR\u001b[39m\u001b[39m'\u001b[39m):\n\u001b[0;32m      2\u001b[0m     \u001b[39m\"\u001b[39m\u001b[39mContrastive pre-training over an epoch\u001b[39m\u001b[39m\"\u001b[39m\n\u001b[1;32m----> 3\u001b[0m     metric_monitor \u001b[39m=\u001b[39m MetricMonitor()\n\u001b[0;32m      4\u001b[0m     model\u001b[39m.\u001b[39mtrain()\n\u001b[0;32m      5\u001b[0m     \u001b[39mfor\u001b[39;00m batch_idx, (data,labels) \u001b[39min\u001b[39;00m \u001b[39menumerate\u001b[39m(contrastive_loader):\n",
      "Cell \u001b[1;32mIn[33], line 4\u001b[0m, in \u001b[0;36mMetricMonitor.__init__\u001b[1;34m(self, float_precision)\u001b[0m\n\u001b[0;32m      2\u001b[0m \u001b[39mdef\u001b[39;00m \u001b[39m__init__\u001b[39m(\u001b[39mself\u001b[39m, float_precision\u001b[39m=\u001b[39m\u001b[39m4\u001b[39m):\n\u001b[0;32m      3\u001b[0m     \u001b[39mself\u001b[39m\u001b[39m.\u001b[39mfloat_precision \u001b[39m=\u001b[39m float_precision\n\u001b[1;32m----> 4\u001b[0m     \u001b[39mself\u001b[39;49m\u001b[39m.\u001b[39;49mreset()\n",
      "\u001b[1;31mAttributeError\u001b[0m: 'MetricMonitor' object has no attribute 'reset'"
     ]
    }
   ],
   "source": [
    "encoder = Encoder()\n",
    "model = SupCon(encoder, head=head_type, feat_dim=128)\n",
    "criterion = SupConLoss(temperature=0.07)\n",
    "if torch.cuda.is_available():\n",
    "    model = model.cuda()\n",
    "    criterion = criterion.cuda()   \n",
    "optimizer = torch.optim.Adam(model.parameters(), lr=1e-3, betas=(0.9, 0.999), eps=1e-08, weight_decay=1e-3)\n",
    "scheduler = torch.optim.lr_scheduler.StepLR(optimizer, step_size=20, gamma=0.9)\n",
    "\n",
    "contrastive_loss, contrastive_lr = [], []\n",
    "    \n",
    "for epoch in range(1, num_epochs+1):\n",
    "    loss, lr = pretraining(epoch, model, contrastive_loader, optimizer, criterion, method=method)\n",
    "    if use_scheduler:\n",
    "        scheduler.step()\n",
    "    contrastive_loss.append(loss)\n",
    "    contrastive_lr.append(lr)"
   ]
  },
  {
   "cell_type": "code",
   "execution_count": null,
   "metadata": {},
   "outputs": [],
   "source": [
    "plt.plot(range(1,len(contrastive_lr)+1),contrastive_lr, color='b', label = 'learning rate')\n",
    "plt.legend(), plt.ylabel('loss'), plt.xlabel('epochs'), plt.title('Learning Rate'), plt.show()\n",
    "    \n",
    "plt.plot(range(1,len(contrastive_loss)+1),contrastive_loss, color='b', label = 'loss')\n",
    "plt.legend(), plt.ylabel('loss'), plt.xlabel('epochs'), plt.title('Loss'), plt.show()"
   ]
  },
  {
   "cell_type": "code",
   "execution_count": null,
   "metadata": {},
   "outputs": [],
   "source": [
    "PATH = './pre_trained_supcon.pth'\n",
    "torch.save(model.state_dict(), PATH)"
   ]
  }
 ],
 "metadata": {
  "kernelspec": {
   "display_name": "Deep_learning_course",
   "language": "python",
   "name": "python3"
  },
  "language_info": {
   "codemirror_mode": {
    "name": "ipython",
    "version": 3
   },
   "file_extension": ".py",
   "mimetype": "text/x-python",
   "name": "python",
   "nbconvert_exporter": "python",
   "pygments_lexer": "ipython3",
   "version": "3.8.15"
  },
  "orig_nbformat": 4
 },
 "nbformat": 4,
 "nbformat_minor": 2
}
